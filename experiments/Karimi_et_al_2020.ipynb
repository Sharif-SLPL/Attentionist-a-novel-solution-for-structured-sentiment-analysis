{
  "cells": [
    {
      "cell_type": "markdown",
      "metadata": {
        "id": "view-in-github",
        "colab_type": "text"
      },
      "source": [
        "<a href=\"https://colab.research.google.com/github/sadra-barikbin/novel-solutions-for-ABSA/blob/main/experiments/Karimi_et_al_2020.ipynb\" target=\"_parent\"><img src=\"https://colab.research.google.com/assets/colab-badge.svg\" alt=\"Open In Colab\"/></a>"
      ]
    },
    {
      "cell_type": "code",
      "metadata": {
        "id": "bcp4vqhdG6UC"
      },
      "source": [
        "!pip install transformers"
      ],
      "execution_count": null,
      "outputs": [],
      "id": "bcp4vqhdG6UC"
    },
    {
      "cell_type": "code",
      "metadata": {
        "id": "ahPXOTPeEMvs"
      },
      "source": [
        "import json\n",
        "import torch\n",
        "import torch.nn.functional     as     F\n",
        "import numpy                   as     np\n",
        "import matplotlib.pyplot       as     plt\n",
        "from   tqdm                                         import tqdm\n",
        "from   torch.utils.data                             import DataLoader, Dataset\n",
        "from   torch.utils.tensorboard                      import SummaryWriter\n",
        "from   torch                                        import nn,Tensor\n",
        "from   transformers                                 import RobertaModel, RobertaTokenizer\n",
        "from   transformers.models.roberta.modeling_roberta import RobertaLayer,RobertaPooler\n",
        "from   typing                                       import Tuple,Dict\n",
        "from   timeit                                       import timeit"
      ],
      "execution_count": null,
      "outputs": [],
      "id": "ahPXOTPeEMvs"
    },
    {
      "cell_type": "code",
      "metadata": {
        "id": "6cPz7336fz59"
      },
      "source": [
        "%load_ext tensorboard\n",
        "%tensorboard --logdir /content/drive/MyDrive/logs"
      ],
      "execution_count": null,
      "outputs": [],
      "id": "6cPz7336fz59"
    },
    {
      "cell_type": "markdown",
      "metadata": {
        "id": "i9bc35-dxGH6"
      },
      "source": [
        "Run the snippet below in the browser console to show the Tensorboard as a separate tab.\n",
        "\n",
        "```\n",
        "for(let elem of document.getElementsByTagName('iframe')){\n",
        "    if( elem.src.includes(\"tensorboardColab\")){\n",
        "        window.open(elem.src)\n",
        "        break\n",
        "    }\n",
        "}\n",
        "```"
      ],
      "id": "i9bc35-dxGH6"
    },
    {
      "cell_type": "code",
      "metadata": {
        "id": "hKDzMA7ogn3v"
      },
      "source": [
        "board = SummaryWriter()"
      ],
      "execution_count": null,
      "outputs": [],
      "id": "hKDzMA7ogn3v"
    },
    {
      "cell_type": "code",
      "metadata": {
        "id": "FEWz8bQsgDA-"
      },
      "source": [
        "from tensorboard import notebook\n",
        "notebook.list() # View open TensorBoard instances\n",
        "# Control TensorBoard display. If no port is provided, \n",
        "# the most recently launched TensorBoard is used\n",
        "notebook.display(port=6006, height=1000) "
      ],
      "execution_count": null,
      "outputs": [],
      "id": "FEWz8bQsgDA-"
    },
    {
      "cell_type": "markdown",
      "metadata": {
        "id": "SYWqcMFKILkk"
      },
      "source": [
        "# Data Preparation"
      ],
      "id": "SYWqcMFKILkk"
    },
    {
      "cell_type": "code",
      "metadata": {
        "id": "FUal5bH99fIO"
      },
      "source": [
        "class SentimentClassificationDataset(Dataset):\n",
        "  def __init__(self, raw_dataset):\n",
        "    super(SentimentClassificationDataset,self).__init__()\n",
        "    self.raw_dataset = dict(sorted(raw_dataset.items()))\n",
        "    self.index_to_id = dict(enumerate(self.raw_dataset))\n",
        "  def __len__(self):\n",
        "    return len(self.raw_dataset)\n",
        "\n",
        "  def __getitem__(self, index) -> Tuple[str, float]:\n",
        "    item = self.raw_dataset[self.index_to_id[index]]\n",
        "    target = 2 if item['polarity'] == 'positive' else \\\n",
        "      0 if item['polarity'] == 'negative' else 1\n",
        "    return item['sentence'], target"
      ],
      "execution_count": null,
      "outputs": [],
      "id": "FUal5bH99fIO"
    },
    {
      "cell_type": "markdown",
      "source": [
        "## SemEval2016 Restaurant"
      ],
      "metadata": {
        "id": "vIptlb8qOpGL"
      },
      "id": "vIptlb8qOpGL"
    },
    {
      "cell_type": "code",
      "metadata": {
        "id": "dn_Sk_CJIQcv"
      },
      "source": [
        "train_set = json.load(open(\"/content/drive/MyDrive/akbar_train.json\"))\n",
        "dev_set   = json.load(open(\"/content/drive/MyDrive/akbar_dev.json\"))\n",
        "test_set  = json.load(open(\"/content/drive/MyDrive/akbar_test.json\"))"
      ],
      "execution_count": null,
      "outputs": [],
      "id": "dn_Sk_CJIQcv"
    },
    {
      "cell_type": "code",
      "metadata": {
        "id": "L6ukqSEsKwAp"
      },
      "source": [
        "train_dataset = SentimentClassificationDataset(train_set)\n",
        "dev_dataset   = SentimentClassificationDataset(dev_set)\n",
        "test_dataset  = SentimentClassificationDataset(test_set) "
      ],
      "execution_count": null,
      "outputs": [],
      "id": "L6ukqSEsKwAp"
    },
    {
      "cell_type": "code",
      "metadata": {
        "colab": {
          "base_uri": "https://localhost:8080/"
        },
        "id": "CFYm8_63PGdC",
        "outputId": "d0930b6a-82f9-46f9-cb01-632131736a7a"
      },
      "source": [
        "#Total train data in MB. Later in Accelerated mode, I need to know this stat.\n",
        "(sum([len(train[x]['sentence'].split()) for x in train])*768*8)/(1024*1024)"
      ],
      "execution_count": null,
      "outputs": [
        {
          "output_type": "execute_result",
          "data": {
            "text/plain": [
              "355.283203125"
            ]
          },
          "metadata": {},
          "execution_count": 24
        }
      ],
      "id": "CFYm8_63PGdC"
    },
    {
      "cell_type": "markdown",
      "metadata": {
        "id": "mVFOSUepVLu7"
      },
      "source": [
        "# Model Definition"
      ],
      "id": "mVFOSUepVLu7"
    },
    {
      "cell_type": "code",
      "metadata": {
        "id": "GjFBMOpeH-uB"
      },
      "source": [
        "torch.manual_seed(40)\n",
        "tokenizer = RobertaTokenizer.from_pretrained('roberta-base')"
      ],
      "execution_count": null,
      "outputs": [],
      "id": "GjFBMOpeH-uB"
    },
    {
      "cell_type": "code",
      "metadata": {
        "id": "lNmwQMTnVdn7"
      },
      "source": [
        "class SentimentClassifier(nn.Module):\n",
        "  def __init__(self):\n",
        "    super(SentimentClassifier, self).__init__()\n",
        "    self.roberta = RobertaModel.from_pretrained('roberta-base', output_attentions=False,\n",
        "                                                add_pooling_layer=False)\n",
        "    self.cls = nn.ModuleList([ nn.Linear(768,70), nn.ReLU(), nn.Flatten(1, -1),\\\n",
        "                             nn.AdaptiveMaxPool1d(20), nn.Linear(20, 1), nn.Tanh()])\n",
        "\n",
        "  def forward(self, input: Tensor) -> Tensor:\n",
        "    embedding = self.roberta(**input).last_hidden_state\n",
        "    immediate = embedding\n",
        "    for layer in self.cls:\n",
        "      immediate = layer(immediate)\n",
        "    return immediate.squeeze(dim=-1)\n",
        "\n"
      ],
      "execution_count": null,
      "outputs": [],
      "id": "lNmwQMTnVdn7"
    },
    {
      "cell_type": "code",
      "source": [
        "class AkbarSentimentClassifier(nn.Module):\n",
        "  def __init__(self):\n",
        "    super(AkbarSentimentClassifier,self).__init__()\n",
        "    self.roberta = RobertaModel.from_pretrained('roberta-base', output_attentions=False,\n",
        "                                                add_pooling_layer=False)\n",
        "    self.novelty = nn.ModuleDict({\n",
        "        'intermediates' : nn.ModuleList([RobertaLayer(self.roberta.config) for _ in range(4)]),\n",
        "        'pooler' : RobertaPooler(self.roberta.config),\n",
        "        'cls' : nn.Linear(768, 3)\n",
        "    })\n",
        "\n",
        "  def forward(self,input: Dict[str,Tensor]) -> Tensor:\n",
        "    roberta_output = self.roberta(**input, output_hidden_states=True)\n",
        "    logits = []\n",
        "\n",
        "    # `get_extended_attention_mask` is defined as a method of class `ModuleUtilsMixin`\n",
        "    # in `modelling_utils.py`  of `transformers` library. `ModuleUtilsMixin` is base class\n",
        "    # for `PreTrainedModel` class that itself is base class for all library models. When\n",
        "    # one calls a `RobertaModel` instance on an input, the `get_extended_attention_mask` is\n",
        "    # automatically called on the intput's `attention_mask`, but if one calls a `RobertaLayer`\n",
        "    # instance on the same input, the `get_extended_attention_mask` method is not called\n",
        "    # and an error will be raised, so one should call `get_extended_attention_mask` himself.\n",
        "    attention_mask = input['attention_mask']\n",
        "    extended_attn_mask = self.roberta.get_extended_attention_mask(attention_mask,\n",
        "                                                                  attention_mask.shape,\n",
        "                                                                  attention_mask.device)\n",
        "    for i in range(4):\n",
        "      temp = self.novelty.intermediates[i](roberta_output.hidden_states[-(i+1)], attention_mask=extended_attn_mask)[0]\n",
        "      pooled = self.novelty.pooler(temp)\n",
        "      logits.append(self.novelty.cls(pooled))\n",
        "    return logits"
      ],
      "metadata": {
        "id": "H9gGrufdZjuc"
      },
      "execution_count": null,
      "outputs": [],
      "id": "H9gGrufdZjuc"
    },
    {
      "cell_type": "markdown",
      "metadata": {
        "id": "Fwsh1WlM5ZxO"
      },
      "source": [
        "# Train"
      ],
      "id": "Fwsh1WlM5ZxO"
    },
    {
      "cell_type": "code",
      "metadata": {
        "id": "lE2r0_YnZO8a",
        "colab": {
          "base_uri": "https://localhost:8080/"
        },
        "outputId": "50825dc5-0286-476d-fd60-93e5aa630d81"
      },
      "source": [
        "model = AkbarSentimentClassifier().cuda()\n",
        "\n",
        "optimizer_parameter_groups = [\n",
        "  {'params': list(model.roberta.parameters()),'lr': 1e-5},\n",
        "  {'params': list(model.novelty.parameters()), 'lr': 1e-3}\n",
        "]\n",
        "optimizer = torch.optim.AdamW(optimizer_parameter_groups)"
      ],
      "execution_count": null,
      "outputs": [
        {
          "output_type": "stream",
          "name": "stderr",
          "text": [
            "Some weights of the model checkpoint at roberta-base were not used when initializing RobertaModel: ['roberta.pooler.dense.bias', 'lm_head.dense.bias', 'lm_head.layer_norm.weight', 'lm_head.bias', 'roberta.pooler.dense.weight', 'lm_head.layer_norm.bias', 'lm_head.dense.weight', 'lm_head.decoder.weight']\n",
            "- This IS expected if you are initializing RobertaModel from the checkpoint of a model trained on another task or with another architecture (e.g. initializing a BertForSequenceClassification model from a BertForPreTraining model).\n",
            "- This IS NOT expected if you are initializing RobertaModel from the checkpoint of a model that you expect to be exactly identical (initializing a BertForSequenceClassification model from a BertForSequenceClassification model).\n"
          ]
        }
      ],
      "id": "lE2r0_YnZO8a"
    },
    {
      "cell_type": "code",
      "metadata": {
        "id": "42dSjoimQEu6"
      },
      "source": [
        "train_history = np.empty((0,2))\n",
        "dev_history   = np.empty((0,2))\n",
        "best_loss = np.inf"
      ],
      "execution_count": null,
      "outputs": [],
      "id": "42dSjoimQEu6"
    },
    {
      "cell_type": "code",
      "source": [
        "model"
      ],
      "metadata": {
        "id": "Bn5wIs-fhD3l"
      },
      "execution_count": null,
      "outputs": [],
      "id": "Bn5wIs-fhD3l"
    },
    {
      "cell_type": "code",
      "metadata": {
        "id": "nq1Rm46T5bQR",
        "colab": {
          "base_uri": "https://localhost:8080/"
        },
        "outputId": "8102e38f-b63a-4cb6-8778-994ab4c374d8"
      },
      "source": [
        "train_dataloader = DataLoader(train_dataset, 128, shuffle=True)\n",
        "dev_dataloader = DataLoader(dev_dataset, 128)\n",
        "\n",
        "for epoch in tqdm(range(15)):\n",
        "  model.train()\n",
        "  batches_stat = []\n",
        "  for sentence_batch, polarity_batch in train_dataloader:\n",
        "    encoded_batch = tokenizer.batch_encode_plus(sentence_batch, return_tensors='pt', padding=True)\n",
        "    encoded_batch = {k: v.cuda() for k, v in encoded_batch.items()}\n",
        "    polarity_batch = polarity_batch.cuda()\n",
        "    polarity_one_hot_batch = F.one_hot(polarity_batch, num_classes=3)\n",
        "    logits_list = model(encoded_batch)\n",
        "    loss = F.cross_entropy(torch.cat(logits_list),\n",
        "                           polarity_one_hot_batch.repeat(len(logits_list), 1).float())\n",
        "    with torch.no_grad():\n",
        "      logits_avg = torch.stack(logits_list).sum(dim=0) / len(logits_list)\n",
        "      acc = torch.mean((logits_avg.argmax(dim=1) == polarity_batch).float())\n",
        "    # Default collate_fn of DataLoader outputs an array of floats as a torch.DoubleTensor\n",
        "    # loss = F.mse_loss(polarity_prediction_batch, polarity_batch.float().cuda())\n",
        "    batches_stat.append((loss.item(), acc.item()))\n",
        "    optimizer.zero_grad()\n",
        "    loss.backward()\n",
        "    optimizer.step()\n",
        "  train_history = np.append(train_history, [np.mean(batches_stat, axis=0)], axis=0)\n",
        "  batches_stat = []\n",
        "  model.eval()\n",
        "  for sentence_batch, polarity_batch in dev_dataloader:\n",
        "    encoded_batch = tokenizer.batch_encode_plus(sentence_batch, return_tensors='pt', padding=True)\n",
        "    encoded_batch = {k: v.cuda() for k, v in encoded_batch.items()}\n",
        "    polarity_batch = polarity_batch.cuda()\n",
        "    polarity_one_hot_batch = F.one_hot(polarity_batch, num_classes=3)\n",
        "    with torch.no_grad():\n",
        "      logits_list = model(encoded_batch)\n",
        "      loss = F.cross_entropy(torch.cat(logits_list),\n",
        "                           polarity_one_hot_batch.repeat(len(logits_list), 1).float())\n",
        "      logits_avg = torch.stack(logits_list).sum(dim=0) / len(logits_list)\n",
        "      acc = torch.mean((logits_avg.argmax(dim=1) == polarity_batch).float())\n",
        "    batches_stat.append((loss.item(), acc.item()))\n",
        "  epoch_stat = np.mean(batches_stat, axis=0)\n",
        "  epoch_mean_loss = epoch_stat[0]\n",
        "  if epoch_mean_loss < best_loss:\n",
        "    best_loss = epoch_mean_loss\n",
        "    torch.save(model.state_dict(),'/content/drive/MyDrive/akbar.pt')\n",
        "  dev_history = np.append(dev_history, [epoch_stat], axis=0) "
      ],
      "execution_count": null,
      "outputs": [
        {
          "output_type": "stream",
          "name": "stderr",
          "text": [
            "100%|██████████| 15/15 [07:36<00:00, 30.45s/it]\n"
          ]
        }
      ],
      "id": "nq1Rm46T5bQR"
    },
    {
      "cell_type": "code",
      "metadata": {
        "colab": {
          "base_uri": "https://localhost:8080/",
          "height": 282
        },
        "id": "Gp6-SBNvPeSy",
        "outputId": "f1177840-1673-4269-93b1-0a580c386896"
      },
      "source": [
        "_, axes = plt.subplots(2, 1, sharex=True)\n",
        "axes[0].plot(train_history[:, 0])\n",
        "axes[0].plot(dev_history[:, 0])\n",
        "axes[0].set_ylabel('Loss')\n",
        "axes[0].legend(['Train', 'Validation'], loc='upper right')\n",
        "axes[1].plot(train_history[:, 1])\n",
        "axes[1].plot(dev_history[:, 1])\n",
        "axes[1].set_ylabel('Accuracy')\n",
        "axes[1].legend(['Train', 'Validation'], loc='upper left')"
      ],
      "execution_count": null,
      "outputs": [
        {
          "output_type": "execute_result",
          "data": {
            "text/plain": [
              "<matplotlib.legend.Legend at 0x7f772c5d2350>"
            ]
          },
          "metadata": {},
          "execution_count": 12
        },
        {
          "output_type": "display_data",
          "data": {
            "image/png": "[encoded data removed]",
            "text/plain": [
              "<Figure size 432x288 with 2 Axes>"
            ]
          },
          "metadata": {
            "needs_background": "light"
          }
        }
      ],
      "id": "Gp6-SBNvPeSy"
    },
    {
      "cell_type": "markdown",
      "metadata": {
        "id": "2dWDBBewjXBA"
      },
      "source": [
        "# Test"
      ],
      "id": "2dWDBBewjXBA"
    },
    {
      "cell_type": "code",
      "metadata": {
        "id": "3PV5nm2WjbZJ",
        "colab": {
          "base_uri": "https://localhost:8080/"
        },
        "outputId": "ef780c0d-229e-45ca-b019-f0b7f3a3a39e"
      },
      "source": [
        "test_dataloader = DataLoader(test_dataset, 128)\n",
        "true_preds = 0.\n",
        "batches_loss = []\n",
        "model.eval()\n",
        "for sentence_batch, polarity_batch in test_dataloader:\n",
        "  encoded_batch = tokenizer.batch_encode_plus(sentence_batch, return_tensors='pt', padding=True)\n",
        "  encoded_batch = {k: v.cuda() for k, v in encoded_batch.items()}\n",
        "  polarity_batch = polarity_batch.cuda()\n",
        "  polarity_one_hot_batch = F.one_hot(polarity_batch, num_classes=3)\n",
        "  with torch.no_grad():\n",
        "    logits_list = model(encoded_batch)\n",
        "    loss = F.cross_entropy(torch.cat(logits_list),\n",
        "                          polarity_one_hot_batch.repeat(len(logits_list), 1).float())\n",
        "    logits_avg = torch.stack(logits_list).sum(dim=0) / len(logits_list)\n",
        "    true_preds += torch.sum(logits_avg.argmax(dim=1) == polarity_batch).item()\n",
        "  batches_loss.append(loss.item())\n",
        "print(f\"Accuracy: {true_preds/len(test_dataset)*100:.2f}% Loss: {np.mean(batches_loss):.2f}\")"
      ],
      "execution_count": null,
      "outputs": [
        {
          "output_type": "stream",
          "name": "stdout",
          "text": [
            "Accuracy: 82.05% Loss: 0.68\n"
          ]
        }
      ],
      "id": "3PV5nm2WjbZJ"
    }
  ],
  "metadata": {
    "kernelspec": {
      "display_name": "Python 3",
      "language": "python",
      "name": "python3"
    },
    "language_info": {
      "codemirror_mode": {
        "name": "ipython",
        "version": 3
      },
      "file_extension": ".py",
      "mimetype": "text/x-python",
      "name": "python",
      "nbconvert_exporter": "python",
      "pygments_lexer": "ipython3",
      "version": "3.6.9"
    },
    "colab": {
      "name": "Karimi_et_al_2020.ipynb",
      "provenance": [],
      "include_colab_link": true
    }
  },
  "nbformat": 4,
  "nbformat_minor": 5
}