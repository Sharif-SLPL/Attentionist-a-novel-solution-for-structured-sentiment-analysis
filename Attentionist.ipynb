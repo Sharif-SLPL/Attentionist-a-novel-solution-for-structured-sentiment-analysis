{
  "nbformat": 4,
  "nbformat_minor": 0,
  "metadata": {
    "colab": {
      "name": "Attentionist.ipynb",
      "provenance": [],
      "collapsed_sections": [
        "BavWNgZOmqxv",
        "ausHwICT5bHf",
        "O9RU5OlBoJRW"
      ],
      "toc_visible": true,
      "mount_file_id": "1v0Sw6xGXqtVhLzfWiSAYqueza0ypUMcF",
      "authorship_tag": "ABX9TyMNlbdcb58deyRpzRfAjW5e",
      "include_colab_link": true
    },
    "kernelspec": {
      "name": "python3",
      "display_name": "Python 3"
    },
    "language_info": {
      "name": "python"
    },
    "widgets": {
      "application/vnd.jupyter.widget-state+json": {
        "dde73bb0d5884cb595f92c6c809f4466": {
          "model_module": "@jupyter-widgets/controls",
          "model_name": "HBoxModel",
          "model_module_version": "1.5.0",
          "state": {
            "_view_name": "HBoxView",
            "_dom_classes": [],
            "_model_name": "HBoxModel",
            "_view_module": "@jupyter-widgets/controls",
            "_model_module_version": "1.5.0",
            "_view_count": null,
            "_view_module_version": "1.5.0",
            "box_style": "",
            "layout": "IPY_MODEL_f4d7652aadde4acc9ec311361d078a0d",
            "_model_module": "@jupyter-widgets/controls",
            "children": [
              "IPY_MODEL_238a5a4edfc34f13a506f64b93f1edb7",
              "IPY_MODEL_8e9ed6d73c4f4486b4c25d2b8897aaaf",
              "IPY_MODEL_33991f37b8654cd5a2fbafc62b4b3d07"
            ]
          }
        },
        "f4d7652aadde4acc9ec311361d078a0d": {
          "model_module": "@jupyter-widgets/base",
          "model_name": "LayoutModel",
          "model_module_version": "1.2.0",
          "state": {
            "_view_name": "LayoutView",
            "grid_template_rows": null,
            "right": null,
            "justify_content": null,
            "_view_module": "@jupyter-widgets/base",
            "overflow": null,
            "_model_module_version": "1.2.0",
            "_view_count": null,
            "flex_flow": null,
            "width": null,
            "min_width": null,
            "border": null,
            "align_items": null,
            "bottom": null,
            "_model_module": "@jupyter-widgets/base",
            "top": null,
            "grid_column": null,
            "overflow_y": null,
            "overflow_x": null,
            "grid_auto_flow": null,
            "grid_area": null,
            "grid_template_columns": null,
            "flex": null,
            "_model_name": "LayoutModel",
            "justify_items": null,
            "grid_row": null,
            "max_height": null,
            "align_content": null,
            "visibility": null,
            "align_self": null,
            "height": null,
            "min_height": null,
            "padding": null,
            "grid_auto_rows": null,
            "grid_gap": null,
            "max_width": null,
            "order": null,
            "_view_module_version": "1.2.0",
            "grid_template_areas": null,
            "object_position": null,
            "object_fit": null,
            "grid_auto_columns": null,
            "margin": null,
            "display": null,
            "left": null
          }
        },
        "238a5a4edfc34f13a506f64b93f1edb7": {
          "model_module": "@jupyter-widgets/controls",
          "model_name": "HTMLModel",
          "model_module_version": "1.5.0",
          "state": {
            "_view_name": "HTMLView",
            "style": "IPY_MODEL_5edd756ad6ce431fbdecd71bf07f61cc",
            "_dom_classes": [],
            "description": "",
            "_model_name": "HTMLModel",
            "placeholder": "​",
            "_view_module": "@jupyter-widgets/controls",
            "_model_module_version": "1.5.0",
            "value": "Iteration: [38/39]  97%",
            "_view_count": null,
            "_view_module_version": "1.5.0",
            "description_tooltip": null,
            "_model_module": "@jupyter-widgets/controls",
            "layout": "IPY_MODEL_b833e9d68c914d0986205d1fc1fd0c1c"
          }
        },
        "8e9ed6d73c4f4486b4c25d2b8897aaaf": {
          "model_module": "@jupyter-widgets/controls",
          "model_name": "FloatProgressModel",
          "model_module_version": "1.5.0",
          "state": {
            "_view_name": "ProgressView",
            "style": "IPY_MODEL_24f256d260e3470983c395e0afde1f19",
            "_dom_classes": [],
            "description": "",
            "_model_name": "FloatProgressModel",
            "bar_style": "",
            "max": 39,
            "_view_module": "@jupyter-widgets/controls",
            "_model_module_version": "1.5.0",
            "value": 39,
            "_view_count": null,
            "_view_module_version": "1.5.0",
            "orientation": "horizontal",
            "min": 0,
            "description_tooltip": null,
            "_model_module": "@jupyter-widgets/controls",
            "layout": "IPY_MODEL_274fca48544e4de6bb4a698adc1d86ba"
          }
        },
        "33991f37b8654cd5a2fbafc62b4b3d07": {
          "model_module": "@jupyter-widgets/controls",
          "model_name": "HTMLModel",
          "model_module_version": "1.5.0",
          "state": {
            "_view_name": "HTMLView",
            "style": "IPY_MODEL_35c562339d7c44858a971eca932b1a91",
            "_dom_classes": [],
            "description": "",
            "_model_name": "HTMLModel",
            "placeholder": "​",
            "_view_module": "@jupyter-widgets/controls",
            "_model_module_version": "1.5.0",
            "value": " [00:01&lt;00:00]",
            "_view_count": null,
            "_view_module_version": "1.5.0",
            "description_tooltip": null,
            "_model_module": "@jupyter-widgets/controls",
            "layout": "IPY_MODEL_1403ed76fe5e4667bc3d1ee5b5c3be68"
          }
        },
        "5edd756ad6ce431fbdecd71bf07f61cc": {
          "model_module": "@jupyter-widgets/controls",
          "model_name": "DescriptionStyleModel",
          "model_module_version": "1.5.0",
          "state": {
            "_view_name": "StyleView",
            "_model_name": "DescriptionStyleModel",
            "description_width": "",
            "_view_module": "@jupyter-widgets/base",
            "_model_module_version": "1.5.0",
            "_view_count": null,
            "_view_module_version": "1.2.0",
            "_model_module": "@jupyter-widgets/controls"
          }
        },
        "b833e9d68c914d0986205d1fc1fd0c1c": {
          "model_module": "@jupyter-widgets/base",
          "model_name": "LayoutModel",
          "model_module_version": "1.2.0",
          "state": {
            "_view_name": "LayoutView",
            "grid_template_rows": null,
            "right": null,
            "justify_content": null,
            "_view_module": "@jupyter-widgets/base",
            "overflow": null,
            "_model_module_version": "1.2.0",
            "_view_count": null,
            "flex_flow": null,
            "width": null,
            "min_width": null,
            "border": null,
            "align_items": null,
            "bottom": null,
            "_model_module": "@jupyter-widgets/base",
            "top": null,
            "grid_column": null,
            "overflow_y": null,
            "overflow_x": null,
            "grid_auto_flow": null,
            "grid_area": null,
            "grid_template_columns": null,
            "flex": null,
            "_model_name": "LayoutModel",
            "justify_items": null,
            "grid_row": null,
            "max_height": null,
            "align_content": null,
            "visibility": null,
            "align_self": null,
            "height": null,
            "min_height": null,
            "padding": null,
            "grid_auto_rows": null,
            "grid_gap": null,
            "max_width": null,
            "order": null,
            "_view_module_version": "1.2.0",
            "grid_template_areas": null,
            "object_position": null,
            "object_fit": null,
            "grid_auto_columns": null,
            "margin": null,
            "display": null,
            "left": null
          }
        },
        "24f256d260e3470983c395e0afde1f19": {
          "model_module": "@jupyter-widgets/controls",
          "model_name": "ProgressStyleModel",
          "model_module_version": "1.5.0",
          "state": {
            "_view_name": "StyleView",
            "_model_name": "ProgressStyleModel",
            "description_width": "",
            "_view_module": "@jupyter-widgets/base",
            "_model_module_version": "1.5.0",
            "_view_count": null,
            "_view_module_version": "1.2.0",
            "bar_color": null,
            "_model_module": "@jupyter-widgets/controls"
          }
        },
        "274fca48544e4de6bb4a698adc1d86ba": {
          "model_module": "@jupyter-widgets/base",
          "model_name": "LayoutModel",
          "model_module_version": "1.2.0",
          "state": {
            "_view_name": "LayoutView",
            "grid_template_rows": null,
            "right": null,
            "justify_content": null,
            "_view_module": "@jupyter-widgets/base",
            "overflow": null,
            "_model_module_version": "1.2.0",
            "_view_count": null,
            "flex_flow": null,
            "width": null,
            "min_width": null,
            "border": null,
            "align_items": null,
            "bottom": null,
            "_model_module": "@jupyter-widgets/base",
            "top": null,
            "grid_column": null,
            "overflow_y": null,
            "overflow_x": null,
            "grid_auto_flow": null,
            "grid_area": null,
            "grid_template_columns": null,
            "flex": null,
            "_model_name": "LayoutModel",
            "justify_items": null,
            "grid_row": null,
            "max_height": null,
            "align_content": null,
            "visibility": null,
            "align_self": null,
            "height": null,
            "min_height": null,
            "padding": null,
            "grid_auto_rows": null,
            "grid_gap": null,
            "max_width": null,
            "order": null,
            "_view_module_version": "1.2.0",
            "grid_template_areas": null,
            "object_position": null,
            "object_fit": null,
            "grid_auto_columns": null,
            "margin": null,
            "display": null,
            "left": null
          }
        },
        "35c562339d7c44858a971eca932b1a91": {
          "model_module": "@jupyter-widgets/controls",
          "model_name": "DescriptionStyleModel",
          "model_module_version": "1.5.0",
          "state": {
            "_view_name": "StyleView",
            "_model_name": "DescriptionStyleModel",
            "description_width": "",
            "_view_module": "@jupyter-widgets/base",
            "_model_module_version": "1.5.0",
            "_view_count": null,
            "_view_module_version": "1.2.0",
            "_model_module": "@jupyter-widgets/controls"
          }
        },
        "1403ed76fe5e4667bc3d1ee5b5c3be68": {
          "model_module": "@jupyter-widgets/base",
          "model_name": "LayoutModel",
          "model_module_version": "1.2.0",
          "state": {
            "_view_name": "LayoutView",
            "grid_template_rows": null,
            "right": null,
            "justify_content": null,
            "_view_module": "@jupyter-widgets/base",
            "overflow": null,
            "_model_module_version": "1.2.0",
            "_view_count": null,
            "flex_flow": null,
            "width": null,
            "min_width": null,
            "border": null,
            "align_items": null,
            "bottom": null,
            "_model_module": "@jupyter-widgets/base",
            "top": null,
            "grid_column": null,
            "overflow_y": null,
            "overflow_x": null,
            "grid_auto_flow": null,
            "grid_area": null,
            "grid_template_columns": null,
            "flex": null,
            "_model_name": "LayoutModel",
            "justify_items": null,
            "grid_row": null,
            "max_height": null,
            "align_content": null,
            "visibility": null,
            "align_self": null,
            "height": null,
            "min_height": null,
            "padding": null,
            "grid_auto_rows": null,
            "grid_gap": null,
            "max_width": null,
            "order": null,
            "_view_module_version": "1.2.0",
            "grid_template_areas": null,
            "object_position": null,
            "object_fit": null,
            "grid_auto_columns": null,
            "margin": null,
            "display": null,
            "left": null
          }
        },
        "9365860beb6c4ecdbdf1ea0bf6cec126": {
          "model_module": "@jupyter-widgets/controls",
          "model_name": "HBoxModel",
          "model_module_version": "1.5.0",
          "state": {
            "_view_name": "HBoxView",
            "_dom_classes": [],
            "_model_name": "HBoxModel",
            "_view_module": "@jupyter-widgets/controls",
            "_model_module_version": "1.5.0",
            "_view_count": null,
            "_view_module_version": "1.5.0",
            "box_style": "",
            "layout": "IPY_MODEL_f9e58b9baf65436ab85a63bb3f299f6c",
            "_model_module": "@jupyter-widgets/controls",
            "children": [
              "IPY_MODEL_8ad70b819e28456689f1340e7b70d419",
              "IPY_MODEL_478bbcf5d97248abbe5b79496458dcb2",
              "IPY_MODEL_6c2bdb8f0f034f9a998f43f4afda3ca6"
            ]
          }
        },
        "f9e58b9baf65436ab85a63bb3f299f6c": {
          "model_module": "@jupyter-widgets/base",
          "model_name": "LayoutModel",
          "model_module_version": "1.2.0",
          "state": {
            "_view_name": "LayoutView",
            "grid_template_rows": null,
            "right": null,
            "justify_content": null,
            "_view_module": "@jupyter-widgets/base",
            "overflow": null,
            "_model_module_version": "1.2.0",
            "_view_count": null,
            "flex_flow": null,
            "width": null,
            "min_width": null,
            "border": null,
            "align_items": null,
            "bottom": null,
            "_model_module": "@jupyter-widgets/base",
            "top": null,
            "grid_column": null,
            "overflow_y": null,
            "overflow_x": null,
            "grid_auto_flow": null,
            "grid_area": null,
            "grid_template_columns": null,
            "flex": null,
            "_model_name": "LayoutModel",
            "justify_items": null,
            "grid_row": null,
            "max_height": null,
            "align_content": null,
            "visibility": null,
            "align_self": null,
            "height": null,
            "min_height": null,
            "padding": null,
            "grid_auto_rows": null,
            "grid_gap": null,
            "max_width": null,
            "order": null,
            "_view_module_version": "1.2.0",
            "grid_template_areas": null,
            "object_position": null,
            "object_fit": null,
            "grid_auto_columns": null,
            "margin": null,
            "display": null,
            "left": null
          }
        },
        "8ad70b819e28456689f1340e7b70d419": {
          "model_module": "@jupyter-widgets/controls",
          "model_name": "HTMLModel",
          "model_module_version": "1.5.0",
          "state": {
            "_view_name": "HTMLView",
            "style": "IPY_MODEL_5fbe737f838e4f49a1589626cf3c5ce8",
            "_dom_classes": [],
            "description": "",
            "_model_name": "HTMLModel",
            "placeholder": "​",
            "_view_module": "@jupyter-widgets/controls",
            "_model_module_version": "1.5.0",
            "value": "Epoch [1/20]: [57/57] 100%",
            "_view_count": null,
            "_view_module_version": "1.5.0",
            "description_tooltip": null,
            "_model_module": "@jupyter-widgets/controls",
            "layout": "IPY_MODEL_e96e877079e445579fe5253503113ca0"
          }
        },
        "478bbcf5d97248abbe5b79496458dcb2": {
          "model_module": "@jupyter-widgets/controls",
          "model_name": "FloatProgressModel",
          "model_module_version": "1.5.0",
          "state": {
            "_view_name": "ProgressView",
            "style": "IPY_MODEL_255b824390554826a0e8a92d8fd7ba28",
            "_dom_classes": [],
            "description": "",
            "_model_name": "FloatProgressModel",
            "bar_style": "",
            "max": 57,
            "_view_module": "@jupyter-widgets/controls",
            "_model_module_version": "1.5.0",
            "value": 57,
            "_view_count": null,
            "_view_module_version": "1.5.0",
            "orientation": "horizontal",
            "min": 0,
            "description_tooltip": null,
            "_model_module": "@jupyter-widgets/controls",
            "layout": "IPY_MODEL_e1d87e1d4f6c4b73b3919b8ee8853dcc"
          }
        },
        "6c2bdb8f0f034f9a998f43f4afda3ca6": {
          "model_module": "@jupyter-widgets/controls",
          "model_name": "HTMLModel",
          "model_module_version": "1.5.0",
          "state": {
            "_view_name": "HTMLView",
            "style": "IPY_MODEL_29ec4854443945c0b0f916b4ec8aae11",
            "_dom_classes": [],
            "description": "",
            "_model_name": "HTMLModel",
            "placeholder": "​",
            "_view_module": "@jupyter-widgets/controls",
            "_model_module_version": "1.5.0",
            "value": ", Running Loss=7.99 [00:09&lt;00:00]",
            "_view_count": null,
            "_view_module_version": "1.5.0",
            "description_tooltip": null,
            "_model_module": "@jupyter-widgets/controls",
            "layout": "IPY_MODEL_9b1b07cc0d6a433f80d0a4aac726b66f"
          }
        },
        "5fbe737f838e4f49a1589626cf3c5ce8": {
          "model_module": "@jupyter-widgets/controls",
          "model_name": "DescriptionStyleModel",
          "model_module_version": "1.5.0",
          "state": {
            "_view_name": "StyleView",
            "_model_name": "DescriptionStyleModel",
            "description_width": "",
            "_view_module": "@jupyter-widgets/base",
            "_model_module_version": "1.5.0",
            "_view_count": null,
            "_view_module_version": "1.2.0",
            "_model_module": "@jupyter-widgets/controls"
          }
        },
        "e96e877079e445579fe5253503113ca0": {
          "model_module": "@jupyter-widgets/base",
          "model_name": "LayoutModel",
          "model_module_version": "1.2.0",
          "state": {
            "_view_name": "LayoutView",
            "grid_template_rows": null,
            "right": null,
            "justify_content": null,
            "_view_module": "@jupyter-widgets/base",
            "overflow": null,
            "_model_module_version": "1.2.0",
            "_view_count": null,
            "flex_flow": null,
            "width": null,
            "min_width": null,
            "border": null,
            "align_items": null,
            "bottom": null,
            "_model_module": "@jupyter-widgets/base",
            "top": null,
            "grid_column": null,
            "overflow_y": null,
            "overflow_x": null,
            "grid_auto_flow": null,
            "grid_area": null,
            "grid_template_columns": null,
            "flex": null,
            "_model_name": "LayoutModel",
            "justify_items": null,
            "grid_row": null,
            "max_height": null,
            "align_content": null,
            "visibility": null,
            "align_self": null,
            "height": null,
            "min_height": null,
            "padding": null,
            "grid_auto_rows": null,
            "grid_gap": null,
            "max_width": null,
            "order": null,
            "_view_module_version": "1.2.0",
            "grid_template_areas": null,
            "object_position": null,
            "object_fit": null,
            "grid_auto_columns": null,
            "margin": null,
            "display": null,
            "left": null
          }
        },
        "255b824390554826a0e8a92d8fd7ba28": {
          "model_module": "@jupyter-widgets/controls",
          "model_name": "ProgressStyleModel",
          "model_module_version": "1.5.0",
          "state": {
            "_view_name": "StyleView",
            "_model_name": "ProgressStyleModel",
            "description_width": "",
            "_view_module": "@jupyter-widgets/base",
            "_model_module_version": "1.5.0",
            "_view_count": null,
            "_view_module_version": "1.2.0",
            "bar_color": null,
            "_model_module": "@jupyter-widgets/controls"
          }
        },
        "e1d87e1d4f6c4b73b3919b8ee8853dcc": {
          "model_module": "@jupyter-widgets/base",
          "model_name": "LayoutModel",
          "model_module_version": "1.2.0",
          "state": {
            "_view_name": "LayoutView",
            "grid_template_rows": null,
            "right": null,
            "justify_content": null,
            "_view_module": "@jupyter-widgets/base",
            "overflow": null,
            "_model_module_version": "1.2.0",
            "_view_count": null,
            "flex_flow": null,
            "width": null,
            "min_width": null,
            "border": null,
            "align_items": null,
            "bottom": null,
            "_model_module": "@jupyter-widgets/base",
            "top": null,
            "grid_column": null,
            "overflow_y": null,
            "overflow_x": null,
            "grid_auto_flow": null,
            "grid_area": null,
            "grid_template_columns": null,
            "flex": null,
            "_model_name": "LayoutModel",
            "justify_items": null,
            "grid_row": null,
            "max_height": null,
            "align_content": null,
            "visibility": null,
            "align_self": null,
            "height": null,
            "min_height": null,
            "padding": null,
            "grid_auto_rows": null,
            "grid_gap": null,
            "max_width": null,
            "order": null,
            "_view_module_version": "1.2.0",
            "grid_template_areas": null,
            "object_position": null,
            "object_fit": null,
            "grid_auto_columns": null,
            "margin": null,
            "display": null,
            "left": null
          }
        },
        "29ec4854443945c0b0f916b4ec8aae11": {
          "model_module": "@jupyter-widgets/controls",
          "model_name": "DescriptionStyleModel",
          "model_module_version": "1.5.0",
          "state": {
            "_view_name": "StyleView",
            "_model_name": "DescriptionStyleModel",
            "description_width": "",
            "_view_module": "@jupyter-widgets/base",
            "_model_module_version": "1.5.0",
            "_view_count": null,
            "_view_module_version": "1.2.0",
            "_model_module": "@jupyter-widgets/controls"
          }
        },
        "9b1b07cc0d6a433f80d0a4aac726b66f": {
          "model_module": "@jupyter-widgets/base",
          "model_name": "LayoutModel",
          "model_module_version": "1.2.0",
          "state": {
            "_view_name": "LayoutView",
            "grid_template_rows": null,
            "right": null,
            "justify_content": null,
            "_view_module": "@jupyter-widgets/base",
            "overflow": null,
            "_model_module_version": "1.2.0",
            "_view_count": null,
            "flex_flow": null,
            "width": null,
            "min_width": null,
            "border": null,
            "align_items": null,
            "bottom": null,
            "_model_module": "@jupyter-widgets/base",
            "top": null,
            "grid_column": null,
            "overflow_y": null,
            "overflow_x": null,
            "grid_auto_flow": null,
            "grid_area": null,
            "grid_template_columns": null,
            "flex": null,
            "_model_name": "LayoutModel",
            "justify_items": null,
            "grid_row": null,
            "max_height": null,
            "align_content": null,
            "visibility": null,
            "align_self": null,
            "height": null,
            "min_height": null,
            "padding": null,
            "grid_auto_rows": null,
            "grid_gap": null,
            "max_width": null,
            "order": null,
            "_view_module_version": "1.2.0",
            "grid_template_areas": null,
            "object_position": null,
            "object_fit": null,
            "grid_auto_columns": null,
            "margin": null,
            "display": null,
            "left": null
          }
        },
        "539c7cbac7f3451697f6b6f96fe021bb": {
          "model_module": "@jupyter-widgets/controls",
          "model_name": "HBoxModel",
          "model_module_version": "1.5.0",
          "state": {
            "_view_name": "HBoxView",
            "_dom_classes": [],
            "_model_name": "HBoxModel",
            "_view_module": "@jupyter-widgets/controls",
            "_model_module_version": "1.5.0",
            "_view_count": null,
            "_view_module_version": "1.5.0",
            "box_style": "",
            "layout": "IPY_MODEL_e41eb57160794ed89f8f64ae2238b56d",
            "_model_module": "@jupyter-widgets/controls",
            "children": [
              "IPY_MODEL_2067996062d04cf7b78ec34749e43a5d",
              "IPY_MODEL_a2e06b81d8e64c33912108f5f3b22222",
              "IPY_MODEL_330a0a55256a439ca9ed5fa2170f8613"
            ]
          }
        },
        "e41eb57160794ed89f8f64ae2238b56d": {
          "model_module": "@jupyter-widgets/base",
          "model_name": "LayoutModel",
          "model_module_version": "1.2.0",
          "state": {
            "_view_name": "LayoutView",
            "grid_template_rows": null,
            "right": null,
            "justify_content": null,
            "_view_module": "@jupyter-widgets/base",
            "overflow": null,
            "_model_module_version": "1.2.0",
            "_view_count": null,
            "flex_flow": null,
            "width": null,
            "min_width": null,
            "border": null,
            "align_items": null,
            "bottom": null,
            "_model_module": "@jupyter-widgets/base",
            "top": null,
            "grid_column": null,
            "overflow_y": null,
            "overflow_x": null,
            "grid_auto_flow": null,
            "grid_area": null,
            "grid_template_columns": null,
            "flex": null,
            "_model_name": "LayoutModel",
            "justify_items": null,
            "grid_row": null,
            "max_height": null,
            "align_content": null,
            "visibility": null,
            "align_self": null,
            "height": null,
            "min_height": null,
            "padding": null,
            "grid_auto_rows": null,
            "grid_gap": null,
            "max_width": null,
            "order": null,
            "_view_module_version": "1.2.0",
            "grid_template_areas": null,
            "object_position": null,
            "object_fit": null,
            "grid_auto_columns": null,
            "margin": null,
            "display": null,
            "left": null
          }
        },
        "2067996062d04cf7b78ec34749e43a5d": {
          "model_module": "@jupyter-widgets/controls",
          "model_name": "HTMLModel",
          "model_module_version": "1.5.0",
          "state": {
            "_view_name": "HTMLView",
            "style": "IPY_MODEL_b2421b3cdd924f1285beb0508b2544f1",
            "_dom_classes": [],
            "description": "",
            "_model_name": "HTMLModel",
            "placeholder": "​",
            "_view_module": "@jupyter-widgets/controls",
            "_model_module_version": "1.5.0",
            "value": "Epoch [2/20]: [57/57] 100%",
            "_view_count": null,
            "_view_module_version": "1.5.0",
            "description_tooltip": null,
            "_model_module": "@jupyter-widgets/controls",
            "layout": "IPY_MODEL_bcf03da9fc92492f947fb6df37f0914e"
          }
        },
        "a2e06b81d8e64c33912108f5f3b22222": {
          "model_module": "@jupyter-widgets/controls",
          "model_name": "FloatProgressModel",
          "model_module_version": "1.5.0",
          "state": {
            "_view_name": "ProgressView",
            "style": "IPY_MODEL_02cb55a0e2c54a0fbdb874aa0e7dedbd",
            "_dom_classes": [],
            "description": "",
            "_model_name": "FloatProgressModel",
            "bar_style": "",
            "max": 57,
            "_view_module": "@jupyter-widgets/controls",
            "_model_module_version": "1.5.0",
            "value": 57,
            "_view_count": null,
            "_view_module_version": "1.5.0",
            "orientation": "horizontal",
            "min": 0,
            "description_tooltip": null,
            "_model_module": "@jupyter-widgets/controls",
            "layout": "IPY_MODEL_09bef87133ae4d5998fd32877f60207f"
          }
        },
        "330a0a55256a439ca9ed5fa2170f8613": {
          "model_module": "@jupyter-widgets/controls",
          "model_name": "HTMLModel",
          "model_module_version": "1.5.0",
          "state": {
            "_view_name": "HTMLView",
            "style": "IPY_MODEL_d65f57f1c63b4c549166875c38a5014d",
            "_dom_classes": [],
            "description": "",
            "_model_name": "HTMLModel",
            "placeholder": "​",
            "_view_module": "@jupyter-widgets/controls",
            "_model_module_version": "1.5.0",
            "value": ", Running Loss=5.43 [00:09&lt;00:00]",
            "_view_count": null,
            "_view_module_version": "1.5.0",
            "description_tooltip": null,
            "_model_module": "@jupyter-widgets/controls",
            "layout": "IPY_MODEL_f35f7a5566ff4a6581ea30636367696d"
          }
        },
        "b2421b3cdd924f1285beb0508b2544f1": {
          "model_module": "@jupyter-widgets/controls",
          "model_name": "DescriptionStyleModel",
          "model_module_version": "1.5.0",
          "state": {
            "_view_name": "StyleView",
            "_model_name": "DescriptionStyleModel",
            "description_width": "",
            "_view_module": "@jupyter-widgets/base",
            "_model_module_version": "1.5.0",
            "_view_count": null,
            "_view_module_version": "1.2.0",
            "_model_module": "@jupyter-widgets/controls"
          }
        },
        "bcf03da9fc92492f947fb6df37f0914e": {
          "model_module": "@jupyter-widgets/base",
          "model_name": "LayoutModel",
          "model_module_version": "1.2.0",
          "state": {
            "_view_name": "LayoutView",
            "grid_template_rows": null,
            "right": null,
            "justify_content": null,
            "_view_module": "@jupyter-widgets/base",
            "overflow": null,
            "_model_module_version": "1.2.0",
            "_view_count": null,
            "flex_flow": null,
            "width": null,
            "min_width": null,
            "border": null,
            "align_items": null,
            "bottom": null,
            "_model_module": "@jupyter-widgets/base",
            "top": null,
            "grid_column": null,
            "overflow_y": null,
            "overflow_x": null,
            "grid_auto_flow": null,
            "grid_area": null,
            "grid_template_columns": null,
            "flex": null,
            "_model_name": "LayoutModel",
            "justify_items": null,
            "grid_row": null,
            "max_height": null,
            "align_content": null,
            "visibility": null,
            "align_self": null,
            "height": null,
            "min_height": null,
            "padding": null,
            "grid_auto_rows": null,
            "grid_gap": null,
            "max_width": null,
            "order": null,
            "_view_module_version": "1.2.0",
            "grid_template_areas": null,
            "object_position": null,
            "object_fit": null,
            "grid_auto_columns": null,
            "margin": null,
            "display": null,
            "left": null
          }
        },
        "02cb55a0e2c54a0fbdb874aa0e7dedbd": {
          "model_module": "@jupyter-widgets/controls",
          "model_name": "ProgressStyleModel",
          "model_module_version": "1.5.0",
          "state": {
            "_view_name": "StyleView",
            "_model_name": "ProgressStyleModel",
            "description_width": "",
            "_view_module": "@jupyter-widgets/base",
            "_model_module_version": "1.5.0",
            "_view_count": null,
            "_view_module_version": "1.2.0",
            "bar_color": null,
            "_model_module": "@jupyter-widgets/controls"
          }
        },
        "09bef87133ae4d5998fd32877f60207f": {
          "model_module": "@jupyter-widgets/base",
          "model_name": "LayoutModel",
          "model_module_version": "1.2.0",
          "state": {
            "_view_name": "LayoutView",
            "grid_template_rows": null,
            "right": null,
            "justify_content": null,
            "_view_module": "@jupyter-widgets/base",
            "overflow": null,
            "_model_module_version": "1.2.0",
            "_view_count": null,
            "flex_flow": null,
            "width": null,
            "min_width": null,
            "border": null,
            "align_items": null,
            "bottom": null,
            "_model_module": "@jupyter-widgets/base",
            "top": null,
            "grid_column": null,
            "overflow_y": null,
            "overflow_x": null,
            "grid_auto_flow": null,
            "grid_area": null,
            "grid_template_columns": null,
            "flex": null,
            "_model_name": "LayoutModel",
            "justify_items": null,
            "grid_row": null,
            "max_height": null,
            "align_content": null,
            "visibility": null,
            "align_self": null,
            "height": null,
            "min_height": null,
            "padding": null,
            "grid_auto_rows": null,
            "grid_gap": null,
            "max_width": null,
            "order": null,
            "_view_module_version": "1.2.0",
            "grid_template_areas": null,
            "object_position": null,
            "object_fit": null,
            "grid_auto_columns": null,
            "margin": null,
            "display": null,
            "left": null
          }
        },
        "d65f57f1c63b4c549166875c38a5014d": {
          "model_module": "@jupyter-widgets/controls",
          "model_name": "DescriptionStyleModel",
          "model_module_version": "1.5.0",
          "state": {
            "_view_name": "StyleView",
            "_model_name": "DescriptionStyleModel",
            "description_width": "",
            "_view_module": "@jupyter-widgets/base",
            "_model_module_version": "1.5.0",
            "_view_count": null,
            "_view_module_version": "1.2.0",
            "_model_module": "@jupyter-widgets/controls"
          }
        },
        "f35f7a5566ff4a6581ea30636367696d": {
          "model_module": "@jupyter-widgets/base",
          "model_name": "LayoutModel",
          "model_module_version": "1.2.0",
          "state": {
            "_view_name": "LayoutView",
            "grid_template_rows": null,
            "right": null,
            "justify_content": null,
            "_view_module": "@jupyter-widgets/base",
            "overflow": null,
            "_model_module_version": "1.2.0",
            "_view_count": null,
            "flex_flow": null,
            "width": null,
            "min_width": null,
            "border": null,
            "align_items": null,
            "bottom": null,
            "_model_module": "@jupyter-widgets/base",
            "top": null,
            "grid_column": null,
            "overflow_y": null,
            "overflow_x": null,
            "grid_auto_flow": null,
            "grid_area": null,
            "grid_template_columns": null,
            "flex": null,
            "_model_name": "LayoutModel",
            "justify_items": null,
            "grid_row": null,
            "max_height": null,
            "align_content": null,
            "visibility": null,
            "align_self": null,
            "height": null,
            "min_height": null,
            "padding": null,
            "grid_auto_rows": null,
            "grid_gap": null,
            "max_width": null,
            "order": null,
            "_view_module_version": "1.2.0",
            "grid_template_areas": null,
            "object_position": null,
            "object_fit": null,
            "grid_auto_columns": null,
            "margin": null,
            "display": null,
            "left": null
          }
        },
        "fe9d253630a7477baebdb31428582741": {
          "model_module": "@jupyter-widgets/controls",
          "model_name": "HBoxModel",
          "model_module_version": "1.5.0",
          "state": {
            "_view_name": "HBoxView",
            "_dom_classes": [],
            "_model_name": "HBoxModel",
            "_view_module": "@jupyter-widgets/controls",
            "_model_module_version": "1.5.0",
            "_view_count": null,
            "_view_module_version": "1.5.0",
            "box_style": "",
            "layout": "IPY_MODEL_4688dda92d494984afc5da8057b2470f",
            "_model_module": "@jupyter-widgets/controls",
            "children": [
              "IPY_MODEL_9f490a5b606640e0a865ec7104cd5137",
              "IPY_MODEL_ff0bb45fa7c34f34a267ec0cc9b5eead",
              "IPY_MODEL_bf40d4920aaa4627902793304ac2e4ed"
            ]
          }
        },
        "4688dda92d494984afc5da8057b2470f": {
          "model_module": "@jupyter-widgets/base",
          "model_name": "LayoutModel",
          "model_module_version": "1.2.0",
          "state": {
            "_view_name": "LayoutView",
            "grid_template_rows": null,
            "right": null,
            "justify_content": null,
            "_view_module": "@jupyter-widgets/base",
            "overflow": null,
            "_model_module_version": "1.2.0",
            "_view_count": null,
            "flex_flow": null,
            "width": null,
            "min_width": null,
            "border": null,
            "align_items": null,
            "bottom": null,
            "_model_module": "@jupyter-widgets/base",
            "top": null,
            "grid_column": null,
            "overflow_y": null,
            "overflow_x": null,
            "grid_auto_flow": null,
            "grid_area": null,
            "grid_template_columns": null,
            "flex": null,
            "_model_name": "LayoutModel",
            "justify_items": null,
            "grid_row": null,
            "max_height": null,
            "align_content": null,
            "visibility": null,
            "align_self": null,
            "height": null,
            "min_height": null,
            "padding": null,
            "grid_auto_rows": null,
            "grid_gap": null,
            "max_width": null,
            "order": null,
            "_view_module_version": "1.2.0",
            "grid_template_areas": null,
            "object_position": null,
            "object_fit": null,
            "grid_auto_columns": null,
            "margin": null,
            "display": null,
            "left": null
          }
        },
        "9f490a5b606640e0a865ec7104cd5137": {
          "model_module": "@jupyter-widgets/controls",
          "model_name": "HTMLModel",
          "model_module_version": "1.5.0",
          "state": {
            "_view_name": "HTMLView",
            "style": "IPY_MODEL_56ea06bb6a3c44eea3ae222af564367b",
            "_dom_classes": [],
            "description": "",
            "_model_name": "HTMLModel",
            "placeholder": "​",
            "_view_module": "@jupyter-widgets/controls",
            "_model_module_version": "1.5.0",
            "value": "Epoch [3/20]: [57/57] 100%",
            "_view_count": null,
            "_view_module_version": "1.5.0",
            "description_tooltip": null,
            "_model_module": "@jupyter-widgets/controls",
            "layout": "IPY_MODEL_7c86a97afeb34fb8968f750c7c37b2ad"
          }
        },
        "ff0bb45fa7c34f34a267ec0cc9b5eead": {
          "model_module": "@jupyter-widgets/controls",
          "model_name": "FloatProgressModel",
          "model_module_version": "1.5.0",
          "state": {
            "_view_name": "ProgressView",
            "style": "IPY_MODEL_1aa43c8fd0fc4051935a70c7d45132e7",
            "_dom_classes": [],
            "description": "",
            "_model_name": "FloatProgressModel",
            "bar_style": "",
            "max": 57,
            "_view_module": "@jupyter-widgets/controls",
            "_model_module_version": "1.5.0",
            "value": 57,
            "_view_count": null,
            "_view_module_version": "1.5.0",
            "orientation": "horizontal",
            "min": 0,
            "description_tooltip": null,
            "_model_module": "@jupyter-widgets/controls",
            "layout": "IPY_MODEL_67b0426386114f4cad304b20e6842162"
          }
        },
        "bf40d4920aaa4627902793304ac2e4ed": {
          "model_module": "@jupyter-widgets/controls",
          "model_name": "HTMLModel",
          "model_module_version": "1.5.0",
          "state": {
            "_view_name": "HTMLView",
            "style": "IPY_MODEL_e7fabffa452d4e60bfaa382020088519",
            "_dom_classes": [],
            "description": "",
            "_model_name": "HTMLModel",
            "placeholder": "​",
            "_view_module": "@jupyter-widgets/controls",
            "_model_module_version": "1.5.0",
            "value": ", Running Loss=4.54 [00:09&lt;00:00]",
            "_view_count": null,
            "_view_module_version": "1.5.0",
            "description_tooltip": null,
            "_model_module": "@jupyter-widgets/controls",
            "layout": "IPY_MODEL_3014bed6eebb4c14bf581b3297688c75"
          }
        },
        "56ea06bb6a3c44eea3ae222af564367b": {
          "model_module": "@jupyter-widgets/controls",
          "model_name": "DescriptionStyleModel",
          "model_module_version": "1.5.0",
          "state": {
            "_view_name": "StyleView",
            "_model_name": "DescriptionStyleModel",
            "description_width": "",
            "_view_module": "@jupyter-widgets/base",
            "_model_module_version": "1.5.0",
            "_view_count": null,
            "_view_module_version": "1.2.0",
            "_model_module": "@jupyter-widgets/controls"
          }
        },
        "7c86a97afeb34fb8968f750c7c37b2ad": {
          "model_module": "@jupyter-widgets/base",
          "model_name": "LayoutModel",
          "model_module_version": "1.2.0",
          "state": {
            "_view_name": "LayoutView",
            "grid_template_rows": null,
            "right": null,
            "justify_content": null,
            "_view_module": "@jupyter-widgets/base",
            "overflow": null,
            "_model_module_version": "1.2.0",
            "_view_count": null,
            "flex_flow": null,
            "width": null,
            "min_width": null,
            "border": null,
            "align_items": null,
            "bottom": null,
            "_model_module": "@jupyter-widgets/base",
            "top": null,
            "grid_column": null,
            "overflow_y": null,
            "overflow_x": null,
            "grid_auto_flow": null,
            "grid_area": null,
            "grid_template_columns": null,
            "flex": null,
            "_model_name": "LayoutModel",
            "justify_items": null,
            "grid_row": null,
            "max_height": null,
            "align_content": null,
            "visibility": null,
            "align_self": null,
            "height": null,
            "min_height": null,
            "padding": null,
            "grid_auto_rows": null,
            "grid_gap": null,
            "max_width": null,
            "order": null,
            "_view_module_version": "1.2.0",
            "grid_template_areas": null,
            "object_position": null,
            "object_fit": null,
            "grid_auto_columns": null,
            "margin": null,
            "display": null,
            "left": null
          }
        },
        "1aa43c8fd0fc4051935a70c7d45132e7": {
          "model_module": "@jupyter-widgets/controls",
          "model_name": "ProgressStyleModel",
          "model_module_version": "1.5.0",
          "state": {
            "_view_name": "StyleView",
            "_model_name": "ProgressStyleModel",
            "description_width": "",
            "_view_module": "@jupyter-widgets/base",
            "_model_module_version": "1.5.0",
            "_view_count": null,
            "_view_module_version": "1.2.0",
            "bar_color": null,
            "_model_module": "@jupyter-widgets/controls"
          }
        },
        "67b0426386114f4cad304b20e6842162": {
          "model_module": "@jupyter-widgets/base",
          "model_name": "LayoutModel",
          "model_module_version": "1.2.0",
          "state": {
            "_view_name": "LayoutView",
            "grid_template_rows": null,
            "right": null,
            "justify_content": null,
            "_view_module": "@jupyter-widgets/base",
            "overflow": null,
            "_model_module_version": "1.2.0",
            "_view_count": null,
            "flex_flow": null,
            "width": null,
            "min_width": null,
            "border": null,
            "align_items": null,
            "bottom": null,
            "_model_module": "@jupyter-widgets/base",
            "top": null,
            "grid_column": null,
            "overflow_y": null,
            "overflow_x": null,
            "grid_auto_flow": null,
            "grid_area": null,
            "grid_template_columns": null,
            "flex": null,
            "_model_name": "LayoutModel",
            "justify_items": null,
            "grid_row": null,
            "max_height": null,
            "align_content": null,
            "visibility": null,
            "align_self": null,
            "height": null,
            "min_height": null,
            "padding": null,
            "grid_auto_rows": null,
            "grid_gap": null,
            "max_width": null,
            "order": null,
            "_view_module_version": "1.2.0",
            "grid_template_areas": null,
            "object_position": null,
            "object_fit": null,
            "grid_auto_columns": null,
            "margin": null,
            "display": null,
            "left": null
          }
        },
        "e7fabffa452d4e60bfaa382020088519": {
          "model_module": "@jupyter-widgets/controls",
          "model_name": "DescriptionStyleModel",
          "model_module_version": "1.5.0",
          "state": {
            "_view_name": "StyleView",
            "_model_name": "DescriptionStyleModel",
            "description_width": "",
            "_view_module": "@jupyter-widgets/base",
            "_model_module_version": "1.5.0",
            "_view_count": null,
            "_view_module_version": "1.2.0",
            "_model_module": "@jupyter-widgets/controls"
          }
        },
        "3014bed6eebb4c14bf581b3297688c75": {
          "model_module": "@jupyter-widgets/base",
          "model_name": "LayoutModel",
          "model_module_version": "1.2.0",
          "state": {
            "_view_name": "LayoutView",
            "grid_template_rows": null,
            "right": null,
            "justify_content": null,
            "_view_module": "@jupyter-widgets/base",
            "overflow": null,
            "_model_module_version": "1.2.0",
            "_view_count": null,
            "flex_flow": null,
            "width": null,
            "min_width": null,
            "border": null,
            "align_items": null,
            "bottom": null,
            "_model_module": "@jupyter-widgets/base",
            "top": null,
            "grid_column": null,
            "overflow_y": null,
            "overflow_x": null,
            "grid_auto_flow": null,
            "grid_area": null,
            "grid_template_columns": null,
            "flex": null,
            "_model_name": "LayoutModel",
            "justify_items": null,
            "grid_row": null,
            "max_height": null,
            "align_content": null,
            "visibility": null,
            "align_self": null,
            "height": null,
            "min_height": null,
            "padding": null,
            "grid_auto_rows": null,
            "grid_gap": null,
            "max_width": null,
            "order": null,
            "_view_module_version": "1.2.0",
            "grid_template_areas": null,
            "object_position": null,
            "object_fit": null,
            "grid_auto_columns": null,
            "margin": null,
            "display": null,
            "left": null
          }
        },
        "a83390d056f3434ab4c847534f43c5ce": {
          "model_module": "@jupyter-widgets/controls",
          "model_name": "HBoxModel",
          "model_module_version": "1.5.0",
          "state": {
            "_view_name": "HBoxView",
            "_dom_classes": [],
            "_model_name": "HBoxModel",
            "_view_module": "@jupyter-widgets/controls",
            "_model_module_version": "1.5.0",
            "_view_count": null,
            "_view_module_version": "1.5.0",
            "box_style": "",
            "layout": "IPY_MODEL_3b54c39cb14e4bc7aa17681c58d1c89c",
            "_model_module": "@jupyter-widgets/controls",
            "children": [
              "IPY_MODEL_8d0110cb66fd44e995fd2d4bb004048d",
              "IPY_MODEL_0bb0552d3b704b7092df04665e5bb253",
              "IPY_MODEL_471b1ba0f0db46b0b83b10fa73a91081"
            ]
          }
        },
        "3b54c39cb14e4bc7aa17681c58d1c89c": {
          "model_module": "@jupyter-widgets/base",
          "model_name": "LayoutModel",
          "model_module_version": "1.2.0",
          "state": {
            "_view_name": "LayoutView",
            "grid_template_rows": null,
            "right": null,
            "justify_content": null,
            "_view_module": "@jupyter-widgets/base",
            "overflow": null,
            "_model_module_version": "1.2.0",
            "_view_count": null,
            "flex_flow": null,
            "width": null,
            "min_width": null,
            "border": null,
            "align_items": null,
            "bottom": null,
            "_model_module": "@jupyter-widgets/base",
            "top": null,
            "grid_column": null,
            "overflow_y": null,
            "overflow_x": null,
            "grid_auto_flow": null,
            "grid_area": null,
            "grid_template_columns": null,
            "flex": null,
            "_model_name": "LayoutModel",
            "justify_items": null,
            "grid_row": null,
            "max_height": null,
            "align_content": null,
            "visibility": null,
            "align_self": null,
            "height": null,
            "min_height": null,
            "padding": null,
            "grid_auto_rows": null,
            "grid_gap": null,
            "max_width": null,
            "order": null,
            "_view_module_version": "1.2.0",
            "grid_template_areas": null,
            "object_position": null,
            "object_fit": null,
            "grid_auto_columns": null,
            "margin": null,
            "display": null,
            "left": null
          }
        },
        "8d0110cb66fd44e995fd2d4bb004048d": {
          "model_module": "@jupyter-widgets/controls",
          "model_name": "HTMLModel",
          "model_module_version": "1.5.0",
          "state": {
            "_view_name": "HTMLView",
            "style": "IPY_MODEL_371d1fe10c59438dba004aa0caf53ed1",
            "_dom_classes": [],
            "description": "",
            "_model_name": "HTMLModel",
            "placeholder": "​",
            "_view_module": "@jupyter-widgets/controls",
            "_model_module_version": "1.5.0",
            "value": "Epoch [4/20]: [57/57] 100%",
            "_view_count": null,
            "_view_module_version": "1.5.0",
            "description_tooltip": null,
            "_model_module": "@jupyter-widgets/controls",
            "layout": "IPY_MODEL_bf4ba63f5ef846529c72e9ed28e61e08"
          }
        },
        "0bb0552d3b704b7092df04665e5bb253": {
          "model_module": "@jupyter-widgets/controls",
          "model_name": "FloatProgressModel",
          "model_module_version": "1.5.0",
          "state": {
            "_view_name": "ProgressView",
            "style": "IPY_MODEL_e038d6118f87483aa5e91e6b42023259",
            "_dom_classes": [],
            "description": "",
            "_model_name": "FloatProgressModel",
            "bar_style": "",
            "max": 57,
            "_view_module": "@jupyter-widgets/controls",
            "_model_module_version": "1.5.0",
            "value": 57,
            "_view_count": null,
            "_view_module_version": "1.5.0",
            "orientation": "horizontal",
            "min": 0,
            "description_tooltip": null,
            "_model_module": "@jupyter-widgets/controls",
            "layout": "IPY_MODEL_d3cdaf0612044b2681bdfc38263635b8"
          }
        },
        "471b1ba0f0db46b0b83b10fa73a91081": {
          "model_module": "@jupyter-widgets/controls",
          "model_name": "HTMLModel",
          "model_module_version": "1.5.0",
          "state": {
            "_view_name": "HTMLView",
            "style": "IPY_MODEL_60803e5ba1f940d18822189fe8f85cb9",
            "_dom_classes": [],
            "description": "",
            "_model_name": "HTMLModel",
            "placeholder": "​",
            "_view_module": "@jupyter-widgets/controls",
            "_model_module_version": "1.5.0",
            "value": ", Running Loss=3.98 [00:09&lt;00:00]",
            "_view_count": null,
            "_view_module_version": "1.5.0",
            "description_tooltip": null,
            "_model_module": "@jupyter-widgets/controls",
            "layout": "IPY_MODEL_9b125c5a444f45bbae94aebce3e7c756"
          }
        },
        "371d1fe10c59438dba004aa0caf53ed1": {
          "model_module": "@jupyter-widgets/controls",
          "model_name": "DescriptionStyleModel",
          "model_module_version": "1.5.0",
          "state": {
            "_view_name": "StyleView",
            "_model_name": "DescriptionStyleModel",
            "description_width": "",
            "_view_module": "@jupyter-widgets/base",
            "_model_module_version": "1.5.0",
            "_view_count": null,
            "_view_module_version": "1.2.0",
            "_model_module": "@jupyter-widgets/controls"
          }
        },
        "bf4ba63f5ef846529c72e9ed28e61e08": {
          "model_module": "@jupyter-widgets/base",
          "model_name": "LayoutModel",
          "model_module_version": "1.2.0",
          "state": {
            "_view_name": "LayoutView",
            "grid_template_rows": null,
            "right": null,
            "justify_content": null,
            "_view_module": "@jupyter-widgets/base",
            "overflow": null,
            "_model_module_version": "1.2.0",
            "_view_count": null,
            "flex_flow": null,
            "width": null,
            "min_width": null,
            "border": null,
            "align_items": null,
            "bottom": null,
            "_model_module": "@jupyter-widgets/base",
            "top": null,
            "grid_column": null,
            "overflow_y": null,
            "overflow_x": null,
            "grid_auto_flow": null,
            "grid_area": null,
            "grid_template_columns": null,
            "flex": null,
            "_model_name": "LayoutModel",
            "justify_items": null,
            "grid_row": null,
            "max_height": null,
            "align_content": null,
            "visibility": null,
            "align_self": null,
            "height": null,
            "min_height": null,
            "padding": null,
            "grid_auto_rows": null,
            "grid_gap": null,
            "max_width": null,
            "order": null,
            "_view_module_version": "1.2.0",
            "grid_template_areas": null,
            "object_position": null,
            "object_fit": null,
            "grid_auto_columns": null,
            "margin": null,
            "display": null,
            "left": null
          }
        },
        "e038d6118f87483aa5e91e6b42023259": {
          "model_module": "@jupyter-widgets/controls",
          "model_name": "ProgressStyleModel",
          "model_module_version": "1.5.0",
          "state": {
            "_view_name": "StyleView",
            "_model_name": "ProgressStyleModel",
            "description_width": "",
            "_view_module": "@jupyter-widgets/base",
            "_model_module_version": "1.5.0",
            "_view_count": null,
            "_view_module_version": "1.2.0",
            "bar_color": null,
            "_model_module": "@jupyter-widgets/controls"
          }
        },
        "d3cdaf0612044b2681bdfc38263635b8": {
          "model_module": "@jupyter-widgets/base",
          "model_name": "LayoutModel",
          "model_module_version": "1.2.0",
          "state": {
            "_view_name": "LayoutView",
            "grid_template_rows": null,
            "right": null,
            "justify_content": null,
            "_view_module": "@jupyter-widgets/base",
            "overflow": null,
            "_model_module_version": "1.2.0",
            "_view_count": null,
            "flex_flow": null,
            "width": null,
            "min_width": null,
            "border": null,
            "align_items": null,
            "bottom": null,
            "_model_module": "@jupyter-widgets/base",
            "top": null,
            "grid_column": null,
            "overflow_y": null,
            "overflow_x": null,
            "grid_auto_flow": null,
            "grid_area": null,
            "grid_template_columns": null,
            "flex": null,
            "_model_name": "LayoutModel",
            "justify_items": null,
            "grid_row": null,
            "max_height": null,
            "align_content": null,
            "visibility": null,
            "align_self": null,
            "height": null,
            "min_height": null,
            "padding": null,
            "grid_auto_rows": null,
            "grid_gap": null,
            "max_width": null,
            "order": null,
            "_view_module_version": "1.2.0",
            "grid_template_areas": null,
            "object_position": null,
            "object_fit": null,
            "grid_auto_columns": null,
            "margin": null,
            "display": null,
            "left": null
          }
        },
        "60803e5ba1f940d18822189fe8f85cb9": {
          "model_module": "@jupyter-widgets/controls",
          "model_name": "DescriptionStyleModel",
          "model_module_version": "1.5.0",
          "state": {
            "_view_name": "StyleView",
            "_model_name": "DescriptionStyleModel",
            "description_width": "",
            "_view_module": "@jupyter-widgets/base",
            "_model_module_version": "1.5.0",
            "_view_count": null,
            "_view_module_version": "1.2.0",
            "_model_module": "@jupyter-widgets/controls"
          }
        },
        "9b125c5a444f45bbae94aebce3e7c756": {
          "model_module": "@jupyter-widgets/base",
          "model_name": "LayoutModel",
          "model_module_version": "1.2.0",
          "state": {
            "_view_name": "LayoutView",
            "grid_template_rows": null,
            "right": null,
            "justify_content": null,
            "_view_module": "@jupyter-widgets/base",
            "overflow": null,
            "_model_module_version": "1.2.0",
            "_view_count": null,
            "flex_flow": null,
            "width": null,
            "min_width": null,
            "border": null,
            "align_items": null,
            "bottom": null,
            "_model_module": "@jupyter-widgets/base",
            "top": null,
            "grid_column": null,
            "overflow_y": null,
            "overflow_x": null,
            "grid_auto_flow": null,
            "grid_area": null,
            "grid_template_columns": null,
            "flex": null,
            "_model_name": "LayoutModel",
            "justify_items": null,
            "grid_row": null,
            "max_height": null,
            "align_content": null,
            "visibility": null,
            "align_self": null,
            "height": null,
            "min_height": null,
            "padding": null,
            "grid_auto_rows": null,
            "grid_gap": null,
            "max_width": null,
            "order": null,
            "_view_module_version": "1.2.0",
            "grid_template_areas": null,
            "object_position": null,
            "object_fit": null,
            "grid_auto_columns": null,
            "margin": null,
            "display": null,
            "left": null
          }
        },
        "4d12fb44f18a4627863e3b3ea9308c1d": {
          "model_module": "@jupyter-widgets/controls",
          "model_name": "HBoxModel",
          "model_module_version": "1.5.0",
          "state": {
            "_view_name": "HBoxView",
            "_dom_classes": [],
            "_model_name": "HBoxModel",
            "_view_module": "@jupyter-widgets/controls",
            "_model_module_version": "1.5.0",
            "_view_count": null,
            "_view_module_version": "1.5.0",
            "box_style": "",
            "layout": "IPY_MODEL_01338e5d90cd48d0920b83c8b2c909d4",
            "_model_module": "@jupyter-widgets/controls",
            "children": [
              "IPY_MODEL_89c8ea597c4d466fa9196c9542d279ca",
              "IPY_MODEL_d1bae78193d64877a75419c9eff8ec46",
              "IPY_MODEL_8329ea717b6c47e79cbb775b3c003fb7"
            ]
          }
        },
        "01338e5d90cd48d0920b83c8b2c909d4": {
          "model_module": "@jupyter-widgets/base",
          "model_name": "LayoutModel",
          "model_module_version": "1.2.0",
          "state": {
            "_view_name": "LayoutView",
            "grid_template_rows": null,
            "right": null,
            "justify_content": null,
            "_view_module": "@jupyter-widgets/base",
            "overflow": null,
            "_model_module_version": "1.2.0",
            "_view_count": null,
            "flex_flow": null,
            "width": null,
            "min_width": null,
            "border": null,
            "align_items": null,
            "bottom": null,
            "_model_module": "@jupyter-widgets/base",
            "top": null,
            "grid_column": null,
            "overflow_y": null,
            "overflow_x": null,
            "grid_auto_flow": null,
            "grid_area": null,
            "grid_template_columns": null,
            "flex": null,
            "_model_name": "LayoutModel",
            "justify_items": null,
            "grid_row": null,
            "max_height": null,
            "align_content": null,
            "visibility": null,
            "align_self": null,
            "height": null,
            "min_height": null,
            "padding": null,
            "grid_auto_rows": null,
            "grid_gap": null,
            "max_width": null,
            "order": null,
            "_view_module_version": "1.2.0",
            "grid_template_areas": null,
            "object_position": null,
            "object_fit": null,
            "grid_auto_columns": null,
            "margin": null,
            "display": null,
            "left": null
          }
        },
        "89c8ea597c4d466fa9196c9542d279ca": {
          "model_module": "@jupyter-widgets/controls",
          "model_name": "HTMLModel",
          "model_module_version": "1.5.0",
          "state": {
            "_view_name": "HTMLView",
            "style": "IPY_MODEL_7db034d5b9d24c84b7b4e98382039427",
            "_dom_classes": [],
            "description": "",
            "_model_name": "HTMLModel",
            "placeholder": "​",
            "_view_module": "@jupyter-widgets/controls",
            "_model_module_version": "1.5.0",
            "value": "Epoch [5/20]: [57/57] 100%",
            "_view_count": null,
            "_view_module_version": "1.5.0",
            "description_tooltip": null,
            "_model_module": "@jupyter-widgets/controls",
            "layout": "IPY_MODEL_18179174511f4b75adaf91f8e21de58c"
          }
        },
        "d1bae78193d64877a75419c9eff8ec46": {
          "model_module": "@jupyter-widgets/controls",
          "model_name": "FloatProgressModel",
          "model_module_version": "1.5.0",
          "state": {
            "_view_name": "ProgressView",
            "style": "IPY_MODEL_5390a80c632b4984bb23b1835ed4e376",
            "_dom_classes": [],
            "description": "",
            "_model_name": "FloatProgressModel",
            "bar_style": "",
            "max": 57,
            "_view_module": "@jupyter-widgets/controls",
            "_model_module_version": "1.5.0",
            "value": 57,
            "_view_count": null,
            "_view_module_version": "1.5.0",
            "orientation": "horizontal",
            "min": 0,
            "description_tooltip": null,
            "_model_module": "@jupyter-widgets/controls",
            "layout": "IPY_MODEL_028ac8ae801449b3b6622ace6e4281ca"
          }
        },
        "8329ea717b6c47e79cbb775b3c003fb7": {
          "model_module": "@jupyter-widgets/controls",
          "model_name": "HTMLModel",
          "model_module_version": "1.5.0",
          "state": {
            "_view_name": "HTMLView",
            "style": "IPY_MODEL_ec57d07eb093411eb357ef6804c7ab39",
            "_dom_classes": [],
            "description": "",
            "_model_name": "HTMLModel",
            "placeholder": "​",
            "_view_module": "@jupyter-widgets/controls",
            "_model_module_version": "1.5.0",
            "value": ", Running Loss=3.59 [00:10&lt;00:00]",
            "_view_count": null,
            "_view_module_version": "1.5.0",
            "description_tooltip": null,
            "_model_module": "@jupyter-widgets/controls",
            "layout": "IPY_MODEL_c23386723548402e89f7a601eb1af8f4"
          }
        },
        "7db034d5b9d24c84b7b4e98382039427": {
          "model_module": "@jupyter-widgets/controls",
          "model_name": "DescriptionStyleModel",
          "model_module_version": "1.5.0",
          "state": {
            "_view_name": "StyleView",
            "_model_name": "DescriptionStyleModel",
            "description_width": "",
            "_view_module": "@jupyter-widgets/base",
            "_model_module_version": "1.5.0",
            "_view_count": null,
            "_view_module_version": "1.2.0",
            "_model_module": "@jupyter-widgets/controls"
          }
        },
        "18179174511f4b75adaf91f8e21de58c": {
          "model_module": "@jupyter-widgets/base",
          "model_name": "LayoutModel",
          "model_module_version": "1.2.0",
          "state": {
            "_view_name": "LayoutView",
            "grid_template_rows": null,
            "right": null,
            "justify_content": null,
            "_view_module": "@jupyter-widgets/base",
            "overflow": null,
            "_model_module_version": "1.2.0",
            "_view_count": null,
            "flex_flow": null,
            "width": null,
            "min_width": null,
            "border": null,
            "align_items": null,
            "bottom": null,
            "_model_module": "@jupyter-widgets/base",
            "top": null,
            "grid_column": null,
            "overflow_y": null,
            "overflow_x": null,
            "grid_auto_flow": null,
            "grid_area": null,
            "grid_template_columns": null,
            "flex": null,
            "_model_name": "LayoutModel",
            "justify_items": null,
            "grid_row": null,
            "max_height": null,
            "align_content": null,
            "visibility": null,
            "align_self": null,
            "height": null,
            "min_height": null,
            "padding": null,
            "grid_auto_rows": null,
            "grid_gap": null,
            "max_width": null,
            "order": null,
            "_view_module_version": "1.2.0",
            "grid_template_areas": null,
            "object_position": null,
            "object_fit": null,
            "grid_auto_columns": null,
            "margin": null,
            "display": null,
            "left": null
          }
        },
        "5390a80c632b4984bb23b1835ed4e376": {
          "model_module": "@jupyter-widgets/controls",
          "model_name": "ProgressStyleModel",
          "model_module_version": "1.5.0",
          "state": {
            "_view_name": "StyleView",
            "_model_name": "ProgressStyleModel",
            "description_width": "",
            "_view_module": "@jupyter-widgets/base",
            "_model_module_version": "1.5.0",
            "_view_count": null,
            "_view_module_version": "1.2.0",
            "bar_color": null,
            "_model_module": "@jupyter-widgets/controls"
          }
        },
        "028ac8ae801449b3b6622ace6e4281ca": {
          "model_module": "@jupyter-widgets/base",
          "model_name": "LayoutModel",
          "model_module_version": "1.2.0",
          "state": {
            "_view_name": "LayoutView",
            "grid_template_rows": null,
            "right": null,
            "justify_content": null,
            "_view_module": "@jupyter-widgets/base",
            "overflow": null,
            "_model_module_version": "1.2.0",
            "_view_count": null,
            "flex_flow": null,
            "width": null,
            "min_width": null,
            "border": null,
            "align_items": null,
            "bottom": null,
            "_model_module": "@jupyter-widgets/base",
            "top": null,
            "grid_column": null,
            "overflow_y": null,
            "overflow_x": null,
            "grid_auto_flow": null,
            "grid_area": null,
            "grid_template_columns": null,
            "flex": null,
            "_model_name": "LayoutModel",
            "justify_items": null,
            "grid_row": null,
            "max_height": null,
            "align_content": null,
            "visibility": null,
            "align_self": null,
            "height": null,
            "min_height": null,
            "padding": null,
            "grid_auto_rows": null,
            "grid_gap": null,
            "max_width": null,
            "order": null,
            "_view_module_version": "1.2.0",
            "grid_template_areas": null,
            "object_position": null,
            "object_fit": null,
            "grid_auto_columns": null,
            "margin": null,
            "display": null,
            "left": null
          }
        },
        "ec57d07eb093411eb357ef6804c7ab39": {
          "model_module": "@jupyter-widgets/controls",
          "model_name": "DescriptionStyleModel",
          "model_module_version": "1.5.0",
          "state": {
            "_view_name": "StyleView",
            "_model_name": "DescriptionStyleModel",
            "description_width": "",
            "_view_module": "@jupyter-widgets/base",
            "_model_module_version": "1.5.0",
            "_view_count": null,
            "_view_module_version": "1.2.0",
            "_model_module": "@jupyter-widgets/controls"
          }
        },
        "c23386723548402e89f7a601eb1af8f4": {
          "model_module": "@jupyter-widgets/base",
          "model_name": "LayoutModel",
          "model_module_version": "1.2.0",
          "state": {
            "_view_name": "LayoutView",
            "grid_template_rows": null,
            "right": null,
            "justify_content": null,
            "_view_module": "@jupyter-widgets/base",
            "overflow": null,
            "_model_module_version": "1.2.0",
            "_view_count": null,
            "flex_flow": null,
            "width": null,
            "min_width": null,
            "border": null,
            "align_items": null,
            "bottom": null,
            "_model_module": "@jupyter-widgets/base",
            "top": null,
            "grid_column": null,
            "overflow_y": null,
            "overflow_x": null,
            "grid_auto_flow": null,
            "grid_area": null,
            "grid_template_columns": null,
            "flex": null,
            "_model_name": "LayoutModel",
            "justify_items": null,
            "grid_row": null,
            "max_height": null,
            "align_content": null,
            "visibility": null,
            "align_self": null,
            "height": null,
            "min_height": null,
            "padding": null,
            "grid_auto_rows": null,
            "grid_gap": null,
            "max_width": null,
            "order": null,
            "_view_module_version": "1.2.0",
            "grid_template_areas": null,
            "object_position": null,
            "object_fit": null,
            "grid_auto_columns": null,
            "margin": null,
            "display": null,
            "left": null
          }
        },
        "828114b972e54e7e859a1f178ae974b5": {
          "model_module": "@jupyter-widgets/controls",
          "model_name": "HBoxModel",
          "model_module_version": "1.5.0",
          "state": {
            "_view_name": "HBoxView",
            "_dom_classes": [],
            "_model_name": "HBoxModel",
            "_view_module": "@jupyter-widgets/controls",
            "_model_module_version": "1.5.0",
            "_view_count": null,
            "_view_module_version": "1.5.0",
            "box_style": "",
            "layout": "IPY_MODEL_4021f04062cc4fde8932fe62ffe9a2e9",
            "_model_module": "@jupyter-widgets/controls",
            "children": [
              "IPY_MODEL_da046e5ca3e1456887c851cca8759c67",
              "IPY_MODEL_7eab3f63adbc4715aeae8becc5308abd",
              "IPY_MODEL_d2bdc2708121410f8cd5c3cfc1ea892a"
            ]
          }
        },
        "4021f04062cc4fde8932fe62ffe9a2e9": {
          "model_module": "@jupyter-widgets/base",
          "model_name": "LayoutModel",
          "model_module_version": "1.2.0",
          "state": {
            "_view_name": "LayoutView",
            "grid_template_rows": null,
            "right": null,
            "justify_content": null,
            "_view_module": "@jupyter-widgets/base",
            "overflow": null,
            "_model_module_version": "1.2.0",
            "_view_count": null,
            "flex_flow": null,
            "width": null,
            "min_width": null,
            "border": null,
            "align_items": null,
            "bottom": null,
            "_model_module": "@jupyter-widgets/base",
            "top": null,
            "grid_column": null,
            "overflow_y": null,
            "overflow_x": null,
            "grid_auto_flow": null,
            "grid_area": null,
            "grid_template_columns": null,
            "flex": null,
            "_model_name": "LayoutModel",
            "justify_items": null,
            "grid_row": null,
            "max_height": null,
            "align_content": null,
            "visibility": null,
            "align_self": null,
            "height": null,
            "min_height": null,
            "padding": null,
            "grid_auto_rows": null,
            "grid_gap": null,
            "max_width": null,
            "order": null,
            "_view_module_version": "1.2.0",
            "grid_template_areas": null,
            "object_position": null,
            "object_fit": null,
            "grid_auto_columns": null,
            "margin": null,
            "display": null,
            "left": null
          }
        },
        "da046e5ca3e1456887c851cca8759c67": {
          "model_module": "@jupyter-widgets/controls",
          "model_name": "HTMLModel",
          "model_module_version": "1.5.0",
          "state": {
            "_view_name": "HTMLView",
            "style": "IPY_MODEL_acdf99f9aa454af38b4f2b4ea813697c",
            "_dom_classes": [],
            "description": "",
            "_model_name": "HTMLModel",
            "placeholder": "​",
            "_view_module": "@jupyter-widgets/controls",
            "_model_module_version": "1.5.0",
            "value": "Epoch [6/20]: [57/57] 100%",
            "_view_count": null,
            "_view_module_version": "1.5.0",
            "description_tooltip": null,
            "_model_module": "@jupyter-widgets/controls",
            "layout": "IPY_MODEL_f82f1c756f614449a5e393cdf0fea97d"
          }
        },
        "7eab3f63adbc4715aeae8becc5308abd": {
          "model_module": "@jupyter-widgets/controls",
          "model_name": "FloatProgressModel",
          "model_module_version": "1.5.0",
          "state": {
            "_view_name": "ProgressView",
            "style": "IPY_MODEL_e7c79c2fdc6a40e78063b39c4ed67032",
            "_dom_classes": [],
            "description": "",
            "_model_name": "FloatProgressModel",
            "bar_style": "",
            "max": 57,
            "_view_module": "@jupyter-widgets/controls",
            "_model_module_version": "1.5.0",
            "value": 57,
            "_view_count": null,
            "_view_module_version": "1.5.0",
            "orientation": "horizontal",
            "min": 0,
            "description_tooltip": null,
            "_model_module": "@jupyter-widgets/controls",
            "layout": "IPY_MODEL_dce48c67e0f1421f8ab17f35ece08e74"
          }
        },
        "d2bdc2708121410f8cd5c3cfc1ea892a": {
          "model_module": "@jupyter-widgets/controls",
          "model_name": "HTMLModel",
          "model_module_version": "1.5.0",
          "state": {
            "_view_name": "HTMLView",
            "style": "IPY_MODEL_0164a332cf2947d7ae14770f95fdfa9c",
            "_dom_classes": [],
            "description": "",
            "_model_name": "HTMLModel",
            "placeholder": "​",
            "_view_module": "@jupyter-widgets/controls",
            "_model_module_version": "1.5.0",
            "value": ", Running Loss=3.3 [00:10&lt;00:00]",
            "_view_count": null,
            "_view_module_version": "1.5.0",
            "description_tooltip": null,
            "_model_module": "@jupyter-widgets/controls",
            "layout": "IPY_MODEL_0b82667a3d564f2cb8c5e76b4430303b"
          }
        },
        "acdf99f9aa454af38b4f2b4ea813697c": {
          "model_module": "@jupyter-widgets/controls",
          "model_name": "DescriptionStyleModel",
          "model_module_version": "1.5.0",
          "state": {
            "_view_name": "StyleView",
            "_model_name": "DescriptionStyleModel",
            "description_width": "",
            "_view_module": "@jupyter-widgets/base",
            "_model_module_version": "1.5.0",
            "_view_count": null,
            "_view_module_version": "1.2.0",
            "_model_module": "@jupyter-widgets/controls"
          }
        },
        "f82f1c756f614449a5e393cdf0fea97d": {
          "model_module": "@jupyter-widgets/base",
          "model_name": "LayoutModel",
          "model_module_version": "1.2.0",
          "state": {
            "_view_name": "LayoutView",
            "grid_template_rows": null,
            "right": null,
            "justify_content": null,
            "_view_module": "@jupyter-widgets/base",
            "overflow": null,
            "_model_module_version": "1.2.0",
            "_view_count": null,
            "flex_flow": null,
            "width": null,
            "min_width": null,
            "border": null,
            "align_items": null,
            "bottom": null,
            "_model_module": "@jupyter-widgets/base",
            "top": null,
            "grid_column": null,
            "overflow_y": null,
            "overflow_x": null,
            "grid_auto_flow": null,
            "grid_area": null,
            "grid_template_columns": null,
            "flex": null,
            "_model_name": "LayoutModel",
            "justify_items": null,
            "grid_row": null,
            "max_height": null,
            "align_content": null,
            "visibility": null,
            "align_self": null,
            "height": null,
            "min_height": null,
            "padding": null,
            "grid_auto_rows": null,
            "grid_gap": null,
            "max_width": null,
            "order": null,
            "_view_module_version": "1.2.0",
            "grid_template_areas": null,
            "object_position": null,
            "object_fit": null,
            "grid_auto_columns": null,
            "margin": null,
            "display": null,
            "left": null
          }
        },
        "e7c79c2fdc6a40e78063b39c4ed67032": {
          "model_module": "@jupyter-widgets/controls",
          "model_name": "ProgressStyleModel",
          "model_module_version": "1.5.0",
          "state": {
            "_view_name": "StyleView",
            "_model_name": "ProgressStyleModel",
            "description_width": "",
            "_view_module": "@jupyter-widgets/base",
            "_model_module_version": "1.5.0",
            "_view_count": null,
            "_view_module_version": "1.2.0",
            "bar_color": null,
            "_model_module": "@jupyter-widgets/controls"
          }
        },
        "dce48c67e0f1421f8ab17f35ece08e74": {
          "model_module": "@jupyter-widgets/base",
          "model_name": "LayoutModel",
          "model_module_version": "1.2.0",
          "state": {
            "_view_name": "LayoutView",
            "grid_template_rows": null,
            "right": null,
            "justify_content": null,
            "_view_module": "@jupyter-widgets/base",
            "overflow": null,
            "_model_module_version": "1.2.0",
            "_view_count": null,
            "flex_flow": null,
            "width": null,
            "min_width": null,
            "border": null,
            "align_items": null,
            "bottom": null,
            "_model_module": "@jupyter-widgets/base",
            "top": null,
            "grid_column": null,
            "overflow_y": null,
            "overflow_x": null,
            "grid_auto_flow": null,
            "grid_area": null,
            "grid_template_columns": null,
            "flex": null,
            "_model_name": "LayoutModel",
            "justify_items": null,
            "grid_row": null,
            "max_height": null,
            "align_content": null,
            "visibility": null,
            "align_self": null,
            "height": null,
            "min_height": null,
            "padding": null,
            "grid_auto_rows": null,
            "grid_gap": null,
            "max_width": null,
            "order": null,
            "_view_module_version": "1.2.0",
            "grid_template_areas": null,
            "object_position": null,
            "object_fit": null,
            "grid_auto_columns": null,
            "margin": null,
            "display": null,
            "left": null
          }
        },
        "0164a332cf2947d7ae14770f95fdfa9c": {
          "model_module": "@jupyter-widgets/controls",
          "model_name": "DescriptionStyleModel",
          "model_module_version": "1.5.0",
          "state": {
            "_view_name": "StyleView",
            "_model_name": "DescriptionStyleModel",
            "description_width": "",
            "_view_module": "@jupyter-widgets/base",
            "_model_module_version": "1.5.0",
            "_view_count": null,
            "_view_module_version": "1.2.0",
            "_model_module": "@jupyter-widgets/controls"
          }
        },
        "0b82667a3d564f2cb8c5e76b4430303b": {
          "model_module": "@jupyter-widgets/base",
          "model_name": "LayoutModel",
          "model_module_version": "1.2.0",
          "state": {
            "_view_name": "LayoutView",
            "grid_template_rows": null,
            "right": null,
            "justify_content": null,
            "_view_module": "@jupyter-widgets/base",
            "overflow": null,
            "_model_module_version": "1.2.0",
            "_view_count": null,
            "flex_flow": null,
            "width": null,
            "min_width": null,
            "border": null,
            "align_items": null,
            "bottom": null,
            "_model_module": "@jupyter-widgets/base",
            "top": null,
            "grid_column": null,
            "overflow_y": null,
            "overflow_x": null,
            "grid_auto_flow": null,
            "grid_area": null,
            "grid_template_columns": null,
            "flex": null,
            "_model_name": "LayoutModel",
            "justify_items": null,
            "grid_row": null,
            "max_height": null,
            "align_content": null,
            "visibility": null,
            "align_self": null,
            "height": null,
            "min_height": null,
            "padding": null,
            "grid_auto_rows": null,
            "grid_gap": null,
            "max_width": null,
            "order": null,
            "_view_module_version": "1.2.0",
            "grid_template_areas": null,
            "object_position": null,
            "object_fit": null,
            "grid_auto_columns": null,
            "margin": null,
            "display": null,
            "left": null
          }
        },
        "0f7de4e034a24a56a1e038008da87a4c": {
          "model_module": "@jupyter-widgets/controls",
          "model_name": "HBoxModel",
          "model_module_version": "1.5.0",
          "state": {
            "_view_name": "HBoxView",
            "_dom_classes": [],
            "_model_name": "HBoxModel",
            "_view_module": "@jupyter-widgets/controls",
            "_model_module_version": "1.5.0",
            "_view_count": null,
            "_view_module_version": "1.5.0",
            "box_style": "",
            "layout": "IPY_MODEL_f0acf7ce2b804c56a64b39e29422b818",
            "_model_module": "@jupyter-widgets/controls",
            "children": [
              "IPY_MODEL_12137ad232cb46dda987cd6180b8f381",
              "IPY_MODEL_737065b7683f42ea943e48b82191869c",
              "IPY_MODEL_f86171daafff450a812bc85e1ffaee98"
            ]
          }
        },
        "f0acf7ce2b804c56a64b39e29422b818": {
          "model_module": "@jupyter-widgets/base",
          "model_name": "LayoutModel",
          "model_module_version": "1.2.0",
          "state": {
            "_view_name": "LayoutView",
            "grid_template_rows": null,
            "right": null,
            "justify_content": null,
            "_view_module": "@jupyter-widgets/base",
            "overflow": null,
            "_model_module_version": "1.2.0",
            "_view_count": null,
            "flex_flow": null,
            "width": null,
            "min_width": null,
            "border": null,
            "align_items": null,
            "bottom": null,
            "_model_module": "@jupyter-widgets/base",
            "top": null,
            "grid_column": null,
            "overflow_y": null,
            "overflow_x": null,
            "grid_auto_flow": null,
            "grid_area": null,
            "grid_template_columns": null,
            "flex": null,
            "_model_name": "LayoutModel",
            "justify_items": null,
            "grid_row": null,
            "max_height": null,
            "align_content": null,
            "visibility": null,
            "align_self": null,
            "height": null,
            "min_height": null,
            "padding": null,
            "grid_auto_rows": null,
            "grid_gap": null,
            "max_width": null,
            "order": null,
            "_view_module_version": "1.2.0",
            "grid_template_areas": null,
            "object_position": null,
            "object_fit": null,
            "grid_auto_columns": null,
            "margin": null,
            "display": null,
            "left": null
          }
        },
        "12137ad232cb46dda987cd6180b8f381": {
          "model_module": "@jupyter-widgets/controls",
          "model_name": "HTMLModel",
          "model_module_version": "1.5.0",
          "state": {
            "_view_name": "HTMLView",
            "style": "IPY_MODEL_0ad07d92b5b34ab4ace9e1e45810baa9",
            "_dom_classes": [],
            "description": "",
            "_model_name": "HTMLModel",
            "placeholder": "​",
            "_view_module": "@jupyter-widgets/controls",
            "_model_module_version": "1.5.0",
            "value": "Epoch [7/20]: [57/57] 100%",
            "_view_count": null,
            "_view_module_version": "1.5.0",
            "description_tooltip": null,
            "_model_module": "@jupyter-widgets/controls",
            "layout": "IPY_MODEL_d732121581c0452fa56f6befe3809852"
          }
        },
        "737065b7683f42ea943e48b82191869c": {
          "model_module": "@jupyter-widgets/controls",
          "model_name": "FloatProgressModel",
          "model_module_version": "1.5.0",
          "state": {
            "_view_name": "ProgressView",
            "style": "IPY_MODEL_d9deb65f51ed452d84ea60a9467d9f27",
            "_dom_classes": [],
            "description": "",
            "_model_name": "FloatProgressModel",
            "bar_style": "",
            "max": 57,
            "_view_module": "@jupyter-widgets/controls",
            "_model_module_version": "1.5.0",
            "value": 57,
            "_view_count": null,
            "_view_module_version": "1.5.0",
            "orientation": "horizontal",
            "min": 0,
            "description_tooltip": null,
            "_model_module": "@jupyter-widgets/controls",
            "layout": "IPY_MODEL_4ea9f88bf3c2485fa105b8c36afe6d3e"
          }
        },
        "f86171daafff450a812bc85e1ffaee98": {
          "model_module": "@jupyter-widgets/controls",
          "model_name": "HTMLModel",
          "model_module_version": "1.5.0",
          "state": {
            "_view_name": "HTMLView",
            "style": "IPY_MODEL_afd4e4d1b05246b8b2af0f2214a0c190",
            "_dom_classes": [],
            "description": "",
            "_model_name": "HTMLModel",
            "placeholder": "​",
            "_view_module": "@jupyter-widgets/controls",
            "_model_module_version": "1.5.0",
            "value": ", Running Loss=3.26 [00:10&lt;00:00]",
            "_view_count": null,
            "_view_module_version": "1.5.0",
            "description_tooltip": null,
            "_model_module": "@jupyter-widgets/controls",
            "layout": "IPY_MODEL_5f18dea3f14e426e8502ceda697dd6da"
          }
        },
        "0ad07d92b5b34ab4ace9e1e45810baa9": {
          "model_module": "@jupyter-widgets/controls",
          "model_name": "DescriptionStyleModel",
          "model_module_version": "1.5.0",
          "state": {
            "_view_name": "StyleView",
            "_model_name": "DescriptionStyleModel",
            "description_width": "",
            "_view_module": "@jupyter-widgets/base",
            "_model_module_version": "1.5.0",
            "_view_count": null,
            "_view_module_version": "1.2.0",
            "_model_module": "@jupyter-widgets/controls"
          }
        },
        "d732121581c0452fa56f6befe3809852": {
          "model_module": "@jupyter-widgets/base",
          "model_name": "LayoutModel",
          "model_module_version": "1.2.0",
          "state": {
            "_view_name": "LayoutView",
            "grid_template_rows": null,
            "right": null,
            "justify_content": null,
            "_view_module": "@jupyter-widgets/base",
            "overflow": null,
            "_model_module_version": "1.2.0",
            "_view_count": null,
            "flex_flow": null,
            "width": null,
            "min_width": null,
            "border": null,
            "align_items": null,
            "bottom": null,
            "_model_module": "@jupyter-widgets/base",
            "top": null,
            "grid_column": null,
            "overflow_y": null,
            "overflow_x": null,
            "grid_auto_flow": null,
            "grid_area": null,
            "grid_template_columns": null,
            "flex": null,
            "_model_name": "LayoutModel",
            "justify_items": null,
            "grid_row": null,
            "max_height": null,
            "align_content": null,
            "visibility": null,
            "align_self": null,
            "height": null,
            "min_height": null,
            "padding": null,
            "grid_auto_rows": null,
            "grid_gap": null,
            "max_width": null,
            "order": null,
            "_view_module_version": "1.2.0",
            "grid_template_areas": null,
            "object_position": null,
            "object_fit": null,
            "grid_auto_columns": null,
            "margin": null,
            "display": null,
            "left": null
          }
        },
        "d9deb65f51ed452d84ea60a9467d9f27": {
          "model_module": "@jupyter-widgets/controls",
          "model_name": "ProgressStyleModel",
          "model_module_version": "1.5.0",
          "state": {
            "_view_name": "StyleView",
            "_model_name": "ProgressStyleModel",
            "description_width": "",
            "_view_module": "@jupyter-widgets/base",
            "_model_module_version": "1.5.0",
            "_view_count": null,
            "_view_module_version": "1.2.0",
            "bar_color": null,
            "_model_module": "@jupyter-widgets/controls"
          }
        },
        "4ea9f88bf3c2485fa105b8c36afe6d3e": {
          "model_module": "@jupyter-widgets/base",
          "model_name": "LayoutModel",
          "model_module_version": "1.2.0",
          "state": {
            "_view_name": "LayoutView",
            "grid_template_rows": null,
            "right": null,
            "justify_content": null,
            "_view_module": "@jupyter-widgets/base",
            "overflow": null,
            "_model_module_version": "1.2.0",
            "_view_count": null,
            "flex_flow": null,
            "width": null,
            "min_width": null,
            "border": null,
            "align_items": null,
            "bottom": null,
            "_model_module": "@jupyter-widgets/base",
            "top": null,
            "grid_column": null,
            "overflow_y": null,
            "overflow_x": null,
            "grid_auto_flow": null,
            "grid_area": null,
            "grid_template_columns": null,
            "flex": null,
            "_model_name": "LayoutModel",
            "justify_items": null,
            "grid_row": null,
            "max_height": null,
            "align_content": null,
            "visibility": null,
            "align_self": null,
            "height": null,
            "min_height": null,
            "padding": null,
            "grid_auto_rows": null,
            "grid_gap": null,
            "max_width": null,
            "order": null,
            "_view_module_version": "1.2.0",
            "grid_template_areas": null,
            "object_position": null,
            "object_fit": null,
            "grid_auto_columns": null,
            "margin": null,
            "display": null,
            "left": null
          }
        },
        "afd4e4d1b05246b8b2af0f2214a0c190": {
          "model_module": "@jupyter-widgets/controls",
          "model_name": "DescriptionStyleModel",
          "model_module_version": "1.5.0",
          "state": {
            "_view_name": "StyleView",
            "_model_name": "DescriptionStyleModel",
            "description_width": "",
            "_view_module": "@jupyter-widgets/base",
            "_model_module_version": "1.5.0",
            "_view_count": null,
            "_view_module_version": "1.2.0",
            "_model_module": "@jupyter-widgets/controls"
          }
        },
        "5f18dea3f14e426e8502ceda697dd6da": {
          "model_module": "@jupyter-widgets/base",
          "model_name": "LayoutModel",
          "model_module_version": "1.2.0",
          "state": {
            "_view_name": "LayoutView",
            "grid_template_rows": null,
            "right": null,
            "justify_content": null,
            "_view_module": "@jupyter-widgets/base",
            "overflow": null,
            "_model_module_version": "1.2.0",
            "_view_count": null,
            "flex_flow": null,
            "width": null,
            "min_width": null,
            "border": null,
            "align_items": null,
            "bottom": null,
            "_model_module": "@jupyter-widgets/base",
            "top": null,
            "grid_column": null,
            "overflow_y": null,
            "overflow_x": null,
            "grid_auto_flow": null,
            "grid_area": null,
            "grid_template_columns": null,
            "flex": null,
            "_model_name": "LayoutModel",
            "justify_items": null,
            "grid_row": null,
            "max_height": null,
            "align_content": null,
            "visibility": null,
            "align_self": null,
            "height": null,
            "min_height": null,
            "padding": null,
            "grid_auto_rows": null,
            "grid_gap": null,
            "max_width": null,
            "order": null,
            "_view_module_version": "1.2.0",
            "grid_template_areas": null,
            "object_position": null,
            "object_fit": null,
            "grid_auto_columns": null,
            "margin": null,
            "display": null,
            "left": null
          }
        },
        "013577faf0d7436286b5255814ab241b": {
          "model_module": "@jupyter-widgets/controls",
          "model_name": "HBoxModel",
          "model_module_version": "1.5.0",
          "state": {
            "_view_name": "HBoxView",
            "_dom_classes": [],
            "_model_name": "HBoxModel",
            "_view_module": "@jupyter-widgets/controls",
            "_model_module_version": "1.5.0",
            "_view_count": null,
            "_view_module_version": "1.5.0",
            "box_style": "",
            "layout": "IPY_MODEL_de1e01dbe904428898e136beec3a79bc",
            "_model_module": "@jupyter-widgets/controls",
            "children": [
              "IPY_MODEL_ca107beeeedb4885bd1e9451ce9777d6",
              "IPY_MODEL_27cc942683e04b32b78e7ce4702767ce",
              "IPY_MODEL_e4213a76833440ce9f04b6573969331c"
            ]
          }
        },
        "de1e01dbe904428898e136beec3a79bc": {
          "model_module": "@jupyter-widgets/base",
          "model_name": "LayoutModel",
          "model_module_version": "1.2.0",
          "state": {
            "_view_name": "LayoutView",
            "grid_template_rows": null,
            "right": null,
            "justify_content": null,
            "_view_module": "@jupyter-widgets/base",
            "overflow": null,
            "_model_module_version": "1.2.0",
            "_view_count": null,
            "flex_flow": null,
            "width": null,
            "min_width": null,
            "border": null,
            "align_items": null,
            "bottom": null,
            "_model_module": "@jupyter-widgets/base",
            "top": null,
            "grid_column": null,
            "overflow_y": null,
            "overflow_x": null,
            "grid_auto_flow": null,
            "grid_area": null,
            "grid_template_columns": null,
            "flex": null,
            "_model_name": "LayoutModel",
            "justify_items": null,
            "grid_row": null,
            "max_height": null,
            "align_content": null,
            "visibility": null,
            "align_self": null,
            "height": null,
            "min_height": null,
            "padding": null,
            "grid_auto_rows": null,
            "grid_gap": null,
            "max_width": null,
            "order": null,
            "_view_module_version": "1.2.0",
            "grid_template_areas": null,
            "object_position": null,
            "object_fit": null,
            "grid_auto_columns": null,
            "margin": null,
            "display": null,
            "left": null
          }
        },
        "ca107beeeedb4885bd1e9451ce9777d6": {
          "model_module": "@jupyter-widgets/controls",
          "model_name": "HTMLModel",
          "model_module_version": "1.5.0",
          "state": {
            "_view_name": "HTMLView",
            "style": "IPY_MODEL_77bdff623b954904afca48593d92650b",
            "_dom_classes": [],
            "description": "",
            "_model_name": "HTMLModel",
            "placeholder": "​",
            "_view_module": "@jupyter-widgets/controls",
            "_model_module_version": "1.5.0",
            "value": "Epoch [8/20]: [57/57] 100%",
            "_view_count": null,
            "_view_module_version": "1.5.0",
            "description_tooltip": null,
            "_model_module": "@jupyter-widgets/controls",
            "layout": "IPY_MODEL_d1f72efc372d470fa70b3e08f180362a"
          }
        },
        "27cc942683e04b32b78e7ce4702767ce": {
          "model_module": "@jupyter-widgets/controls",
          "model_name": "FloatProgressModel",
          "model_module_version": "1.5.0",
          "state": {
            "_view_name": "ProgressView",
            "style": "IPY_MODEL_f3cf12187bbe4c4380c4f29d5f546d7b",
            "_dom_classes": [],
            "description": "",
            "_model_name": "FloatProgressModel",
            "bar_style": "",
            "max": 57,
            "_view_module": "@jupyter-widgets/controls",
            "_model_module_version": "1.5.0",
            "value": 57,
            "_view_count": null,
            "_view_module_version": "1.5.0",
            "orientation": "horizontal",
            "min": 0,
            "description_tooltip": null,
            "_model_module": "@jupyter-widgets/controls",
            "layout": "IPY_MODEL_9eb74476b0ab4ccfbd596371eb052ab1"
          }
        },
        "e4213a76833440ce9f04b6573969331c": {
          "model_module": "@jupyter-widgets/controls",
          "model_name": "HTMLModel",
          "model_module_version": "1.5.0",
          "state": {
            "_view_name": "HTMLView",
            "style": "IPY_MODEL_0709ee22075f44239e7ad32520d51aff",
            "_dom_classes": [],
            "description": "",
            "_model_name": "HTMLModel",
            "placeholder": "​",
            "_view_module": "@jupyter-widgets/controls",
            "_model_module_version": "1.5.0",
            "value": ", Running Loss=3.11 [00:10&lt;00:00]",
            "_view_count": null,
            "_view_module_version": "1.5.0",
            "description_tooltip": null,
            "_model_module": "@jupyter-widgets/controls",
            "layout": "IPY_MODEL_a06fb12cca1b4818bfe29c1e16c00ae1"
          }
        },
        "77bdff623b954904afca48593d92650b": {
          "model_module": "@jupyter-widgets/controls",
          "model_name": "DescriptionStyleModel",
          "model_module_version": "1.5.0",
          "state": {
            "_view_name": "StyleView",
            "_model_name": "DescriptionStyleModel",
            "description_width": "",
            "_view_module": "@jupyter-widgets/base",
            "_model_module_version": "1.5.0",
            "_view_count": null,
            "_view_module_version": "1.2.0",
            "_model_module": "@jupyter-widgets/controls"
          }
        },
        "d1f72efc372d470fa70b3e08f180362a": {
          "model_module": "@jupyter-widgets/base",
          "model_name": "LayoutModel",
          "model_module_version": "1.2.0",
          "state": {
            "_view_name": "LayoutView",
            "grid_template_rows": null,
            "right": null,
            "justify_content": null,
            "_view_module": "@jupyter-widgets/base",
            "overflow": null,
            "_model_module_version": "1.2.0",
            "_view_count": null,
            "flex_flow": null,
            "width": null,
            "min_width": null,
            "border": null,
            "align_items": null,
            "bottom": null,
            "_model_module": "@jupyter-widgets/base",
            "top": null,
            "grid_column": null,
            "overflow_y": null,
            "overflow_x": null,
            "grid_auto_flow": null,
            "grid_area": null,
            "grid_template_columns": null,
            "flex": null,
            "_model_name": "LayoutModel",
            "justify_items": null,
            "grid_row": null,
            "max_height": null,
            "align_content": null,
            "visibility": null,
            "align_self": null,
            "height": null,
            "min_height": null,
            "padding": null,
            "grid_auto_rows": null,
            "grid_gap": null,
            "max_width": null,
            "order": null,
            "_view_module_version": "1.2.0",
            "grid_template_areas": null,
            "object_position": null,
            "object_fit": null,
            "grid_auto_columns": null,
            "margin": null,
            "display": null,
            "left": null
          }
        },
        "f3cf12187bbe4c4380c4f29d5f546d7b": {
          "model_module": "@jupyter-widgets/controls",
          "model_name": "ProgressStyleModel",
          "model_module_version": "1.5.0",
          "state": {
            "_view_name": "StyleView",
            "_model_name": "ProgressStyleModel",
            "description_width": "",
            "_view_module": "@jupyter-widgets/base",
            "_model_module_version": "1.5.0",
            "_view_count": null,
            "_view_module_version": "1.2.0",
            "bar_color": null,
            "_model_module": "@jupyter-widgets/controls"
          }
        },
        "9eb74476b0ab4ccfbd596371eb052ab1": {
          "model_module": "@jupyter-widgets/base",
          "model_name": "LayoutModel",
          "model_module_version": "1.2.0",
          "state": {
            "_view_name": "LayoutView",
            "grid_template_rows": null,
            "right": null,
            "justify_content": null,
            "_view_module": "@jupyter-widgets/base",
            "overflow": null,
            "_model_module_version": "1.2.0",
            "_view_count": null,
            "flex_flow": null,
            "width": null,
            "min_width": null,
            "border": null,
            "align_items": null,
            "bottom": null,
            "_model_module": "@jupyter-widgets/base",
            "top": null,
            "grid_column": null,
            "overflow_y": null,
            "overflow_x": null,
            "grid_auto_flow": null,
            "grid_area": null,
            "grid_template_columns": null,
            "flex": null,
            "_model_name": "LayoutModel",
            "justify_items": null,
            "grid_row": null,
            "max_height": null,
            "align_content": null,
            "visibility": null,
            "align_self": null,
            "height": null,
            "min_height": null,
            "padding": null,
            "grid_auto_rows": null,
            "grid_gap": null,
            "max_width": null,
            "order": null,
            "_view_module_version": "1.2.0",
            "grid_template_areas": null,
            "object_position": null,
            "object_fit": null,
            "grid_auto_columns": null,
            "margin": null,
            "display": null,
            "left": null
          }
        },
        "0709ee22075f44239e7ad32520d51aff": {
          "model_module": "@jupyter-widgets/controls",
          "model_name": "DescriptionStyleModel",
          "model_module_version": "1.5.0",
          "state": {
            "_view_name": "StyleView",
            "_model_name": "DescriptionStyleModel",
            "description_width": "",
            "_view_module": "@jupyter-widgets/base",
            "_model_module_version": "1.5.0",
            "_view_count": null,
            "_view_module_version": "1.2.0",
            "_model_module": "@jupyter-widgets/controls"
          }
        },
        "a06fb12cca1b4818bfe29c1e16c00ae1": {
          "model_module": "@jupyter-widgets/base",
          "model_name": "LayoutModel",
          "model_module_version": "1.2.0",
          "state": {
            "_view_name": "LayoutView",
            "grid_template_rows": null,
            "right": null,
            "justify_content": null,
            "_view_module": "@jupyter-widgets/base",
            "overflow": null,
            "_model_module_version": "1.2.0",
            "_view_count": null,
            "flex_flow": null,
            "width": null,
            "min_width": null,
            "border": null,
            "align_items": null,
            "bottom": null,
            "_model_module": "@jupyter-widgets/base",
            "top": null,
            "grid_column": null,
            "overflow_y": null,
            "overflow_x": null,
            "grid_auto_flow": null,
            "grid_area": null,
            "grid_template_columns": null,
            "flex": null,
            "_model_name": "LayoutModel",
            "justify_items": null,
            "grid_row": null,
            "max_height": null,
            "align_content": null,
            "visibility": null,
            "align_self": null,
            "height": null,
            "min_height": null,
            "padding": null,
            "grid_auto_rows": null,
            "grid_gap": null,
            "max_width": null,
            "order": null,
            "_view_module_version": "1.2.0",
            "grid_template_areas": null,
            "object_position": null,
            "object_fit": null,
            "grid_auto_columns": null,
            "margin": null,
            "display": null,
            "left": null
          }
        },
        "8e175a27b0f8435e8c5002f03c331858": {
          "model_module": "@jupyter-widgets/controls",
          "model_name": "HBoxModel",
          "model_module_version": "1.5.0",
          "state": {
            "_view_name": "HBoxView",
            "_dom_classes": [],
            "_model_name": "HBoxModel",
            "_view_module": "@jupyter-widgets/controls",
            "_model_module_version": "1.5.0",
            "_view_count": null,
            "_view_module_version": "1.5.0",
            "box_style": "",
            "layout": "IPY_MODEL_ce12fedaf3d349bbbc8720b21086c6be",
            "_model_module": "@jupyter-widgets/controls",
            "children": [
              "IPY_MODEL_187661f8a27a42218dfaab601ceef6ec",
              "IPY_MODEL_2d3e9d236d0e44afafd0cb394c89caf9",
              "IPY_MODEL_bd05d11a92574cf99f9bbd3c3c1f6e32"
            ]
          }
        },
        "ce12fedaf3d349bbbc8720b21086c6be": {
          "model_module": "@jupyter-widgets/base",
          "model_name": "LayoutModel",
          "model_module_version": "1.2.0",
          "state": {
            "_view_name": "LayoutView",
            "grid_template_rows": null,
            "right": null,
            "justify_content": null,
            "_view_module": "@jupyter-widgets/base",
            "overflow": null,
            "_model_module_version": "1.2.0",
            "_view_count": null,
            "flex_flow": null,
            "width": null,
            "min_width": null,
            "border": null,
            "align_items": null,
            "bottom": null,
            "_model_module": "@jupyter-widgets/base",
            "top": null,
            "grid_column": null,
            "overflow_y": null,
            "overflow_x": null,
            "grid_auto_flow": null,
            "grid_area": null,
            "grid_template_columns": null,
            "flex": null,
            "_model_name": "LayoutModel",
            "justify_items": null,
            "grid_row": null,
            "max_height": null,
            "align_content": null,
            "visibility": null,
            "align_self": null,
            "height": null,
            "min_height": null,
            "padding": null,
            "grid_auto_rows": null,
            "grid_gap": null,
            "max_width": null,
            "order": null,
            "_view_module_version": "1.2.0",
            "grid_template_areas": null,
            "object_position": null,
            "object_fit": null,
            "grid_auto_columns": null,
            "margin": null,
            "display": null,
            "left": null
          }
        },
        "187661f8a27a42218dfaab601ceef6ec": {
          "model_module": "@jupyter-widgets/controls",
          "model_name": "HTMLModel",
          "model_module_version": "1.5.0",
          "state": {
            "_view_name": "HTMLView",
            "style": "IPY_MODEL_8cc107217c224dedae036eb9abdcb842",
            "_dom_classes": [],
            "description": "",
            "_model_name": "HTMLModel",
            "placeholder": "​",
            "_view_module": "@jupyter-widgets/controls",
            "_model_module_version": "1.5.0",
            "value": "Epoch [9/20]: [57/57] 100%",
            "_view_count": null,
            "_view_module_version": "1.5.0",
            "description_tooltip": null,
            "_model_module": "@jupyter-widgets/controls",
            "layout": "IPY_MODEL_8381e5542a014091bd260ff2eac74d83"
          }
        },
        "2d3e9d236d0e44afafd0cb394c89caf9": {
          "model_module": "@jupyter-widgets/controls",
          "model_name": "FloatProgressModel",
          "model_module_version": "1.5.0",
          "state": {
            "_view_name": "ProgressView",
            "style": "IPY_MODEL_1ab071766f0c4347977b283b7111a52f",
            "_dom_classes": [],
            "description": "",
            "_model_name": "FloatProgressModel",
            "bar_style": "",
            "max": 57,
            "_view_module": "@jupyter-widgets/controls",
            "_model_module_version": "1.5.0",
            "value": 57,
            "_view_count": null,
            "_view_module_version": "1.5.0",
            "orientation": "horizontal",
            "min": 0,
            "description_tooltip": null,
            "_model_module": "@jupyter-widgets/controls",
            "layout": "IPY_MODEL_2f5007c407e74b868430f47e3216d974"
          }
        },
        "bd05d11a92574cf99f9bbd3c3c1f6e32": {
          "model_module": "@jupyter-widgets/controls",
          "model_name": "HTMLModel",
          "model_module_version": "1.5.0",
          "state": {
            "_view_name": "HTMLView",
            "style": "IPY_MODEL_73d592196b5a414098a8787775b44279",
            "_dom_classes": [],
            "description": "",
            "_model_name": "HTMLModel",
            "placeholder": "​",
            "_view_module": "@jupyter-widgets/controls",
            "_model_module_version": "1.5.0",
            "value": ", Running Loss=2.91 [00:10&lt;00:00]",
            "_view_count": null,
            "_view_module_version": "1.5.0",
            "description_tooltip": null,
            "_model_module": "@jupyter-widgets/controls",
            "layout": "IPY_MODEL_e71004e030584e2aba17a8e06bda10a9"
          }
        },
        "8cc107217c224dedae036eb9abdcb842": {
          "model_module": "@jupyter-widgets/controls",
          "model_name": "DescriptionStyleModel",
          "model_module_version": "1.5.0",
          "state": {
            "_view_name": "StyleView",
            "_model_name": "DescriptionStyleModel",
            "description_width": "",
            "_view_module": "@jupyter-widgets/base",
            "_model_module_version": "1.5.0",
            "_view_count": null,
            "_view_module_version": "1.2.0",
            "_model_module": "@jupyter-widgets/controls"
          }
        },
        "8381e5542a014091bd260ff2eac74d83": {
          "model_module": "@jupyter-widgets/base",
          "model_name": "LayoutModel",
          "model_module_version": "1.2.0",
          "state": {
            "_view_name": "LayoutView",
            "grid_template_rows": null,
            "right": null,
            "justify_content": null,
            "_view_module": "@jupyter-widgets/base",
            "overflow": null,
            "_model_module_version": "1.2.0",
            "_view_count": null,
            "flex_flow": null,
            "width": null,
            "min_width": null,
            "border": null,
            "align_items": null,
            "bottom": null,
            "_model_module": "@jupyter-widgets/base",
            "top": null,
            "grid_column": null,
            "overflow_y": null,
            "overflow_x": null,
            "grid_auto_flow": null,
            "grid_area": null,
            "grid_template_columns": null,
            "flex": null,
            "_model_name": "LayoutModel",
            "justify_items": null,
            "grid_row": null,
            "max_height": null,
            "align_content": null,
            "visibility": null,
            "align_self": null,
            "height": null,
            "min_height": null,
            "padding": null,
            "grid_auto_rows": null,
            "grid_gap": null,
            "max_width": null,
            "order": null,
            "_view_module_version": "1.2.0",
            "grid_template_areas": null,
            "object_position": null,
            "object_fit": null,
            "grid_auto_columns": null,
            "margin": null,
            "display": null,
            "left": null
          }
        },
        "1ab071766f0c4347977b283b7111a52f": {
          "model_module": "@jupyter-widgets/controls",
          "model_name": "ProgressStyleModel",
          "model_module_version": "1.5.0",
          "state": {
            "_view_name": "StyleView",
            "_model_name": "ProgressStyleModel",
            "description_width": "",
            "_view_module": "@jupyter-widgets/base",
            "_model_module_version": "1.5.0",
            "_view_count": null,
            "_view_module_version": "1.2.0",
            "bar_color": null,
            "_model_module": "@jupyter-widgets/controls"
          }
        },
        "2f5007c407e74b868430f47e3216d974": {
          "model_module": "@jupyter-widgets/base",
          "model_name": "LayoutModel",
          "model_module_version": "1.2.0",
          "state": {
            "_view_name": "LayoutView",
            "grid_template_rows": null,
            "right": null,
            "justify_content": null,
            "_view_module": "@jupyter-widgets/base",
            "overflow": null,
            "_model_module_version": "1.2.0",
            "_view_count": null,
            "flex_flow": null,
            "width": null,
            "min_width": null,
            "border": null,
            "align_items": null,
            "bottom": null,
            "_model_module": "@jupyter-widgets/base",
            "top": null,
            "grid_column": null,
            "overflow_y": null,
            "overflow_x": null,
            "grid_auto_flow": null,
            "grid_area": null,
            "grid_template_columns": null,
            "flex": null,
            "_model_name": "LayoutModel",
            "justify_items": null,
            "grid_row": null,
            "max_height": null,
            "align_content": null,
            "visibility": null,
            "align_self": null,
            "height": null,
            "min_height": null,
            "padding": null,
            "grid_auto_rows": null,
            "grid_gap": null,
            "max_width": null,
            "order": null,
            "_view_module_version": "1.2.0",
            "grid_template_areas": null,
            "object_position": null,
            "object_fit": null,
            "grid_auto_columns": null,
            "margin": null,
            "display": null,
            "left": null
          }
        },
        "73d592196b5a414098a8787775b44279": {
          "model_module": "@jupyter-widgets/controls",
          "model_name": "DescriptionStyleModel",
          "model_module_version": "1.5.0",
          "state": {
            "_view_name": "StyleView",
            "_model_name": "DescriptionStyleModel",
            "description_width": "",
            "_view_module": "@jupyter-widgets/base",
            "_model_module_version": "1.5.0",
            "_view_count": null,
            "_view_module_version": "1.2.0",
            "_model_module": "@jupyter-widgets/controls"
          }
        },
        "e71004e030584e2aba17a8e06bda10a9": {
          "model_module": "@jupyter-widgets/base",
          "model_name": "LayoutModel",
          "model_module_version": "1.2.0",
          "state": {
            "_view_name": "LayoutView",
            "grid_template_rows": null,
            "right": null,
            "justify_content": null,
            "_view_module": "@jupyter-widgets/base",
            "overflow": null,
            "_model_module_version": "1.2.0",
            "_view_count": null,
            "flex_flow": null,
            "width": null,
            "min_width": null,
            "border": null,
            "align_items": null,
            "bottom": null,
            "_model_module": "@jupyter-widgets/base",
            "top": null,
            "grid_column": null,
            "overflow_y": null,
            "overflow_x": null,
            "grid_auto_flow": null,
            "grid_area": null,
            "grid_template_columns": null,
            "flex": null,
            "_model_name": "LayoutModel",
            "justify_items": null,
            "grid_row": null,
            "max_height": null,
            "align_content": null,
            "visibility": null,
            "align_self": null,
            "height": null,
            "min_height": null,
            "padding": null,
            "grid_auto_rows": null,
            "grid_gap": null,
            "max_width": null,
            "order": null,
            "_view_module_version": "1.2.0",
            "grid_template_areas": null,
            "object_position": null,
            "object_fit": null,
            "grid_auto_columns": null,
            "margin": null,
            "display": null,
            "left": null
          }
        },
        "59fdfe849a934dd9bdc87c8b33ee76f2": {
          "model_module": "@jupyter-widgets/controls",
          "model_name": "HBoxModel",
          "model_module_version": "1.5.0",
          "state": {
            "_view_name": "HBoxView",
            "_dom_classes": [],
            "_model_name": "HBoxModel",
            "_view_module": "@jupyter-widgets/controls",
            "_model_module_version": "1.5.0",
            "_view_count": null,
            "_view_module_version": "1.5.0",
            "box_style": "",
            "layout": "IPY_MODEL_e581038cd3a241809e70e5e3017a0af5",
            "_model_module": "@jupyter-widgets/controls",
            "children": [
              "IPY_MODEL_7da5d31b72b14a72bbfc4ce3e50b6e59",
              "IPY_MODEL_c50e22a6a1b04741a0388f05b329c47b",
              "IPY_MODEL_8b057148228543539acd509a0e04969f"
            ]
          }
        },
        "e581038cd3a241809e70e5e3017a0af5": {
          "model_module": "@jupyter-widgets/base",
          "model_name": "LayoutModel",
          "model_module_version": "1.2.0",
          "state": {
            "_view_name": "LayoutView",
            "grid_template_rows": null,
            "right": null,
            "justify_content": null,
            "_view_module": "@jupyter-widgets/base",
            "overflow": null,
            "_model_module_version": "1.2.0",
            "_view_count": null,
            "flex_flow": null,
            "width": null,
            "min_width": null,
            "border": null,
            "align_items": null,
            "bottom": null,
            "_model_module": "@jupyter-widgets/base",
            "top": null,
            "grid_column": null,
            "overflow_y": null,
            "overflow_x": null,
            "grid_auto_flow": null,
            "grid_area": null,
            "grid_template_columns": null,
            "flex": null,
            "_model_name": "LayoutModel",
            "justify_items": null,
            "grid_row": null,
            "max_height": null,
            "align_content": null,
            "visibility": null,
            "align_self": null,
            "height": null,
            "min_height": null,
            "padding": null,
            "grid_auto_rows": null,
            "grid_gap": null,
            "max_width": null,
            "order": null,
            "_view_module_version": "1.2.0",
            "grid_template_areas": null,
            "object_position": null,
            "object_fit": null,
            "grid_auto_columns": null,
            "margin": null,
            "display": null,
            "left": null
          }
        },
        "7da5d31b72b14a72bbfc4ce3e50b6e59": {
          "model_module": "@jupyter-widgets/controls",
          "model_name": "HTMLModel",
          "model_module_version": "1.5.0",
          "state": {
            "_view_name": "HTMLView",
            "style": "IPY_MODEL_da24f57db0c743de823723613df39ef4",
            "_dom_classes": [],
            "description": "",
            "_model_name": "HTMLModel",
            "placeholder": "​",
            "_view_module": "@jupyter-widgets/controls",
            "_model_module_version": "1.5.0",
            "value": "Epoch [10/20]: [57/57] 100%",
            "_view_count": null,
            "_view_module_version": "1.5.0",
            "description_tooltip": null,
            "_model_module": "@jupyter-widgets/controls",
            "layout": "IPY_MODEL_81e7b56111eb47f5acb71ff93a312526"
          }
        },
        "c50e22a6a1b04741a0388f05b329c47b": {
          "model_module": "@jupyter-widgets/controls",
          "model_name": "FloatProgressModel",
          "model_module_version": "1.5.0",
          "state": {
            "_view_name": "ProgressView",
            "style": "IPY_MODEL_e051bbe1c9fa49cf9c98de51467f3f7d",
            "_dom_classes": [],
            "description": "",
            "_model_name": "FloatProgressModel",
            "bar_style": "",
            "max": 57,
            "_view_module": "@jupyter-widgets/controls",
            "_model_module_version": "1.5.0",
            "value": 57,
            "_view_count": null,
            "_view_module_version": "1.5.0",
            "orientation": "horizontal",
            "min": 0,
            "description_tooltip": null,
            "_model_module": "@jupyter-widgets/controls",
            "layout": "IPY_MODEL_f755df10fdf542adae780a2604ed3feb"
          }
        },
        "8b057148228543539acd509a0e04969f": {
          "model_module": "@jupyter-widgets/controls",
          "model_name": "HTMLModel",
          "model_module_version": "1.5.0",
          "state": {
            "_view_name": "HTMLView",
            "style": "IPY_MODEL_ac5d763be7834074a4cc20d812cbf996",
            "_dom_classes": [],
            "description": "",
            "_model_name": "HTMLModel",
            "placeholder": "​",
            "_view_module": "@jupyter-widgets/controls",
            "_model_module_version": "1.5.0",
            "value": ", Running Loss=2.98 [00:10&lt;00:00]",
            "_view_count": null,
            "_view_module_version": "1.5.0",
            "description_tooltip": null,
            "_model_module": "@jupyter-widgets/controls",
            "layout": "IPY_MODEL_b51f15f2ca124218a7de8d9836e9c90b"
          }
        },
        "da24f57db0c743de823723613df39ef4": {
          "model_module": "@jupyter-widgets/controls",
          "model_name": "DescriptionStyleModel",
          "model_module_version": "1.5.0",
          "state": {
            "_view_name": "StyleView",
            "_model_name": "DescriptionStyleModel",
            "description_width": "",
            "_view_module": "@jupyter-widgets/base",
            "_model_module_version": "1.5.0",
            "_view_count": null,
            "_view_module_version": "1.2.0",
            "_model_module": "@jupyter-widgets/controls"
          }
        },
        "81e7b56111eb47f5acb71ff93a312526": {
          "model_module": "@jupyter-widgets/base",
          "model_name": "LayoutModel",
          "model_module_version": "1.2.0",
          "state": {
            "_view_name": "LayoutView",
            "grid_template_rows": null,
            "right": null,
            "justify_content": null,
            "_view_module": "@jupyter-widgets/base",
            "overflow": null,
            "_model_module_version": "1.2.0",
            "_view_count": null,
            "flex_flow": null,
            "width": null,
            "min_width": null,
            "border": null,
            "align_items": null,
            "bottom": null,
            "_model_module": "@jupyter-widgets/base",
            "top": null,
            "grid_column": null,
            "overflow_y": null,
            "overflow_x": null,
            "grid_auto_flow": null,
            "grid_area": null,
            "grid_template_columns": null,
            "flex": null,
            "_model_name": "LayoutModel",
            "justify_items": null,
            "grid_row": null,
            "max_height": null,
            "align_content": null,
            "visibility": null,
            "align_self": null,
            "height": null,
            "min_height": null,
            "padding": null,
            "grid_auto_rows": null,
            "grid_gap": null,
            "max_width": null,
            "order": null,
            "_view_module_version": "1.2.0",
            "grid_template_areas": null,
            "object_position": null,
            "object_fit": null,
            "grid_auto_columns": null,
            "margin": null,
            "display": null,
            "left": null
          }
        },
        "e051bbe1c9fa49cf9c98de51467f3f7d": {
          "model_module": "@jupyter-widgets/controls",
          "model_name": "ProgressStyleModel",
          "model_module_version": "1.5.0",
          "state": {
            "_view_name": "StyleView",
            "_model_name": "ProgressStyleModel",
            "description_width": "",
            "_view_module": "@jupyter-widgets/base",
            "_model_module_version": "1.5.0",
            "_view_count": null,
            "_view_module_version": "1.2.0",
            "bar_color": null,
            "_model_module": "@jupyter-widgets/controls"
          }
        },
        "f755df10fdf542adae780a2604ed3feb": {
          "model_module": "@jupyter-widgets/base",
          "model_name": "LayoutModel",
          "model_module_version": "1.2.0",
          "state": {
            "_view_name": "LayoutView",
            "grid_template_rows": null,
            "right": null,
            "justify_content": null,
            "_view_module": "@jupyter-widgets/base",
            "overflow": null,
            "_model_module_version": "1.2.0",
            "_view_count": null,
            "flex_flow": null,
            "width": null,
            "min_width": null,
            "border": null,
            "align_items": null,
            "bottom": null,
            "_model_module": "@jupyter-widgets/base",
            "top": null,
            "grid_column": null,
            "overflow_y": null,
            "overflow_x": null,
            "grid_auto_flow": null,
            "grid_area": null,
            "grid_template_columns": null,
            "flex": null,
            "_model_name": "LayoutModel",
            "justify_items": null,
            "grid_row": null,
            "max_height": null,
            "align_content": null,
            "visibility": null,
            "align_self": null,
            "height": null,
            "min_height": null,
            "padding": null,
            "grid_auto_rows": null,
            "grid_gap": null,
            "max_width": null,
            "order": null,
            "_view_module_version": "1.2.0",
            "grid_template_areas": null,
            "object_position": null,
            "object_fit": null,
            "grid_auto_columns": null,
            "margin": null,
            "display": null,
            "left": null
          }
        },
        "ac5d763be7834074a4cc20d812cbf996": {
          "model_module": "@jupyter-widgets/controls",
          "model_name": "DescriptionStyleModel",
          "model_module_version": "1.5.0",
          "state": {
            "_view_name": "StyleView",
            "_model_name": "DescriptionStyleModel",
            "description_width": "",
            "_view_module": "@jupyter-widgets/base",
            "_model_module_version": "1.5.0",
            "_view_count": null,
            "_view_module_version": "1.2.0",
            "_model_module": "@jupyter-widgets/controls"
          }
        },
        "b51f15f2ca124218a7de8d9836e9c90b": {
          "model_module": "@jupyter-widgets/base",
          "model_name": "LayoutModel",
          "model_module_version": "1.2.0",
          "state": {
            "_view_name": "LayoutView",
            "grid_template_rows": null,
            "right": null,
            "justify_content": null,
            "_view_module": "@jupyter-widgets/base",
            "overflow": null,
            "_model_module_version": "1.2.0",
            "_view_count": null,
            "flex_flow": null,
            "width": null,
            "min_width": null,
            "border": null,
            "align_items": null,
            "bottom": null,
            "_model_module": "@jupyter-widgets/base",
            "top": null,
            "grid_column": null,
            "overflow_y": null,
            "overflow_x": null,
            "grid_auto_flow": null,
            "grid_area": null,
            "grid_template_columns": null,
            "flex": null,
            "_model_name": "LayoutModel",
            "justify_items": null,
            "grid_row": null,
            "max_height": null,
            "align_content": null,
            "visibility": null,
            "align_self": null,
            "height": null,
            "min_height": null,
            "padding": null,
            "grid_auto_rows": null,
            "grid_gap": null,
            "max_width": null,
            "order": null,
            "_view_module_version": "1.2.0",
            "grid_template_areas": null,
            "object_position": null,
            "object_fit": null,
            "grid_auto_columns": null,
            "margin": null,
            "display": null,
            "left": null
          }
        },
        "1dfa5e04c82e44dc8fbd7deb58757b62": {
          "model_module": "@jupyter-widgets/controls",
          "model_name": "HBoxModel",
          "model_module_version": "1.5.0",
          "state": {
            "_view_name": "HBoxView",
            "_dom_classes": [],
            "_model_name": "HBoxModel",
            "_view_module": "@jupyter-widgets/controls",
            "_model_module_version": "1.5.0",
            "_view_count": null,
            "_view_module_version": "1.5.0",
            "box_style": "",
            "layout": "IPY_MODEL_b74866c57d494d99a84486f977d60887",
            "_model_module": "@jupyter-widgets/controls",
            "children": [
              "IPY_MODEL_09f07a30604d4b579c9c9899594e3324",
              "IPY_MODEL_49bc4a1d9d954036b88edb3147bbc616",
              "IPY_MODEL_123649c123bb4454818e08a5dc83a170"
            ]
          }
        },
        "b74866c57d494d99a84486f977d60887": {
          "model_module": "@jupyter-widgets/base",
          "model_name": "LayoutModel",
          "model_module_version": "1.2.0",
          "state": {
            "_view_name": "LayoutView",
            "grid_template_rows": null,
            "right": null,
            "justify_content": null,
            "_view_module": "@jupyter-widgets/base",
            "overflow": null,
            "_model_module_version": "1.2.0",
            "_view_count": null,
            "flex_flow": null,
            "width": null,
            "min_width": null,
            "border": null,
            "align_items": null,
            "bottom": null,
            "_model_module": "@jupyter-widgets/base",
            "top": null,
            "grid_column": null,
            "overflow_y": null,
            "overflow_x": null,
            "grid_auto_flow": null,
            "grid_area": null,
            "grid_template_columns": null,
            "flex": null,
            "_model_name": "LayoutModel",
            "justify_items": null,
            "grid_row": null,
            "max_height": null,
            "align_content": null,
            "visibility": null,
            "align_self": null,
            "height": null,
            "min_height": null,
            "padding": null,
            "grid_auto_rows": null,
            "grid_gap": null,
            "max_width": null,
            "order": null,
            "_view_module_version": "1.2.0",
            "grid_template_areas": null,
            "object_position": null,
            "object_fit": null,
            "grid_auto_columns": null,
            "margin": null,
            "display": null,
            "left": null
          }
        },
        "09f07a30604d4b579c9c9899594e3324": {
          "model_module": "@jupyter-widgets/controls",
          "model_name": "HTMLModel",
          "model_module_version": "1.5.0",
          "state": {
            "_view_name": "HTMLView",
            "style": "IPY_MODEL_0819c26ab4504a868c3e45d41a104e19",
            "_dom_classes": [],
            "description": "",
            "_model_name": "HTMLModel",
            "placeholder": "​",
            "_view_module": "@jupyter-widgets/controls",
            "_model_module_version": "1.5.0",
            "value": "Epoch [11/20]: [57/57] 100%",
            "_view_count": null,
            "_view_module_version": "1.5.0",
            "description_tooltip": null,
            "_model_module": "@jupyter-widgets/controls",
            "layout": "IPY_MODEL_5a1aade282934341a7bf5083f5053fc0"
          }
        },
        "49bc4a1d9d954036b88edb3147bbc616": {
          "model_module": "@jupyter-widgets/controls",
          "model_name": "FloatProgressModel",
          "model_module_version": "1.5.0",
          "state": {
            "_view_name": "ProgressView",
            "style": "IPY_MODEL_af0d656d06e94f12b202e966f5110f7c",
            "_dom_classes": [],
            "description": "",
            "_model_name": "FloatProgressModel",
            "bar_style": "",
            "max": 57,
            "_view_module": "@jupyter-widgets/controls",
            "_model_module_version": "1.5.0",
            "value": 57,
            "_view_count": null,
            "_view_module_version": "1.5.0",
            "orientation": "horizontal",
            "min": 0,
            "description_tooltip": null,
            "_model_module": "@jupyter-widgets/controls",
            "layout": "IPY_MODEL_a3f9e98fb7c84daca6a2c98819f73d57"
          }
        },
        "123649c123bb4454818e08a5dc83a170": {
          "model_module": "@jupyter-widgets/controls",
          "model_name": "HTMLModel",
          "model_module_version": "1.5.0",
          "state": {
            "_view_name": "HTMLView",
            "style": "IPY_MODEL_a90a75f948f54c7c85a31a70e1a27c54",
            "_dom_classes": [],
            "description": "",
            "_model_name": "HTMLModel",
            "placeholder": "​",
            "_view_module": "@jupyter-widgets/controls",
            "_model_module_version": "1.5.0",
            "value": ", Running Loss=2.97 [00:10&lt;00:00]",
            "_view_count": null,
            "_view_module_version": "1.5.0",
            "description_tooltip": null,
            "_model_module": "@jupyter-widgets/controls",
            "layout": "IPY_MODEL_04610bf84bbc49349d14a8217bf99809"
          }
        },
        "0819c26ab4504a868c3e45d41a104e19": {
          "model_module": "@jupyter-widgets/controls",
          "model_name": "DescriptionStyleModel",
          "model_module_version": "1.5.0",
          "state": {
            "_view_name": "StyleView",
            "_model_name": "DescriptionStyleModel",
            "description_width": "",
            "_view_module": "@jupyter-widgets/base",
            "_model_module_version": "1.5.0",
            "_view_count": null,
            "_view_module_version": "1.2.0",
            "_model_module": "@jupyter-widgets/controls"
          }
        },
        "5a1aade282934341a7bf5083f5053fc0": {
          "model_module": "@jupyter-widgets/base",
          "model_name": "LayoutModel",
          "model_module_version": "1.2.0",
          "state": {
            "_view_name": "LayoutView",
            "grid_template_rows": null,
            "right": null,
            "justify_content": null,
            "_view_module": "@jupyter-widgets/base",
            "overflow": null,
            "_model_module_version": "1.2.0",
            "_view_count": null,
            "flex_flow": null,
            "width": null,
            "min_width": null,
            "border": null,
            "align_items": null,
            "bottom": null,
            "_model_module": "@jupyter-widgets/base",
            "top": null,
            "grid_column": null,
            "overflow_y": null,
            "overflow_x": null,
            "grid_auto_flow": null,
            "grid_area": null,
            "grid_template_columns": null,
            "flex": null,
            "_model_name": "LayoutModel",
            "justify_items": null,
            "grid_row": null,
            "max_height": null,
            "align_content": null,
            "visibility": null,
            "align_self": null,
            "height": null,
            "min_height": null,
            "padding": null,
            "grid_auto_rows": null,
            "grid_gap": null,
            "max_width": null,
            "order": null,
            "_view_module_version": "1.2.0",
            "grid_template_areas": null,
            "object_position": null,
            "object_fit": null,
            "grid_auto_columns": null,
            "margin": null,
            "display": null,
            "left": null
          }
        },
        "af0d656d06e94f12b202e966f5110f7c": {
          "model_module": "@jupyter-widgets/controls",
          "model_name": "ProgressStyleModel",
          "model_module_version": "1.5.0",
          "state": {
            "_view_name": "StyleView",
            "_model_name": "ProgressStyleModel",
            "description_width": "",
            "_view_module": "@jupyter-widgets/base",
            "_model_module_version": "1.5.0",
            "_view_count": null,
            "_view_module_version": "1.2.0",
            "bar_color": null,
            "_model_module": "@jupyter-widgets/controls"
          }
        },
        "a3f9e98fb7c84daca6a2c98819f73d57": {
          "model_module": "@jupyter-widgets/base",
          "model_name": "LayoutModel",
          "model_module_version": "1.2.0",
          "state": {
            "_view_name": "LayoutView",
            "grid_template_rows": null,
            "right": null,
            "justify_content": null,
            "_view_module": "@jupyter-widgets/base",
            "overflow": null,
            "_model_module_version": "1.2.0",
            "_view_count": null,
            "flex_flow": null,
            "width": null,
            "min_width": null,
            "border": null,
            "align_items": null,
            "bottom": null,
            "_model_module": "@jupyter-widgets/base",
            "top": null,
            "grid_column": null,
            "overflow_y": null,
            "overflow_x": null,
            "grid_auto_flow": null,
            "grid_area": null,
            "grid_template_columns": null,
            "flex": null,
            "_model_name": "LayoutModel",
            "justify_items": null,
            "grid_row": null,
            "max_height": null,
            "align_content": null,
            "visibility": null,
            "align_self": null,
            "height": null,
            "min_height": null,
            "padding": null,
            "grid_auto_rows": null,
            "grid_gap": null,
            "max_width": null,
            "order": null,
            "_view_module_version": "1.2.0",
            "grid_template_areas": null,
            "object_position": null,
            "object_fit": null,
            "grid_auto_columns": null,
            "margin": null,
            "display": null,
            "left": null
          }
        },
        "a90a75f948f54c7c85a31a70e1a27c54": {
          "model_module": "@jupyter-widgets/controls",
          "model_name": "DescriptionStyleModel",
          "model_module_version": "1.5.0",
          "state": {
            "_view_name": "StyleView",
            "_model_name": "DescriptionStyleModel",
            "description_width": "",
            "_view_module": "@jupyter-widgets/base",
            "_model_module_version": "1.5.0",
            "_view_count": null,
            "_view_module_version": "1.2.0",
            "_model_module": "@jupyter-widgets/controls"
          }
        },
        "04610bf84bbc49349d14a8217bf99809": {
          "model_module": "@jupyter-widgets/base",
          "model_name": "LayoutModel",
          "model_module_version": "1.2.0",
          "state": {
            "_view_name": "LayoutView",
            "grid_template_rows": null,
            "right": null,
            "justify_content": null,
            "_view_module": "@jupyter-widgets/base",
            "overflow": null,
            "_model_module_version": "1.2.0",
            "_view_count": null,
            "flex_flow": null,
            "width": null,
            "min_width": null,
            "border": null,
            "align_items": null,
            "bottom": null,
            "_model_module": "@jupyter-widgets/base",
            "top": null,
            "grid_column": null,
            "overflow_y": null,
            "overflow_x": null,
            "grid_auto_flow": null,
            "grid_area": null,
            "grid_template_columns": null,
            "flex": null,
            "_model_name": "LayoutModel",
            "justify_items": null,
            "grid_row": null,
            "max_height": null,
            "align_content": null,
            "visibility": null,
            "align_self": null,
            "height": null,
            "min_height": null,
            "padding": null,
            "grid_auto_rows": null,
            "grid_gap": null,
            "max_width": null,
            "order": null,
            "_view_module_version": "1.2.0",
            "grid_template_areas": null,
            "object_position": null,
            "object_fit": null,
            "grid_auto_columns": null,
            "margin": null,
            "display": null,
            "left": null
          }
        },
        "a0f22560337748c0a3db93ecc5a02e7c": {
          "model_module": "@jupyter-widgets/controls",
          "model_name": "VBoxModel",
          "model_module_version": "1.5.0",
          "state": {
            "_view_name": "VBoxView",
            "_dom_classes": [],
            "_model_name": "VBoxModel",
            "_view_module": "@jupyter-widgets/controls",
            "_model_module_version": "1.5.0",
            "_view_count": null,
            "_view_module_version": "1.5.0",
            "box_style": "",
            "layout": "IPY_MODEL_2be890ad1a434c47a07aae393c2591cf",
            "_model_module": "@jupyter-widgets/controls",
            "children": [
              "IPY_MODEL_4dbcb472f7e0464db4e959e173f1a67e",
              "IPY_MODEL_c7f98d43b4e04d6cb8576b8669a7f382"
            ]
          }
        },
        "2be890ad1a434c47a07aae393c2591cf": {
          "model_module": "@jupyter-widgets/base",
          "model_name": "LayoutModel",
          "model_module_version": "1.2.0",
          "state": {
            "_view_name": "LayoutView",
            "grid_template_rows": null,
            "right": null,
            "justify_content": null,
            "_view_module": "@jupyter-widgets/base",
            "overflow": null,
            "_model_module_version": "1.2.0",
            "_view_count": null,
            "flex_flow": null,
            "width": null,
            "min_width": null,
            "border": null,
            "align_items": null,
            "bottom": null,
            "_model_module": "@jupyter-widgets/base",
            "top": null,
            "grid_column": null,
            "overflow_y": null,
            "overflow_x": null,
            "grid_auto_flow": null,
            "grid_area": null,
            "grid_template_columns": null,
            "flex": null,
            "_model_name": "LayoutModel",
            "justify_items": null,
            "grid_row": null,
            "max_height": null,
            "align_content": null,
            "visibility": null,
            "align_self": null,
            "height": null,
            "min_height": null,
            "padding": null,
            "grid_auto_rows": null,
            "grid_gap": null,
            "max_width": null,
            "order": null,
            "_view_module_version": "1.2.0",
            "grid_template_areas": null,
            "object_position": null,
            "object_fit": null,
            "grid_auto_columns": null,
            "margin": null,
            "display": null,
            "left": null
          }
        },
        "4dbcb472f7e0464db4e959e173f1a67e": {
          "model_module": "@jupyter-widgets/controls",
          "model_name": "LabelModel",
          "model_module_version": "1.5.0",
          "state": {
            "_view_name": "LabelView",
            "style": "IPY_MODEL_b52598197f85473a9514ae91761d9639",
            "_dom_classes": [],
            "description": "",
            "_model_name": "LabelModel",
            "placeholder": "​",
            "_view_module": "@jupyter-widgets/controls",
            "_model_module_version": "1.5.0",
            "value": " 3589.69MB of 3589.69MB uploaded (0.00MB deduped)\r",
            "_view_count": null,
            "_view_module_version": "1.5.0",
            "description_tooltip": null,
            "_model_module": "@jupyter-widgets/controls",
            "layout": "IPY_MODEL_4e0ab19fe92c435abf688301cd2c4663"
          }
        },
        "c7f98d43b4e04d6cb8576b8669a7f382": {
          "model_module": "@jupyter-widgets/controls",
          "model_name": "FloatProgressModel",
          "model_module_version": "1.5.0",
          "state": {
            "_view_name": "ProgressView",
            "style": "IPY_MODEL_34e611c2ba44421e8e69906e7fb01a0b",
            "_dom_classes": [],
            "description": "",
            "_model_name": "FloatProgressModel",
            "bar_style": "",
            "max": 1,
            "_view_module": "@jupyter-widgets/controls",
            "_model_module_version": "1.5.0",
            "value": 1,
            "_view_count": null,
            "_view_module_version": "1.5.0",
            "orientation": "horizontal",
            "min": 0,
            "description_tooltip": null,
            "_model_module": "@jupyter-widgets/controls",
            "layout": "IPY_MODEL_ec3a815bf97946cc92956b322b20d0e7"
          }
        },
        "b52598197f85473a9514ae91761d9639": {
          "model_module": "@jupyter-widgets/controls",
          "model_name": "DescriptionStyleModel",
          "model_module_version": "1.5.0",
          "state": {
            "_view_name": "StyleView",
            "_model_name": "DescriptionStyleModel",
            "description_width": "",
            "_view_module": "@jupyter-widgets/base",
            "_model_module_version": "1.5.0",
            "_view_count": null,
            "_view_module_version": "1.2.0",
            "_model_module": "@jupyter-widgets/controls"
          }
        },
        "4e0ab19fe92c435abf688301cd2c4663": {
          "model_module": "@jupyter-widgets/base",
          "model_name": "LayoutModel",
          "model_module_version": "1.2.0",
          "state": {
            "_view_name": "LayoutView",
            "grid_template_rows": null,
            "right": null,
            "justify_content": null,
            "_view_module": "@jupyter-widgets/base",
            "overflow": null,
            "_model_module_version": "1.2.0",
            "_view_count": null,
            "flex_flow": null,
            "width": null,
            "min_width": null,
            "border": null,
            "align_items": null,
            "bottom": null,
            "_model_module": "@jupyter-widgets/base",
            "top": null,
            "grid_column": null,
            "overflow_y": null,
            "overflow_x": null,
            "grid_auto_flow": null,
            "grid_area": null,
            "grid_template_columns": null,
            "flex": null,
            "_model_name": "LayoutModel",
            "justify_items": null,
            "grid_row": null,
            "max_height": null,
            "align_content": null,
            "visibility": null,
            "align_self": null,
            "height": null,
            "min_height": null,
            "padding": null,
            "grid_auto_rows": null,
            "grid_gap": null,
            "max_width": null,
            "order": null,
            "_view_module_version": "1.2.0",
            "grid_template_areas": null,
            "object_position": null,
            "object_fit": null,
            "grid_auto_columns": null,
            "margin": null,
            "display": null,
            "left": null
          }
        },
        "34e611c2ba44421e8e69906e7fb01a0b": {
          "model_module": "@jupyter-widgets/controls",
          "model_name": "ProgressStyleModel",
          "model_module_version": "1.5.0",
          "state": {
            "_view_name": "StyleView",
            "_model_name": "ProgressStyleModel",
            "description_width": "",
            "_view_module": "@jupyter-widgets/base",
            "_model_module_version": "1.5.0",
            "_view_count": null,
            "_view_module_version": "1.2.0",
            "bar_color": null,
            "_model_module": "@jupyter-widgets/controls"
          }
        },
        "ec3a815bf97946cc92956b322b20d0e7": {
          "model_module": "@jupyter-widgets/base",
          "model_name": "LayoutModel",
          "model_module_version": "1.2.0",
          "state": {
            "_view_name": "LayoutView",
            "grid_template_rows": null,
            "right": null,
            "justify_content": null,
            "_view_module": "@jupyter-widgets/base",
            "overflow": null,
            "_model_module_version": "1.2.0",
            "_view_count": null,
            "flex_flow": null,
            "width": null,
            "min_width": null,
            "border": null,
            "align_items": null,
            "bottom": null,
            "_model_module": "@jupyter-widgets/base",
            "top": null,
            "grid_column": null,
            "overflow_y": null,
            "overflow_x": null,
            "grid_auto_flow": null,
            "grid_area": null,
            "grid_template_columns": null,
            "flex": null,
            "_model_name": "LayoutModel",
            "justify_items": null,
            "grid_row": null,
            "max_height": null,
            "align_content": null,
            "visibility": null,
            "align_self": null,
            "height": null,
            "min_height": null,
            "padding": null,
            "grid_auto_rows": null,
            "grid_gap": null,
            "max_width": null,
            "order": null,
            "_view_module_version": "1.2.0",
            "grid_template_areas": null,
            "object_position": null,
            "object_fit": null,
            "grid_auto_columns": null,
            "margin": null,
            "display": null,
            "left": null
          }
        }
      }
    },
    "accelerator": "GPU"
  },
  "cells": [
    {
      "cell_type": "markdown",
      "metadata": {
        "id": "view-in-github",
        "colab_type": "text"
      },
      "source": [
        "<a href=\"https://colab.research.google.com/github/sadra-barikbin/novel-solutions-for-sentiment-analysis/blob/main/Attentionist.ipynb\" target=\"_parent\"><img src=\"https://colab.research.google.com/assets/colab-badge.svg\" alt=\"Open In Colab\"/></a>"
      ]
    },
    {
      "cell_type": "markdown",
      "source": [
        "# Setup"
      ],
      "metadata": {
        "id": "M8hamQn55RX4"
      }
    },
    {
      "cell_type": "code",
      "metadata": {
        "id": "bcp4vqhdG6UC",
        "colab": {
          "base_uri": "https://localhost:8080/"
        },
        "outputId": "778fbab0-4d0f-47e5-8e69-3b161caac6a4"
      },
      "source": [
        "!pip install transformers pytorch-ignite wandb"
      ],
      "execution_count": 1,
      "outputs": [
        {
          "output_type": "stream",
          "name": "stdout",
          "text": [
            "Collecting transformers\n",
            "  Downloading transformers-4.16.2-py3-none-any.whl (3.5 MB)\n",
            "\u001b[K     |████████████████████████████████| 3.5 MB 5.0 MB/s \n",
            "\u001b[?25hCollecting pytorch-ignite\n",
            "  Downloading pytorch_ignite-0.4.8-py3-none-any.whl (251 kB)\n",
            "\u001b[K     |████████████████████████████████| 251 kB 70.9 MB/s \n",
            "\u001b[?25hCollecting wandb\n",
            "  Downloading wandb-0.12.11-py2.py3-none-any.whl (1.7 MB)\n",
            "\u001b[K     |████████████████████████████████| 1.7 MB 47.2 MB/s \n",
            "\u001b[?25hCollecting tokenizers!=0.11.3,>=0.10.1\n",
            "  Downloading tokenizers-0.11.6-cp37-cp37m-manylinux_2_12_x86_64.manylinux2010_x86_64.whl (6.5 MB)\n",
            "\u001b[K     |████████████████████████████████| 6.5 MB 52.6 MB/s \n",
            "\u001b[?25hRequirement already satisfied: tqdm>=4.27 in /usr/local/lib/python3.7/dist-packages (from transformers) (4.62.3)\n",
            "Collecting sacremoses\n",
            "  Downloading sacremoses-0.0.47-py2.py3-none-any.whl (895 kB)\n",
            "\u001b[K     |████████████████████████████████| 895 kB 65.5 MB/s \n",
            "\u001b[?25hCollecting huggingface-hub<1.0,>=0.1.0\n",
            "  Downloading huggingface_hub-0.4.0-py3-none-any.whl (67 kB)\n",
            "\u001b[K     |████████████████████████████████| 67 kB 6.8 MB/s \n",
            "\u001b[?25hRequirement already satisfied: regex!=2019.12.17 in /usr/local/lib/python3.7/dist-packages (from transformers) (2019.12.20)\n",
            "Collecting pyyaml>=5.1\n",
            "  Downloading PyYAML-6.0-cp37-cp37m-manylinux_2_5_x86_64.manylinux1_x86_64.manylinux_2_12_x86_64.manylinux2010_x86_64.whl (596 kB)\n",
            "\u001b[K     |████████████████████████████████| 596 kB 66.6 MB/s \n",
            "\u001b[?25hRequirement already satisfied: packaging>=20.0 in /usr/local/lib/python3.7/dist-packages (from transformers) (21.3)\n",
            "Requirement already satisfied: filelock in /usr/local/lib/python3.7/dist-packages (from transformers) (3.6.0)\n",
            "Requirement already satisfied: requests in /usr/local/lib/python3.7/dist-packages (from transformers) (2.23.0)\n",
            "Requirement already satisfied: numpy>=1.17 in /usr/local/lib/python3.7/dist-packages (from transformers) (1.21.5)\n",
            "Requirement already satisfied: importlib-metadata in /usr/local/lib/python3.7/dist-packages (from transformers) (4.11.1)\n",
            "Requirement already satisfied: typing-extensions>=3.7.4.3 in /usr/local/lib/python3.7/dist-packages (from huggingface-hub<1.0,>=0.1.0->transformers) (3.10.0.2)\n",
            "Requirement already satisfied: pyparsing!=3.0.5,>=2.0.2 in /usr/local/lib/python3.7/dist-packages (from packaging>=20.0->transformers) (3.0.7)\n",
            "Requirement already satisfied: torch<2,>=1.3 in /usr/local/lib/python3.7/dist-packages (from pytorch-ignite) (1.10.0+cu111)\n",
            "Requirement already satisfied: Click!=8.0.0,>=7.0 in /usr/local/lib/python3.7/dist-packages (from wandb) (7.1.2)\n",
            "Collecting GitPython>=1.0.0\n",
            "  Downloading GitPython-3.1.27-py3-none-any.whl (181 kB)\n",
            "\u001b[K     |████████████████████████████████| 181 kB 73.7 MB/s \n",
            "\u001b[?25hCollecting yaspin>=1.0.0\n",
            "  Downloading yaspin-2.1.0-py3-none-any.whl (18 kB)\n",
            "Requirement already satisfied: six>=1.13.0 in /usr/local/lib/python3.7/dist-packages (from wandb) (1.15.0)\n",
            "Requirement already satisfied: python-dateutil>=2.6.1 in /usr/local/lib/python3.7/dist-packages (from wandb) (2.8.2)\n",
            "Requirement already satisfied: protobuf>=3.12.0 in /usr/local/lib/python3.7/dist-packages (from wandb) (3.17.3)\n",
            "Collecting sentry-sdk>=1.0.0\n",
            "  Downloading sentry_sdk-1.5.6-py2.py3-none-any.whl (144 kB)\n",
            "\u001b[K     |████████████████████████████████| 144 kB 72.9 MB/s \n",
            "\u001b[?25hCollecting shortuuid>=0.5.0\n",
            "  Downloading shortuuid-1.0.8-py3-none-any.whl (9.5 kB)\n",
            "Collecting docker-pycreds>=0.4.0\n",
            "  Downloading docker_pycreds-0.4.0-py2.py3-none-any.whl (9.0 kB)\n",
            "Collecting setproctitle\n",
            "  Downloading setproctitle-1.2.2-cp37-cp37m-manylinux1_x86_64.whl (36 kB)\n",
            "Requirement already satisfied: promise<3,>=2.0 in /usr/local/lib/python3.7/dist-packages (from wandb) (2.3)\n",
            "Collecting pathtools\n",
            "  Downloading pathtools-0.1.2.tar.gz (11 kB)\n",
            "Requirement already satisfied: psutil>=5.0.0 in /usr/local/lib/python3.7/dist-packages (from wandb) (5.4.8)\n",
            "Collecting gitdb<5,>=4.0.1\n",
            "  Downloading gitdb-4.0.9-py3-none-any.whl (63 kB)\n",
            "\u001b[K     |████████████████████████████████| 63 kB 2.1 MB/s \n",
            "\u001b[?25hCollecting smmap<6,>=3.0.1\n",
            "  Downloading smmap-5.0.0-py3-none-any.whl (24 kB)\n",
            "Requirement already satisfied: chardet<4,>=3.0.2 in /usr/local/lib/python3.7/dist-packages (from requests->transformers) (3.0.4)\n",
            "Requirement already satisfied: urllib3!=1.25.0,!=1.25.1,<1.26,>=1.21.1 in /usr/local/lib/python3.7/dist-packages (from requests->transformers) (1.24.3)\n",
            "Requirement already satisfied: idna<3,>=2.5 in /usr/local/lib/python3.7/dist-packages (from requests->transformers) (2.10)\n",
            "Requirement already satisfied: certifi>=2017.4.17 in /usr/local/lib/python3.7/dist-packages (from requests->transformers) (2021.10.8)\n",
            "Requirement already satisfied: termcolor<2.0.0,>=1.1.0 in /usr/local/lib/python3.7/dist-packages (from yaspin>=1.0.0->wandb) (1.1.0)\n",
            "Requirement already satisfied: zipp>=0.5 in /usr/local/lib/python3.7/dist-packages (from importlib-metadata->transformers) (3.7.0)\n",
            "Requirement already satisfied: joblib in /usr/local/lib/python3.7/dist-packages (from sacremoses->transformers) (1.1.0)\n",
            "Building wheels for collected packages: pathtools\n",
            "  Building wheel for pathtools (setup.py) ... \u001b[?25l\u001b[?25hdone\n",
            "  Created wheel for pathtools: filename=pathtools-0.1.2-py3-none-any.whl size=8806 sha256=26c4d50a6ccb9db3a869b0461c98a40dad8a51d7a77775de3e26f4c61b59cbc9\n",
            "  Stored in directory: /root/.cache/pip/wheels/3e/31/09/fa59cef12cdcfecc627b3d24273699f390e71828921b2cbba2\n",
            "Successfully built pathtools\n",
            "Installing collected packages: smmap, pyyaml, gitdb, yaspin, tokenizers, shortuuid, setproctitle, sentry-sdk, sacremoses, pathtools, huggingface-hub, GitPython, docker-pycreds, wandb, transformers, pytorch-ignite\n",
            "  Attempting uninstall: pyyaml\n",
            "    Found existing installation: PyYAML 3.13\n",
            "    Uninstalling PyYAML-3.13:\n",
            "      Successfully uninstalled PyYAML-3.13\n",
            "Successfully installed GitPython-3.1.27 docker-pycreds-0.4.0 gitdb-4.0.9 huggingface-hub-0.4.0 pathtools-0.1.2 pytorch-ignite-0.4.8 pyyaml-6.0 sacremoses-0.0.47 sentry-sdk-1.5.6 setproctitle-1.2.2 shortuuid-1.0.8 smmap-5.0.0 tokenizers-0.11.6 transformers-4.16.2 wandb-0.12.11 yaspin-2.1.0\n"
          ]
        }
      ]
    },
    {
      "cell_type": "code",
      "metadata": {
        "id": "ahPXOTPeEMvs"
      },
      "source": [
        "import os\n",
        "import json\n",
        "import torch\n",
        "import ignite\n",
        "import wandb\n",
        "import json\n",
        "import warnings\n",
        "import functools\n",
        "import itertools\n",
        "import collections\n",
        "import torch.nn.functional     as     F\n",
        "import numpy                   as     np\n",
        "import matplotlib.pyplot       as     plt\n",
        "import scipy.stats\n",
        "from  operator                                import attrgetter, itemgetter\n",
        "from  enum                                    import IntEnum\n",
        "from  dataclasses                             import dataclass\n",
        "from  torch                                   import Tensor\n",
        "from  tqdm                                    import tqdm\n",
        "from  torch.utils.data                        import DataLoader, Dataset\n",
        "from  torch.utils.tensorboard                 import SummaryWriter\n",
        "from  torch.nn.utils.rnn                      import pad_sequence\n",
        "from  torch                                   import nn, Tensor\n",
        "from  torch.optim.lr_scheduler                import StepLR\n",
        "from  transformers                            import RobertaModel, RobertaTokenizerFast\n",
        "from  transformers                            import PreTrainedTokenizerFast\n",
        "from  transformers                            import BertModel, BertTokenizerFast\n",
        "from  transformers                            import AutoTokenizer, AutoModel\n",
        "from  transformers.modeling_outputs           import BaseModelOutput\n",
        "from  typing                                  import Tuple, Dict, List, Any, Sequence\n",
        "from  timeit                                  import timeit\n",
        "from  ignite.metrics                          import Accuracy, Fbeta, Average\n",
        "from  ignite.metrics                          import Metric, RunningAverage\n",
        "from  ignite.handlers.terminate_on_nan        import TerminateOnNan\n",
        "from  ignite.handlers.checkpoint              import ModelCheckpoint\n",
        "from  ignite.handlers                         import EarlyStopping, global_step_from_engine\n",
        "from  ignite.handlers                         import EpochOutputStore\n",
        "from  ignite.handlers.param_scheduler         import create_lr_scheduler_with_warmup\n",
        "from  ignite.handlers.param_scheduler         import PiecewiseLinear\n",
        "from  ignite.engine                           import create_supervised_trainer\n",
        "from  ignite.engine                           import Engine, create_supervised_evaluator\n",
        "from  ignite.engine.events                    import Events\n",
        "from  ignite.contrib.handlers.tqdm_logger     import ProgressBar\n",
        "from  ignite.contrib.handlers.wandb_logger    import WandBLogger"
      ],
      "execution_count": 2,
      "outputs": []
    },
    {
      "cell_type": "code",
      "source": [
        "DEVICE = 'cuda' if torch.cuda.is_available() else 'cpu'\n",
        "DATASET_NAME = 'ALL'\n",
        "SEQ_LABEL_WEIGHTED = False\n",
        "torch.manual_seed(41)"
      ],
      "metadata": {
        "id": "Q0Zx4taMYhgH",
        "colab": {
          "base_uri": "https://localhost:8080/"
        },
        "outputId": "80c510e5-ab2b-4c3a-f2ea-7ca809cec1c8"
      },
      "execution_count": 3,
      "outputs": [
        {
          "output_type": "execute_result",
          "data": {
            "text/plain": [
              "<torch._C.Generator at 0x7fbf39805c30>"
            ]
          },
          "metadata": {},
          "execution_count": 3
        }
      ]
    },
    {
      "cell_type": "markdown",
      "source": [
        "# Helper Classes"
      ],
      "metadata": {
        "id": "BavWNgZOmqxv"
      }
    },
    {
      "cell_type": "code",
      "source": [
        "class TokenBIOLabelEnum(IntEnum):\n",
        "\n",
        "  def __new__(cls, value, tag=None):\n",
        "    obj = int.__new__(cls, value)\n",
        "    obj._value_ = value\n",
        "    obj.tag = tag\n",
        "    return obj\n",
        "\n",
        "  @classmethod\n",
        "  def from_integers(cls, integers: Sequence[int]) -> Sequence[IntEnum]:\n",
        "    return [cls(integer) for integer in integers]\n",
        "\n",
        "  @classmethod\n",
        "  def from_labels(cls, labels: Sequence[IntEnum]) -> Sequence[int]:\n",
        "    return [label.value for label in labels]\n",
        "\n",
        "  def is_begin(self):\n",
        "    return self % 2 == 0 and self != self.__class__.OUT\n",
        "\n",
        "  def is_in(self):\n",
        "    return self % 2 == 1\n",
        "\n",
        "  def is_out(self):\n",
        "    return self == self.__class__.OUT"
      ],
      "metadata": {
        "id": "fot4WdTcSKE9"
      },
      "execution_count": 4,
      "outputs": []
    },
    {
      "cell_type": "code",
      "source": [
        "class SentExprTokenEnum(TokenBIOLabelEnum):\n",
        "  POSITIVE_EXPR_BEGIN = (0, 'Positive')\n",
        "  POSITIVE_EXPR_IN = (1, 'Positive')\n",
        "  NEGATIVE_EXPR_BEGIN = (2, 'Negative')\n",
        "  NEGATIVE_EXPR_IN = (3, 'Negative')\n",
        "  NEUTRAL_EXPR_BEGIN = (4, 'Neutral')\n",
        "  NEUTRAL_EXPR_IN = (5, 'Neutral')\n",
        "  OUT = 6\n",
        "\n",
        "class SentHolderTokenEnum(TokenBIOLabelEnum):\n",
        "  EXPR_BEGIN = 0\n",
        "  EXPR_IN = 1\n",
        "  OUT = 2\n",
        "\n",
        "\n",
        "class SentTargetTokenEnum(TokenBIOLabelEnum):\n",
        "  EXPR_BEGIN = 0\n",
        "  EXPR_IN = 1\n",
        "  OUT = 2"
      ],
      "metadata": {
        "id": "nY-o_SkAZAjG"
      },
      "execution_count": 5,
      "outputs": []
    },
    {
      "cell_type": "code",
      "source": [
        "@dataclass\n",
        "class SentimentGraphNode:\n",
        "\n",
        "  span_in_sentence: slice\n",
        "  tag: Any=None\n",
        "\n",
        "  @property\n",
        "  def span_length(self) -> int:\n",
        "    return self.span_in_sentence.stop - self.span_in_sentence.start\n",
        "\n",
        "\n",
        "  @property\n",
        "  def indices(self) -> List[int]:\n",
        "    return list(range(self.span_in_sentence.start, self.span_in_sentence.stop))\n",
        "\n",
        "  def __hash__(self) -> int:\n",
        "    return (self.span_in_sentence.start, self.span_in_sentence.stop).__hash__()\n",
        "\n",
        "\n",
        "  def __eq__(self, other) -> bool:\n",
        "    return self.span_in_sentence == other.span_in_sentence\n",
        "\n",
        "\n",
        "@dataclass\n",
        "class SentimentGraphNodeSet:\n",
        "  sentiment_nodes: List[SentimentGraphNode]\n",
        "  target_nodes: List[SentimentGraphNode]\n",
        "  holder_nodes: List[SentimentGraphNode]"
      ],
      "metadata": {
        "id": "5TAV4M38h1RE"
      },
      "execution_count": 6,
      "outputs": []
    },
    {
      "cell_type": "code",
      "source": [
        "@dataclass\n",
        "class SentimentGraphEdgeSet:\n",
        "  sentiment_target_edges: Tensor\n",
        "  sentiment_holder_edges: Tensor"
      ],
      "metadata": {
        "id": "4A2pOVHy0H9p"
      },
      "execution_count": 7,
      "outputs": []
    },
    {
      "cell_type": "code",
      "source": [
        "@dataclass\n",
        "class SentimentGraph:\n",
        "  nodes: SentimentGraphNodeSet\n",
        "  edges: SentimentGraphEdgeSet"
      ],
      "metadata": {
        "id": "Or7bjFJ7_-fZ"
      },
      "execution_count": 8,
      "outputs": []
    },
    {
      "cell_type": "markdown",
      "source": [
        "# Tokenizer"
      ],
      "metadata": {
        "id": "6xey8RS23hCC"
      }
    },
    {
      "cell_type": "code",
      "source": [
        "@functools.lru_cache()\n",
        "def get_tokenizer(dataset_name: str) -> PreTrainedTokenizerFast:\n",
        "  if dataset_name in [\"opener_en\", \"mpqa\", \"darmstadt_unis\"]:\n",
        "    return RobertaTokenizerFast.from_pretrained('roberta-base', add_prefix_space=True)\n",
        "  else:\n",
        "    return BertTokenizerFast.from_pretrained('setu4993/LaBSE', add_prefix_space=True)"
      ],
      "metadata": {
        "id": "ciorbtJK3jFF"
      },
      "execution_count": 9,
      "outputs": []
    },
    {
      "cell_type": "markdown",
      "source": [
        "# Prepare Datasets"
      ],
      "metadata": {
        "id": "YBH2m7QZoa9t"
      }
    },
    {
      "cell_type": "code",
      "source": [
        "! unzip drive/MyDrive/semeval2022task10.zip"
      ],
      "metadata": {
        "id": "qwBH639Qa8xW"
      },
      "execution_count": null,
      "outputs": []
    },
    {
      "cell_type": "code",
      "source": [
        "class SemEval2022Task10Dataset(Dataset):\n",
        "\n",
        "  def __init__(self, name: str, split: str):\n",
        "    super(SemEval2022Task10Dataset, self).__init__()\n",
        "\n",
        "    dataset_names = [\"opener_en\", \"opener_es\", \"norec\", \"darmstadt_unis\", \"mpqa\",\n",
        "                    \"multibooked_ca\", \"multibooked_eu\", \"all\"]\n",
        "\n",
        "    assert name in dataset_names\n",
        "    assert split in [\"train\", \"dev\", \"test\"]\n",
        "\n",
        "    tokenizer = get_tokenizer(name)\n",
        "\n",
        "    if name == 'all':\n",
        "      assert split != 'test'\n",
        "\n",
        "      data = []\n",
        "      for _name in dataset_names:\n",
        "        data.extend(json.load(open(f\"{_name}/{split}.json\")))\n",
        "    else:\n",
        "      data = json.load(open(f\"{name}/{split}.json\"))\n",
        "\n",
        "    if split == 'test':\n",
        "      self.data = data\n",
        "      return\n",
        "\n",
        "    self.data = []\n",
        "    sentim_labels_stat = collections.Counter(SentExprTokenEnum)\n",
        "    target_labels_stat = collections.Counter(SentTargetTokenEnum)\n",
        "    holder_labels_stat = collections.Counter(SentHolderTokenEnum)\n",
        "    for sent_idx, item in enumerate(data):\n",
        "      if not item['opinions']:\n",
        "          continue\n",
        "      if name == 'mpqa' and split == 'train' and (sent_idx == 1897 or sent_idx == 2292):\n",
        "        continue\n",
        "      if name == 'mpqa' and split == 'dev' and sent_idx == 2006:\n",
        "        continue\n",
        "      if item['sent_id'] == 'multibooked/corpora/eu/kaype-quintamar-llanes_1-1':\n",
        "        continue # Multibooked_eu train sample 833\n",
        "\n",
        "      encoded = tokenizer([item['text']], add_special_tokens=False,\n",
        "                         return_offsets_mapping=True, return_length=True)\n",
        "      tokens_char_offsets = encoded['offset_mapping'][0]\n",
        "      length = encoded['length'][0]\n",
        "      tokens_labels_sentiment = [SentExprTokenEnum.OUT] * length\n",
        "      tokens_labels_target = [SentTargetTokenEnum.OUT] * length\n",
        "      tokens_labels_holder = [SentHolderTokenEnum.OUT] * length\n",
        "      sentiment_nodes = []\n",
        "      target_nodes = []\n",
        "      holder_nodes = []\n",
        "      sentim_tgt_edges = {}\n",
        "      sentim_hld_edges = {}\n",
        "\n",
        "      for opinion in item['opinions']:\n",
        "        opinion_sentiment_nodes = []\n",
        "        opinion_target_nodes = []\n",
        "        opinion_holder_nodes = []\n",
        "\n",
        "        for char_span in opinion[\"Polar_expression\"][1]:\n",
        "          char_span_begin, char_span_end = (int(x) for x in char_span.split(':'))\n",
        "          token_span_begin, token_span_end = self._char_span_to_token_span_idx(\n",
        "              sent_idx, tokens_char_offsets, (char_span_begin, char_span_end)\n",
        "          )\n",
        "          node = SentimentGraphNode(\n",
        "              slice(token_span_begin, token_span_end), opinion['Polarity']\n",
        "          )\n",
        "          opinion_sentiment_nodes.append(node)\n",
        "          if node not in sentiment_nodes:\n",
        "            sentiment_nodes.append(node)\n",
        "\n",
        "            self._update_sequence_labels(\n",
        "                sent_idx, tokens_labels_sentiment,\n",
        "                token_span_begin, token_span_end, \"sentiment\", opinion[\"Polarity\"]\n",
        "            )\n",
        "\n",
        "        for char_span in opinion[\"Target\"][1]:\n",
        "          char_span_begin, char_span_end = (int(x) for x in char_span.split(':'))\n",
        "          token_span_begin, token_span_end = self._char_span_to_token_span_idx(\n",
        "              sent_idx, tokens_char_offsets, (char_span_begin, char_span_end)\n",
        "          )\n",
        "          node = SentimentGraphNode(\n",
        "              slice(token_span_begin, token_span_end), \"target\"\n",
        "          )\n",
        "          opinion_target_nodes.append(node)\n",
        "          if node not in target_nodes:\n",
        "            target_nodes.append(node)\n",
        "\n",
        "            self._update_sequence_labels(\n",
        "                sent_idx, tokens_labels_target,\n",
        "                token_span_begin, token_span_end, \"target\"\n",
        "            )\n",
        "\n",
        "        for char_span in opinion[\"Source\"][1]:\n",
        "          char_span_begin, char_span_end = (int(x) for x in char_span.split(':'))\n",
        "          token_span_begin, token_span_end = self._char_span_to_token_span_idx(\n",
        "              sent_idx, tokens_char_offsets, (char_span_begin, char_span_end)\n",
        "          )\n",
        "          node = SentimentGraphNode(\n",
        "              slice(token_span_begin, token_span_end), \"holder\"\n",
        "          )\n",
        "          opinion_holder_nodes.append(node)\n",
        "          if node not in holder_nodes:\n",
        "            holder_nodes.append(node)\n",
        "\n",
        "            self._update_sequence_labels(\n",
        "                sent_idx, tokens_labels_holder,\n",
        "                token_span_begin, token_span_end, \"holder\"\n",
        "            )\n",
        "\n",
        "        for sentiment_node in opinion_sentiment_nodes:\n",
        "          sentim_tgt_edges[sentiment_node] = opinion_target_nodes\n",
        "          sentim_hld_edges[sentiment_node] = opinion_holder_nodes\n",
        "\n",
        "      sentiment_nodes.sort(key=attrgetter(\"span_in_sentence\"))\n",
        "      target_nodes.sort(key=attrgetter(\"span_in_sentence\"))\n",
        "      holder_nodes.sort(key=attrgetter(\"span_in_sentence\"))\n",
        "\n",
        "      sentim_tgt_adj_matrix = torch.zeros((len(sentiment_nodes), len(target_nodes)))\n",
        "      sentim_hld_adj_matrix = torch.zeros((len(sentiment_nodes), len(holder_nodes)))\n",
        "      for i, sentim_node in enumerate(sentiment_nodes):\n",
        "\n",
        "        for neighbor_tgt_node in sentim_tgt_edges[sentim_node]:\n",
        "          sentim_tgt_adj_matrix[i, target_nodes.index(neighbor_tgt_node)] = 1\n",
        "\n",
        "        for neighbor_hld_node in sentim_hld_edges[sentim_node]:\n",
        "          sentim_hld_adj_matrix[i, holder_nodes.index(neighbor_hld_node)] = 1\n",
        "      self.data.append({\n",
        "          \"sent_id\": item['sent_id'],\n",
        "          \"text\": item['text'],\n",
        "          \"seq_labels\": {\n",
        "              \"sentiment\": tokens_labels_sentiment,\n",
        "              \"target\": tokens_labels_target,\n",
        "              \"holder\": tokens_labels_holder},\n",
        "          \"graph\":SentimentGraph(\n",
        "              SentimentGraphNodeSet(\n",
        "                sentiment_nodes, target_nodes, holder_nodes\n",
        "              ),\n",
        "              SentimentGraphEdgeSet(\n",
        "                sentim_tgt_adj_matrix, sentim_hld_adj_matrix\n",
        "              )\n",
        "          )}\n",
        "        )\n",
        "\n",
        "      sentim_labels_stat.update(tokens_labels_sentiment)\n",
        "      target_labels_stat.update(tokens_labels_target)\n",
        "      holder_labels_stat.update(tokens_labels_holder)\n",
        "\n",
        "    self.sentim_seq_label_weights = torch.Tensor(\n",
        "        [sentim_labels_stat[label] for label in sorted(sentim_labels_stat)])\n",
        "    self.sentim_seq_label_weights = self.sentim_seq_label_weights.max() / \\\n",
        "                                          self.sentim_seq_label_weights\n",
        "\n",
        "    self.target_seq_label_weights = torch.Tensor(\n",
        "        [target_labels_stat[label] for label in sorted(target_labels_stat)])\n",
        "    self.target_seq_label_weights = self.target_seq_label_weights.max() / \\\n",
        "                                          self.target_seq_label_weights\n",
        "\n",
        "    self.holder_seq_label_weights = torch.Tensor(\n",
        "        [holder_labels_stat[label] for label in sorted(holder_labels_stat)])\n",
        "    self.holder_seq_label_weights = self.holder_seq_label_weights.max() / \\\n",
        "                                          self.holder_seq_label_weights\n",
        "\n",
        "  def _update_sequence_labels(self, sent_idx: int, sequence: List[TokenBIOLabelEnum],\n",
        "                              start_token: int, end_token: int,\n",
        "                              expr_type: str, polarity: str=None):\n",
        "    if expr_type == 'sentiment':\n",
        "      if polarity == 'Positive':\n",
        "        begin_label = SentExprTokenEnum.POSITIVE_EXPR_BEGIN\n",
        "        in_label = SentExprTokenEnum.POSITIVE_EXPR_IN\n",
        "      elif polarity == 'Negative':\n",
        "        begin_label = SentExprTokenEnum.NEGATIVE_EXPR_BEGIN\n",
        "        in_label = SentExprTokenEnum.NEGATIVE_EXPR_IN\n",
        "      elif polarity == 'Neutral':\n",
        "        begin_label = SentExprTokenEnum.NEUTRAL_EXPR_BEGIN\n",
        "        in_label = SentExprTokenEnum.NEUTRAL_EXPR_IN\n",
        "      else:\n",
        "        raise ValueError(\"Given expr_type is 'sentiment' but 'polarity' is None.\")\n",
        "      out = SentExprTokenEnum.OUT\n",
        "    elif expr_type == 'target':\n",
        "      begin_label = SentTargetTokenEnum.EXPR_BEGIN\n",
        "      in_label = SentTargetTokenEnum.EXPR_IN\n",
        "      out = SentTargetTokenEnum.OUT\n",
        "    elif expr_type == 'holder':\n",
        "      begin_label = SentHolderTokenEnum.EXPR_BEGIN\n",
        "      in_label = SentHolderTokenEnum.EXPR_IN\n",
        "      out = SentHolderTokenEnum.OUT\n",
        "    else:\n",
        "      raise ValueError(f\"Given expr_type is not recognized. expr_type={expr_type}\")\n",
        "\n",
        "    # First time I saw these warnings in MPQA dataset. They were\n",
        "    # mistakes so I opened an issue. But generally such scenarios in which\n",
        "    # a part of an expression is itself another expression, are acceptable.\n",
        "    # So I took union of them as the final expression.\n",
        "    if sequence[start_token] != out:\n",
        "      warnings.warn(f\"Sequence is already updated at index {start_token}, \"\n",
        "                    f\"expr_type={expr_type}, sent_idx={sent_idx}\")\n",
        "\n",
        "      if expr_type == 'sentiment' and sequence[start_token].tag != begin_label.tag:\n",
        "        warnings.warn(\"Two expressions with conflicting polarities\"\n",
        "                      f\" in the same place. sent_idx={sent_idx} \"\n",
        "                      f\"polarities={sequence[start_token].tag}-{begin_label.tag}\")\n",
        "    else:\n",
        "      sequence[start_token] = begin_label\n",
        "    for i in range(start_token + 1, end_token):\n",
        "      if sequence[i] != out:\n",
        "        warnings.warn(f\"Sequence is already updated at index {i}, \"\n",
        "                      f\"expr_type={expr_type}, sent_idx={sent_idx}\")\n",
        "\n",
        "        if expr_type == 'sentiment' and sequence[i].tag != in_label.tag:\n",
        "          warnings.warn(\"Two expressions with conflicting polarities in the same place.\"\n",
        "                        f\" sent_idx={sent_idx} polarities={sequence[i].tag}-{in_label.tag}\")\n",
        "\n",
        "      sequence[i] = in_label\n",
        "\n",
        "\n",
        "  def _char_span_to_token_span_idx(\n",
        "      self, sent_idx: int, tokens_char_offsets: List[Tuple[int, int]],\n",
        "      char_span: Tuple[int, int]) -> Tuple[int, int]:\n",
        "\n",
        "    begin_token_idx, end_token_idx = None, None\n",
        "    for i, (char_offset_begin, char_offset_end) in enumerate(tokens_char_offsets):\n",
        "      if char_offset_begin == char_span[0] and begin_token_idx is None:\n",
        "        begin_token_idx = i\n",
        "\n",
        "      if char_offset_end == char_span[1] and end_token_idx is None:\n",
        "        end_token_idx = i + 1\n",
        "\n",
        "      if begin_token_idx is not None and end_token_idx is not None:\n",
        "        return begin_token_idx, end_token_idx\n",
        "\n",
        "    raise ValueError(\"Given char_span does not exist in given token char offsets. \"\n",
        "                     f\"sent_idx={sent_idx} char_span={char_span} \"\n",
        "                     f\"token_char_offsets={tokens_char_offsets}\")\n",
        "\n",
        "\n",
        "  def __len__(self):\n",
        "    return len(self.data)\n",
        "\n",
        "\n",
        "  def __getitem__(self, idx) -> Dict[str, Any] :\n",
        "    item = self.data[idx]\n",
        "\n",
        "    item[\"label_weights\"] = {\"sentiment\": self.sentim_seq_label_weights,\n",
        "                             \"target\": self.target_seq_label_weights,\n",
        "                             \"holder\": self.holder_seq_label_weights}\n",
        "    return item"
      ],
      "metadata": {
        "id": "hpJo_3aWrZpn"
      },
      "execution_count": null,
      "outputs": []
    },
    {
      "cell_type": "code",
      "source": [
        "train_ds = SemEval2022Task10Dataset(DATASET_NAME, 'train')\n",
        "dev_ds = SemEval2022Task10Dataset(DATASET_NAME, 'dev')"
      ],
      "metadata": {
        "id": "bR0vcomazQDY"
      },
      "execution_count": null,
      "outputs": []
    },
    {
      "cell_type": "markdown",
      "source": [
        "# Model Definition"
      ],
      "metadata": {
        "id": "ausHwICT5bHf"
      }
    },
    {
      "cell_type": "markdown",
      "source": [
        "In SemEval2022 Task10 description, it is stated that we can see the sentiment, target and holder expressions in a sentence as a graph, which the expressions are its nodes and there is edge from a sentiment expression node to its pertaining target and holder ones."
      ],
      "metadata": {
        "id": "b9ML05fz8M9n"
      }
    },
    {
      "cell_type": "code",
      "source": [
        "class BIOSchemeTokenClassification:\n",
        "\n",
        "  @classmethod\n",
        "  def _nstate(cls, state: str, label: TokenBIOLabelEnum) -> str:\n",
        "    if label.is_out():\n",
        "      return 'skipping'\n",
        "    if state == 'reading':\n",
        "      if label.is_begin():\n",
        "        return 'start_reading'\n",
        "      else: # label.is_in()\n",
        "        return 'reading'\n",
        "    elif state == 'skipping':\n",
        "      if label.is_begin():\n",
        "        return 'start_reading'\n",
        "      else:\n",
        "        return 'skipping'\n",
        "    else: # state == 'start_reading'\n",
        "      if label.is_begin():\n",
        "        return 'start_reading'\n",
        "      else: # label.is_in()\n",
        "        return 'reading'\n",
        "\n",
        "\n",
        "  @classmethod\n",
        "  def extract_spans(cls, token_labels: Sequence[TokenBIOLabelEnum]) -> List[Tuple[slice, Any]]:\n",
        "    state = 'skipping'\n",
        "    span_start = 0\n",
        "    span_length = 0\n",
        "    spans = []\n",
        "    for i in range(len(token_labels)):\n",
        "      label = token_labels[i]\n",
        "      nstate = BIOSchemeTokenClassification._nstate(state, label)\n",
        "      if nstate == 'start_reading':\n",
        "        if state == 'reading' or state == 'start_reading':\n",
        "          spans.append((slice(span_start, span_start + span_length), token_labels[i-1].tag))\n",
        "        span_start = i\n",
        "        span_length = 1\n",
        "      elif nstate == 'reading':\n",
        "        span_length += 1\n",
        "      else: # nstate == 'skipping'\n",
        "        if state == 'reading' or state == 'start_reading':\n",
        "          spans.append((slice(span_start, span_start + span_length), token_labels[i-1].tag))\n",
        "      state = nstate\n",
        "    if state != 'skipping':\n",
        "      spans.append((slice(span_start, span_start + span_length), token_labels[i].tag))\n",
        "    return spans"
      ],
      "metadata": {
        "id": "vflsykjySi1w"
      },
      "execution_count": null,
      "outputs": []
    },
    {
      "cell_type": "markdown",
      "source": [
        "## Sequence Labeler"
      ],
      "metadata": {
        "id": "OibGA1ghmxoc"
      }
    },
    {
      "cell_type": "code",
      "source": [
        "class LinearSequenceLabeler(nn.Module):\n",
        "\n",
        "  def __init__(self, input_dim: int, hidden_dim: int, label_enum: TokenBIOLabelEnum):\n",
        "    super(LinearSequenceLabeler, self).__init__()\n",
        "\n",
        "    self.seq_label = nn.ModuleList([nn.Linear(input_dim, hidden_dim), nn.Dropout(), \n",
        "                                    nn.ReLU(), nn.Linear(hidden_dim, len(label_enum))])\n",
        "    self.label_enum = label_enum\n",
        "\n",
        "\n",
        "  def forward(self, ptm_output: BaseModelOutput) -> Tensor:\n",
        "    output = ptm_output.last_hidden_state\n",
        "    for layer in self.seq_label:\n",
        "      output = layer(output)\n",
        "    return output\n",
        "\n",
        "\n",
        "  @torch.no_grad()\n",
        "  def predict(self, output: Tensor,\n",
        "              padding_mask: Tensor) -> List[Sequence[TokenBIOLabelEnum]]:\n",
        "    output = torch.argmax(output, dim=2)\n",
        "    batch_size = output.shape[0]\n",
        "    preds_batch = []\n",
        "    for i in range(batch_size):\n",
        "      mask_i = padding_mask[i] == 1\n",
        "      output_i = output[i].detach()\n",
        "      preds_batch.append(self.label_enum.from_integers(output_i[mask_i].cpu().numpy()))\n",
        "\n",
        "    return preds_batch"
      ],
      "metadata": {
        "id": "6_k4Fg1QhLKV"
      },
      "execution_count": null,
      "outputs": []
    },
    {
      "cell_type": "markdown",
      "source": [
        "## Node Extractor"
      ],
      "metadata": {
        "id": "cQc9C9pVnDuy"
      }
    },
    {
      "cell_type": "code",
      "source": [
        "class SentimentGraphNodeExtractor(nn.Module):\n",
        "\n",
        "  def __init__(self):\n",
        "    super(SentimentGraphNodeExtractor, self).__init__()\n",
        "\n",
        "    self.sentiment_labeler = LinearSequenceLabeler(768, 64, SentExprTokenEnum)\n",
        "    self.target_labeler = LinearSequenceLabeler(768, 64, SentTargetTokenEnum)\n",
        "    self.holder_labeler = LinearSequenceLabeler(768, 64, SentHolderTokenEnum)\n",
        "\n",
        "\n",
        "  def forward(self, ptm_output: BaseModelOutput) -> Tuple[Tensor, Tensor, Tensor]:\n",
        "    return (self.sentiment_labeler(ptm_output),\n",
        "            self.target_labeler(ptm_output),\n",
        "            self.holder_labeler(ptm_output))\n",
        "\n",
        "\n",
        "  @torch.no_grad()\n",
        "  def predict(self, output: Tuple[Tensor, Tensor, Tensor],\n",
        "              padding_mask: Tensor) -> List[SentimentGraphNodeSet]:\n",
        "                                                          \n",
        "    sentiment_labels = self.sentiment_labeler.predict(output[0], padding_mask)\n",
        "    target_labels = self.target_labeler.predict(output[1], padding_mask)\n",
        "    holder_labels = self.holder_labeler.predict(output[2], padding_mask)\n",
        "\n",
        "    batch_size = padding_mask.shape[0]\n",
        "    nodes_batch = []\n",
        "    for i in range(batch_size):\n",
        "\n",
        "      sentiment_nodes = BIOSchemeTokenClassification.extract_spans(sentiment_labels[i])\n",
        "      sentiment_nodes = [SentimentGraphNode(*tup) for tup in sentiment_nodes]\n",
        "\n",
        "      target_nodes = BIOSchemeTokenClassification.extract_spans(target_labels[i])\n",
        "      target_nodes = [SentimentGraphNode(*tup) for tup in target_nodes]\n",
        "\n",
        "      holder_nodes = BIOSchemeTokenClassification.extract_spans(holder_labels[i])\n",
        "      holder_nodes = [SentimentGraphNode(*tup) for tup in holder_nodes]\n",
        "\n",
        "      nodes_batch.append(SentimentGraphNodeSet(sentiment_nodes, target_nodes,\n",
        "                                               holder_nodes))\n",
        "    return nodes_batch"
      ],
      "metadata": {
        "id": "_Y1McA1KJxA8"
      },
      "execution_count": null,
      "outputs": []
    },
    {
      "cell_type": "markdown",
      "source": [
        "## Polarity Predictor"
      ],
      "metadata": {
        "id": "t-Z6cpq6nIYn"
      }
    },
    {
      "cell_type": "code",
      "source": [
        "class PolarityPredictor(nn.Module):\n",
        "\n",
        "  def __init__(self):\n",
        "    self.net = nn.ModuleList([nn.Linear(768, 64), nn.Dropout(), nn.ReLU(),\n",
        "                              nn.Linear(64, 16)])\n",
        "    self.cls = nn.Linear(16, 3)\n",
        "\n",
        "\n",
        "  def forward(self, ptm_output: BaseModelOutput,\n",
        "              graphs_nodes: List[SentimentGraphNodeSet]) -> List[Tensor]:\n",
        "\n",
        "    last_hidden_state_batch = ptm_output.last_hidden_state\n",
        "    batch_size = last_hidden_state_batch.shape[0]\n",
        "    fun_sum_over_span_tokens = functools.partial(torch.sum, dim=0)\n",
        "\n",
        "    preds_batch = []\n",
        "    for i in range(batch_size):\n",
        "      last_hidden_state = last_hidden_state_batch[i]\n",
        "      nodes = graphs_nodes[i].sentiment_nodes\n",
        "\n",
        "      nodes_h = torch.cat([last_hidden_state[node.span_in_sentence] for node in nodes])\n",
        "      for layer in self.net:\n",
        "        nodes_h = layer(nodes_h)\n",
        "\n",
        "      nodes_h = torch.split(nodes_h, [node.span_length for node in nodes])\n",
        "      nodes_h = torch.stack([fun_sum_over_span_tokens(node_h) for node_h in nodes_h])\n",
        "\n",
        "      preds_batch.append(self.cls(F.relu(nodes_h)))\n",
        "\n",
        "    return preds_batch"
      ],
      "metadata": {
        "id": "psxuIumVl3Uk"
      },
      "execution_count": null,
      "outputs": []
    },
    {
      "cell_type": "markdown",
      "source": [
        "## Edge Predictor"
      ],
      "metadata": {
        "id": "Y3VoaDeWnR9w"
      }
    },
    {
      "cell_type": "code",
      "source": [
        "# Originally from <https://discuss.pytorch.org/t/does-nn-sigmoid-have-bias-parameter/10561/5>\n",
        "class BiasedSigmoid(nn.Module):\n",
        "\n",
        "  def __init__(self, device=None):\n",
        "    super(BiasedSigmoid, self).__init__()\n",
        "    self.bias = nn.Parameter(2 * torch.rand(1, device=device) - 1)\n",
        "\n",
        "\n",
        "  def forward(self, input: Tensor) -> Tensor:\n",
        "    return torch.sigmoid(input + self.bias)"
      ],
      "metadata": {
        "id": "YE2Rbbqr2e9u"
      },
      "execution_count": null,
      "outputs": []
    },
    {
      "cell_type": "code",
      "source": [
        "class AttentionistSentimentGraphEdgePredictor(nn.Module):\n",
        "\n",
        "  def __init__(self):\n",
        "    super(AttentionistSentimentGraphEdgePredictor, self).__init__()\n",
        "    self.edge_predictor = BiasedSigmoid()\n",
        "\n",
        "\n",
        "  def forward(self, ptm_output: BaseModelOutput,\n",
        "              graphs_nodes: List[SentimentGraphNodeSet]) -> List[SentimentGraphEdgeSet]:\n",
        "\n",
        "    attentions_batch = ptm_output.attentions\n",
        "    batch_size = len(graphs_nodes)\n",
        "    graphs_edge_probs = []\n",
        "    for i in range(batch_size):\n",
        "      attentions = attentions_batch[i]\n",
        "\n",
        "      graph_nodes = graphs_nodes[i]\n",
        "\n",
        "      sentim_tgt_edges = []\n",
        "      for sentim_node, tgt_node in itertools.product(graph_nodes.sentiment_nodes,\n",
        "                                                     graph_nodes.target_nodes):\n",
        "        sentim_tgt_edges.append(\n",
        "            attentions[sentim_node.span_in_sentence, tgt_node.span_in_sentence].sum() + \\\n",
        "            attentions[tgt_node.span_in_sentence, sentim_node.span_in_sentence].sum()\n",
        "        )\n",
        "      if len(sentim_tgt_edges) == 0:\n",
        "        sentim_tgt_edges = None\n",
        "      else:\n",
        "        sentim_tgt_edges = torch.stack(sentim_tgt_edges).view(len(graph_nodes.sentiment_nodes),\n",
        "                                                              len(graph_nodes.target_nodes))\n",
        "        sentim_tgt_edges = self.edge_predictor(sentim_tgt_edges)\n",
        "\n",
        "      sentim_hld_edges = []\n",
        "      for sentim_node, hld_node in itertools.product(graph_nodes.sentiment_nodes,\n",
        "                                                     graph_nodes.holder_nodes):\n",
        "        sentim_hld_edges.append(\n",
        "            attentions[sentim_node.span_in_sentence, hld_node.span_in_sentence].sum() + \\\n",
        "            attentions[hld_node.span_in_sentence, sentim_node.span_in_sentence].sum()\n",
        "        )\n",
        "      if len(sentim_hld_edges) == 0:\n",
        "        sentim_hld_edges = None\n",
        "      else:  \n",
        "        sentim_hld_edges = torch.stack(sentim_hld_edges).view(len(graph_nodes.sentiment_nodes),\n",
        "                                                            len(graph_nodes.holder_nodes))\n",
        "        sentim_hld_edges = self.edge_predictor(sentim_hld_edges)\n",
        "\n",
        "      graphs_edge_probs.append(SentimentGraphEdgeSet(sentim_tgt_edges, sentim_hld_edges))\n",
        "\n",
        "    return graphs_edge_probs\n",
        "\n",
        "\n",
        "  @torch.no_grad()\n",
        "  def predict(self, output: List[SentimentGraphEdgeSet]) -> List[SentimentGraphEdgeSet]:\n",
        "    edges = []\n",
        "    for graph_E in output:\n",
        "      tgt_edges = graph_E.sentiment_target_edges\n",
        "      tgt_edges = tgt_edges.round().int() if tgt_edges is not None else None\n",
        "\n",
        "      hld_edges = graph_E.sentiment_holder_edges\n",
        "      hld_edges = hld_edges.round().int() if hld_edges is not None else None\n",
        "\n",
        "      edges.append(SentimentGraphEdgeSet(tgt_edges, hld_edges))\n",
        "\n",
        "    return edges\n"
      ],
      "metadata": {
        "id": "-usmqGvCRs5F"
      },
      "execution_count": null,
      "outputs": []
    },
    {
      "cell_type": "markdown",
      "source": [
        "## Model Base - RoBERTa | BERT"
      ],
      "metadata": {
        "id": "KW-XkdrvghUt"
      }
    },
    {
      "cell_type": "code",
      "source": [
        "class ModelBase(nn.Module):\n",
        "\n",
        "  def __init__(self):\n",
        "    super(ModelBase, self).__init__()\n",
        "\n",
        "    if DATASET_NAME in ['opener_en', 'mpqa', 'darmstadt_unis']:\n",
        "      self.ptm = RobertaModel.from_pretrained('roberta-base', output_attentions=True,\n",
        "                                              add_pooling_layer=False)\n",
        "    else:\n",
        "      self.ptm = BertModel.from_pretrained('setu4993/LaBSE',\n",
        "                                           output_attentions=True, add_pooling_layer=False)\n",
        "\n",
        "\n",
        "  def forward(self, ptm_input: Dict[str, Any]) -> BaseModelOutput:\n",
        "    ptm_output = self.ptm(**ptm_input)\n",
        "\n",
        "    if not ptm_output.attentions:\n",
        "      raise ValueError(\n",
        "          \"Attentions should be included in model input. You might have forgotten \"\n",
        "          \"to set `output_attentions=True` on constructing PTM or calling it.\"\n",
        "      )\n",
        "\n",
        "    return ptm_output"
      ],
      "metadata": {
        "id": "qfJiO-odgjOv"
      },
      "execution_count": null,
      "outputs": []
    },
    {
      "cell_type": "markdown",
      "source": [
        "## Base Pooler"
      ],
      "metadata": {
        "id": "4FOEtQs0WQ6R"
      }
    },
    {
      "cell_type": "code",
      "source": [
        "class BasePooler(nn.Module):\n",
        "\n",
        "  def __init__(self, pool_all_heads_attention=False):\n",
        "    super(BasePooler, self).__init__()\n",
        "\n",
        "    self.pool_all_heads_attention = pool_all_heads_attention\n",
        "    if pool_all_heads_attention:\n",
        "      initial_attention_weights = torch.zeros(12, 12).float()\n",
        "\n",
        "      if DATASET_NAME in ['opener_en', 'mpqa', 'darmstadt_unis']:\n",
        "        initial_attention_weights[7, 6] = 1.\n",
        "      else:\n",
        "        initial_attention_weights[10, 8] = 1.\n",
        "\n",
        "      self.attention_weights = nn.Parameter(initial_attention_weights)\n",
        "\n",
        "\n",
        "  def forward(self, ptm_output: BaseModelOutput) -> BaseModelOutput:\n",
        "\n",
        "    ptm_output.last_hidden_state = ptm_output.last_hidden_state[:, 1:-1, :] # Excluding CLS,SEP\n",
        "\n",
        "    if not self.pool_all_heads_attention:\n",
        "      if DATASET_NAME in ['opener_en', 'mpqa', 'darmstadt_unis']:\n",
        "        ptm_output.attentions = ptm_output.attentions[7][:, 6] # Head 7 (pink) of layer 8\n",
        "      else:\n",
        "        ptm_output.attentions = ptm_output.attentions[10][:, 8] # Head 9 (green) of layer 11\n",
        "    else:\n",
        "      ptm_output.attentions = torch.tensordot(torch.stack(ptm_output.attentions),\n",
        "                                              self.attention_weights, dims=([0,2],[0,1]))\n",
        "      # Alternatively:\n",
        "      # ptm_output.attentions = torch.einsum(\n",
        "      #     'lbhmn, lh -> bmn', torch.stack(ptm_output.attentions), self.attention_weights\n",
        "      # )\n",
        "    \n",
        "    ptm_output.attentions = ptm_output.attentions[:, 1:-1, 1:-1] # Excluding CLS,SEP\n",
        "\n",
        "    return ptm_output"
      ],
      "metadata": {
        "id": "7Sy0fkpwWXaB"
      },
      "execution_count": null,
      "outputs": []
    },
    {
      "cell_type": "markdown",
      "source": [
        "## Whole Model"
      ],
      "metadata": {
        "id": "JmPuPpTEnWbn"
      }
    },
    {
      "cell_type": "code",
      "source": [
        "class StructuredSentimentPredictor(nn.Module):\n",
        "\n",
        "  def __init__(self, pool_all_heads_attention=False):\n",
        "    super(StructuredSentimentPredictor, self).__init__()\n",
        "    self.base = ModelBase()\n",
        "    # self.polarity_predictor = PolarityPredictor()\n",
        "    self.novelty = nn.ModuleDict({'base_pooler': BasePooler(pool_all_heads_attention),\n",
        "                                  'edge_predictor': AttentionistSentimentGraphEdgePredictor(),\n",
        "                                  'node_predictor': SentimentGraphNodeExtractor()})\n",
        "\n",
        "  @dataclass\n",
        "  class Output:\n",
        "    node_extractor_output: Tuple[Tensor, Tensor, Tensor]\n",
        "    edge_predictor_output: List[SentimentGraphEdgeSet]\n",
        "\n",
        "\n",
        "  def forward(self, inputs: Dict[str, Any]) -> Output:\n",
        "\n",
        "    base_output = self.base(inputs[\"ptm_input\"])\n",
        "\n",
        "    base_output = self.novelty['base_pooler'](base_output)\n",
        "\n",
        "    node_predictor_out = self.novelty['node_predictor'](base_output)\n",
        "\n",
        "    graphs_nodes = inputs[\"graphs_nodes\"]\n",
        "\n",
        "    edge_predictor_out = self.novelty['edge_predictor'](base_output, graphs_nodes)\n",
        "\n",
        "    return StructuredSentimentPredictor.Output(\n",
        "        node_predictor_out, edge_predictor_out)\n",
        "\n",
        "\n",
        "  @torch.no_grad()\n",
        "  def predict(self, inputs: Dict[str, Any], output: Output) -> List[SentimentGraph]:\n",
        "\n",
        "    graphs_nodes = self.novelty['node_predictor'].predict(\n",
        "      output.node_extractor_output, inputs['padding_mask'])\n",
        "\n",
        "    base_output = self.base(inputs[\"ptm_input\"])\n",
        "    base_output = self.novelty['base_pooler'](base_output)\n",
        "\n",
        "    graphs_edges_probs = self.novelty['edge_predictor'](base_output, graphs_nodes)\n",
        "    graphs_edges = self.novelty['edge_predictor'].predict(graphs_edges_probs)\n",
        "\n",
        "    return [SentimentGraph(graph_nodes, graph_edges) for graph_nodes,\n",
        "            graph_edges in zip(graphs_nodes, graphs_edges)]\n"
      ],
      "metadata": {
        "id": "5pvRjzMJJM7h"
      },
      "execution_count": null,
      "outputs": []
    },
    {
      "cell_type": "markdown",
      "source": [
        "# Loss functions"
      ],
      "metadata": {
        "id": "O9RU5OlBoJRW"
      }
    },
    {
      "cell_type": "markdown",
      "source": [
        "## Node Extractor Loss - Cross Entropy"
      ],
      "metadata": {
        "id": "xXb3b2XFtNFF"
      }
    },
    {
      "cell_type": "code",
      "source": [
        "def node_extractor_loss(y_pred: StructuredSentimentPredictor.Output,\n",
        "                        y: Dict[str,Any], weighted=False) -> torch.double:\n",
        "  sentim_labels_pred, tgt_labels_pred, hld_labels_pred = y_pred.node_extractor_output\n",
        "  sentim_labels, tgt_labels, hld_labels = y['seq_labels']\n",
        "\n",
        "  sentim_labels_loss = F.cross_entropy(\n",
        "      sentim_labels_pred.permute(0, 2, 1), sentim_labels,\n",
        "      ignore_index=-1, weight=y[\"seq_label_weights\"][\"sentiment\"] if weighted else None)\n",
        "  tgt_labels_loss = F.cross_entropy(\n",
        "      tgt_labels_pred.permute(0, 2, 1), tgt_labels,\n",
        "      ignore_index=-1, weight=y[\"seq_label_weights\"][\"target\"] if weighted else None)\n",
        "  hld_labels_loss = F.cross_entropy(\n",
        "      hld_labels_pred.permute(0, 2, 1), hld_labels,\n",
        "      ignore_index=-1, weight=y[\"seq_label_weights\"][\"holder\"] if weighted else None)\n",
        "\n",
        "  return sentim_labels_loss + tgt_labels_loss + hld_labels_loss"
      ],
      "metadata": {
        "id": "aWv9A9z0oL76"
      },
      "execution_count": null,
      "outputs": []
    },
    {
      "cell_type": "markdown",
      "source": [
        "## Edge Extractor Loss - Binary Cross Entropy"
      ],
      "metadata": {
        "id": "GRk_8WLrJMFn"
      }
    },
    {
      "cell_type": "code",
      "source": [
        "def edge_extractor_loss(y_pred: StructuredSentimentPredictor.Output,\n",
        "                        y: Dict[str,Any]) -> torch.double:\n",
        "  adj_matrices_pred_batch: List[SentimentGraphEdgeSet] = y_pred.edge_predictor_output\n",
        "  adj_matrices_batch: List[SentimentGraphEdgeSet] = y[\"graphs_edges\"]\n",
        "\n",
        "  loss = torch.zeros((), device=DEVICE)\n",
        "\n",
        "  for edges_pred, edges in zip(adj_matrices_pred_batch, adj_matrices_batch):\n",
        "\n",
        "    target_edges_pred = edges_pred.sentiment_target_edges\n",
        "    target_edges = edges.sentiment_target_edges\n",
        "    if target_edges_pred is not None:\n",
        "      loss += F.binary_cross_entropy(target_edges_pred, target_edges)\n",
        "\n",
        "    holder_edges_pred = edges_pred.sentiment_holder_edges\n",
        "    holder_edges = edges.sentiment_holder_edges\n",
        "    if holder_edges_pred is not None:\n",
        "      loss += F.binary_cross_entropy(holder_edges_pred, holder_edges)\n",
        "\n",
        "  return loss"
      ],
      "metadata": {
        "id": "ZQP2WvpdDaJj"
      },
      "execution_count": null,
      "outputs": []
    },
    {
      "cell_type": "markdown",
      "source": [
        "## Total Loss"
      ],
      "metadata": {
        "id": "5H-MM7pdJWES"
      }
    },
    {
      "cell_type": "code",
      "source": [
        "def loss_fn(y_pred: StructuredSentimentPredictor.Output,\n",
        "                        y: Dict[str,Any], seq_label_weighted=SEQ_LABEL_WEIGHTED) -> torch.double:\n",
        "  return node_extractor_loss(y_pred, y, weighted=seq_label_weighted) + \\\n",
        "         edge_extractor_loss(y_pred, y)"
      ],
      "metadata": {
        "id": "1-twf7CPJVlm"
      },
      "execution_count": null,
      "outputs": []
    },
    {
      "cell_type": "markdown",
      "source": [
        "# Train & Evaluation"
      ],
      "metadata": {
        "id": "iTTmw0a8lVXY"
      }
    },
    {
      "cell_type": "markdown",
      "source": [
        "## Data Loaders"
      ],
      "metadata": {
        "id": "D0m86-qRlZzu"
      }
    },
    {
      "cell_type": "code",
      "source": [
        "tokenizer = get_tokenizer(DATASET_NAME)"
      ],
      "metadata": {
        "id": "NZL2TOWHKedt"
      },
      "execution_count": null,
      "outputs": []
    },
    {
      "cell_type": "code",
      "source": [
        "def collate_fn(batch: List[Dict[str, Any]]) -> Dict[str, Any]:\n",
        "\n",
        "  texts = [item['text'] for item in batch]\n",
        "  ptm_input = tokenizer(texts, padding=True, return_tensors='pt')\n",
        "  padding_mask = tokenizer(texts, padding=True, return_tensors='pt',\n",
        "                           add_special_tokens=False)[\"attention_mask\"]\n",
        "\n",
        "  sentim_labels = pad_sequence([torch.LongTensor(\n",
        "      SentExprTokenEnum.from_labels(item[\"seq_labels\"][\"sentiment\"])\n",
        "      ) for item in batch], batch_first=True, padding_value=-1)\n",
        "  target_labels = pad_sequence([torch.LongTensor(\n",
        "      SentTargetTokenEnum.from_labels(item[\"seq_labels\"][\"target\"])\n",
        "      ) for item in batch], batch_first=True, padding_value=-1)\n",
        "  holder_labels = pad_sequence([torch.LongTensor(\n",
        "      SentHolderTokenEnum.from_labels(item[\"seq_labels\"][\"holder\"])\n",
        "      ) for item in batch], batch_first=True, padding_value=-1)\n",
        "\n",
        "  seq_labels = (sentim_labels, target_labels, holder_labels)\n",
        "\n",
        "  graphs_edges = [item[\"graph\"].edges for item in batch]\n",
        "  graphs_nodes = [item[\"graph\"].nodes for item in batch]\n",
        "\n",
        "  graphs = [item[\"graph\"] for item in batch]\n",
        "\n",
        "  return {\"seq_labels\": seq_labels, \"graphs\": graphs,\n",
        "          \"seq_label_weights\": batch[0][\"label_weights\"],\n",
        "          \"graphs_nodes\": graphs_nodes, \"graphs_edges\": graphs_edges,\n",
        "          \"ptm_input\": ptm_input, \"padding_mask\": padding_mask}\n"
      ],
      "metadata": {
        "id": "VNyvSz1alb9x"
      },
      "execution_count": null,
      "outputs": []
    },
    {
      "cell_type": "code",
      "source": [
        "BATCH_SIZE = 32"
      ],
      "metadata": {
        "id": "CoAPtz2PbvjV"
      },
      "execution_count": null,
      "outputs": []
    },
    {
      "cell_type": "code",
      "source": [
        "train_dataloader = DataLoader(train_ds, collate_fn=collate_fn, batch_size=BATCH_SIZE)\n",
        "dev_dataloader = DataLoader(dev_ds, collate_fn=collate_fn, batch_size= BATCH_SIZE * 2)"
      ],
      "metadata": {
        "id": "sKeGupnojT8l"
      },
      "execution_count": null,
      "outputs": []
    },
    {
      "cell_type": "markdown",
      "source": [
        "## Model & Optimizer"
      ],
      "metadata": {
        "id": "Vs3lBy5iYHBm"
      }
    },
    {
      "cell_type": "code",
      "source": [
        "torch.cuda.empty_cache()"
      ],
      "metadata": {
        "id": "o3Cl23pwBmv6"
      },
      "execution_count": null,
      "outputs": []
    },
    {
      "cell_type": "code",
      "source": [
        "model = StructuredSentimentPredictor(pool_all_heads_attention=False).to(DEVICE)\n",
        "\n",
        "optimizer_parameter_groups = [\n",
        "  {'params': list(model.base.parameters())},\n",
        "  {'params': list(model.novelty.parameters())}\n",
        "]\n",
        "optimizer = torch.optim.AdamW(optimizer_parameter_groups)"
      ],
      "metadata": {
        "id": "cbbp2W3AYJYI",
        "colab": {
          "base_uri": "https://localhost:8080/"
        },
        "outputId": "27c19ee4-4a52-4bb1-af82-227a9871768d"
      },
      "execution_count": null,
      "outputs": [
        {
          "output_type": "stream",
          "name": "stderr",
          "text": [
            "Some weights of the model checkpoint at roberta-base were not used when initializing RobertaModel: ['lm_head.decoder.weight', 'lm_head.bias', 'lm_head.dense.bias', 'lm_head.dense.weight', 'lm_head.layer_norm.weight', 'lm_head.layer_norm.bias', 'roberta.pooler.dense.bias', 'roberta.pooler.dense.weight']\n",
            "- This IS expected if you are initializing RobertaModel from the checkpoint of a model trained on another task or with another architecture (e.g. initializing a BertForSequenceClassification model from a BertForPreTraining model).\n",
            "- This IS NOT expected if you are initializing RobertaModel from the checkpoint of a model that you expect to be exactly identical (initializing a BertForSequenceClassification model from a BertForSequenceClassification model).\n"
          ]
        }
      ]
    },
    {
      "cell_type": "markdown",
      "source": [
        "## Engines"
      ],
      "metadata": {
        "id": "x5y6xu_pjqrl"
      }
    },
    {
      "cell_type": "code",
      "source": [
        "def train_prepare_batch(batch: Dict[str, Any], device=DEVICE,\n",
        "                        non_blocking=True) -> Tuple[Dict[str, Any], Dict[str, Any]]:\n",
        "  x = {\"ptm_input\": {\n",
        "      \"attention_mask\": batch[\"ptm_input\"][\"attention_mask\"].to(\n",
        "          device, non_blocking=non_blocking),\n",
        "      \"input_ids\": batch[\"ptm_input\"][\"input_ids\"].to(\n",
        "          device, non_blocking=non_blocking)},\n",
        "       \"graphs_nodes\": batch[\"graphs_nodes\"]}\n",
        "\n",
        "  y = {\"seq_labels\": tuple(tensor.to(device,\n",
        "                                non_blocking=non_blocking) for tensor in batch[\"seq_labels\"]),\n",
        "       \"graphs_edges\": [SentimentGraphEdgeSet(\n",
        "           item.sentiment_target_edges.to(device, non_blocking=non_blocking),\n",
        "           item.sentiment_holder_edges.to(device, non_blocking=non_blocking)\n",
        "           ) for item in batch[\"graphs_edges\"]\n",
        "           ],\n",
        "       \"padding_mask\": batch[\"padding_mask\"].to(device, non_blocking=non_blocking),\n",
        "       \"seq_label_weights\": {k: v.to(\n",
        "           device, non_blocking=non_blocking) for k,v in batch[\"seq_label_weights\"].items()}}\n",
        "\n",
        "  return x, y"
      ],
      "metadata": {
        "id": "EOR_Ns2sjvrF"
      },
      "execution_count": null,
      "outputs": []
    },
    {
      "cell_type": "code",
      "source": [
        "def evaluate_prepare_batch(batch: Dict[str, Any], device='cuda',\n",
        "                        non_blocking=True) -> Tuple[Dict[str, Any], Dict[str, Any]]:\n",
        "\n",
        "  padding_mask = batch[\"padding_mask\"].to(device, non_blocking=non_blocking)\n",
        "\n",
        "  x = {\"ptm_input\": {\n",
        "        \"attention_mask\": batch[\"ptm_input\"][\"attention_mask\"].to(\n",
        "          device, non_blocking=non_blocking),\n",
        "        \"input_ids\": batch[\"ptm_input\"][\"input_ids\"].to(\n",
        "          device, non_blocking=non_blocking)},\n",
        "       \"padding_mask\": padding_mask, \"graphs_nodes\": batch[\"graphs_nodes\"]}\n",
        "\n",
        "  y = {\"seq_labels\": tuple(tensor.to(device,\n",
        "                                non_blocking=non_blocking) for tensor in batch[\"seq_labels\"]),\n",
        "       \"graphs\": batch[\"graphs\"],\n",
        "       \"graphs_edges\": [SentimentGraphEdgeSet(\n",
        "           item.sentiment_target_edges.to(device, non_blocking=non_blocking),\n",
        "           item.sentiment_holder_edges.to(device, non_blocking=non_blocking)\n",
        "           ) for item in batch[\"graphs_edges\"]\n",
        "           ], \"padding_mask\": padding_mask,\n",
        "       \"seq_label_weights\": {k: v.to(\n",
        "           device, non_blocking=non_blocking) for k,v in batch[\"seq_label_weights\"].items()}}\n",
        "  return x, y"
      ],
      "metadata": {
        "id": "10sA89Mdrp7P"
      },
      "execution_count": null,
      "outputs": []
    },
    {
      "cell_type": "code",
      "source": [
        "def train_output_transform(x: Dict[str, Any], y: Dict[str, Any],\n",
        "                              y_pred: StructuredSentimentPredictor.Output, loss: Tensor\n",
        ") -> Dict[str, Any]:\n",
        "\n",
        "  return {\"y\": y, \"y_pred_raw\": y_pred, \"loss\": loss}"
      ],
      "metadata": {
        "id": "y8S-jfuTPRrq"
      },
      "execution_count": null,
      "outputs": []
    },
    {
      "cell_type": "code",
      "source": [
        "# Submit issue on Ignite design about this\n",
        "def evaluate_output_transform(x: Dict[str, Any], y: Dict[str, Any],\n",
        "                              y_pred: StructuredSentimentPredictor.Output\n",
        ") -> Dict[str, Any]:\n",
        "\n",
        "  return {\"y_pred\": model.predict(x, y_pred), \"y\": y, \"y_pred_raw\": y_pred}"
      ],
      "metadata": {
        "id": "17lRJnCru_oB"
      },
      "execution_count": null,
      "outputs": []
    },
    {
      "cell_type": "code",
      "source": [
        "trainer = create_supervised_trainer(\n",
        "    model, optimizer, functools.partial(loss_fn, seq_label_weighted=SEQ_LABEL_WEIGHTED),\n",
        "    deterministic=True, device=DEVICE,\n",
        "    prepare_batch=train_prepare_batch, output_transform=train_output_transform\n",
        "    )\n",
        "\n",
        "evaluator = create_supervised_evaluator(\n",
        "    model, prepare_batch=evaluate_prepare_batch,\n",
        "    device=DEVICE, output_transform=evaluate_output_transform\n",
        "    )\n",
        "\n",
        "train_evaluator = create_supervised_evaluator(\n",
        "    model, prepare_batch=evaluate_prepare_batch,\n",
        "    device=DEVICE, output_transform=evaluate_output_transform\n",
        "    )"
      ],
      "metadata": {
        "id": "do_Y9qHwX_yn",
        "colab": {
          "base_uri": "https://localhost:8080/",
          "height": 235
        },
        "outputId": "d827a89d-801b-4d47-adca-c589f0b0c76d"
      },
      "execution_count": null,
      "outputs": [
        {
          "output_type": "error",
          "ename": "NameError",
          "evalue": "ignored",
          "traceback": [
            "\u001b[0;31m---------------------------------------------------------------------------\u001b[0m",
            "\u001b[0;31mNameError\u001b[0m                                 Traceback (most recent call last)",
            "\u001b[0;32m<ipython-input-27-319db43306df>\u001b[0m in \u001b[0;36m<module>\u001b[0;34m()\u001b[0m\n\u001b[1;32m      1\u001b[0m trainer = create_supervised_trainer(\n\u001b[0;32m----> 2\u001b[0;31m     \u001b[0mmodel\u001b[0m\u001b[0;34m,\u001b[0m \u001b[0moptimizer\u001b[0m\u001b[0;34m,\u001b[0m \u001b[0mfunctools\u001b[0m\u001b[0;34m.\u001b[0m\u001b[0mpartial\u001b[0m\u001b[0;34m(\u001b[0m\u001b[0mloss_fn\u001b[0m\u001b[0;34m,\u001b[0m \u001b[0mseq_label_weighted\u001b[0m\u001b[0;34m=\u001b[0m\u001b[0mSEQ_LABEL_WEIGHTED\u001b[0m\u001b[0;34m)\u001b[0m\u001b[0;34m,\u001b[0m\u001b[0;34m\u001b[0m\u001b[0;34m\u001b[0m\u001b[0m\n\u001b[0m\u001b[1;32m      3\u001b[0m     \u001b[0mdeterministic\u001b[0m\u001b[0;34m=\u001b[0m\u001b[0;32mTrue\u001b[0m\u001b[0;34m,\u001b[0m \u001b[0mdevice\u001b[0m\u001b[0;34m=\u001b[0m\u001b[0mDEVICE\u001b[0m\u001b[0;34m,\u001b[0m\u001b[0;34m\u001b[0m\u001b[0;34m\u001b[0m\u001b[0m\n\u001b[1;32m      4\u001b[0m     \u001b[0mprepare_batch\u001b[0m\u001b[0;34m=\u001b[0m\u001b[0mtrain_prepare_batch\u001b[0m\u001b[0;34m,\u001b[0m \u001b[0moutput_transform\u001b[0m\u001b[0;34m=\u001b[0m\u001b[0mtrain_output_transform\u001b[0m\u001b[0;34m\u001b[0m\u001b[0;34m\u001b[0m\u001b[0m\n\u001b[1;32m      5\u001b[0m     )\n",
            "\u001b[0;31mNameError\u001b[0m: name 'model' is not defined"
          ]
        }
      ]
    },
    {
      "cell_type": "markdown",
      "source": [
        "## Metrics"
      ],
      "metadata": {
        "id": "wk-wlWM4j6Iz"
      }
    },
    {
      "cell_type": "code",
      "source": [
        "class SeqLabelEntropy(Metric):\n",
        "  def __init__(self, output_transform=lambda x: x):\n",
        "    self.token_cnt = None\n",
        "    self.entropies = None\n",
        "\n",
        "    super(SeqLabelEntropy, self).__init__(output_transform=output_transform)\n",
        "\n",
        "\n",
        "  def reset(self):\n",
        "    self.token_cnt = {'sentiment': 0, 'target': 0, 'holder': 0}\n",
        "    self.entropies = {'sentiment': 0., 'target': 0., 'holder': 0.}\n",
        "    super(SeqLabelEntropy, self).reset()\n",
        "\n",
        "\n",
        "  def update(self, output: Tuple[StructuredSentimentPredictor.Output, Dict[str, Any]]):\n",
        "    sentim_labels, tgt_labels, hld_labels = output[0].node_extractor_output\n",
        "\n",
        "    padding_mask = output[1][\"padding_mask\"].cpu().numpy()\n",
        "\n",
        "    sentim_labels = sentim_labels.detach().cpu().softmax(dim=2)\n",
        "    self.entropies['sentiment'] += (scipy.stats.entropy(sentim_labels,\n",
        "                                                        axis=2) * padding_mask).sum()\n",
        "    self.token_cnt['sentiment'] += sentim_labels.size()[:2].numel()\n",
        "  \n",
        "    tgt_labels = tgt_labels.detach().cpu().softmax(dim=2)\n",
        "    self.entropies['target'] += (scipy.stats.entropy(tgt_labels, axis=2) * padding_mask).sum()\n",
        "    self.token_cnt['target'] += tgt_labels.size()[:2].numel()\n",
        "  \n",
        "    hld_labels = hld_labels.detach().cpu().softmax(dim=2)\n",
        "    self.entropies['holder'] += (scipy.stats.entropy(hld_labels, axis=2) * padding_mask).sum()\n",
        "    self.token_cnt['holder'] += hld_labels.size()[:2].numel()\n",
        "\n",
        "\n",
        "  def compute(self) -> Dict[str, float]:\n",
        "    return {(k.capitalize() + \" Label Entropy\"): v / self.token_cnt[k] for k, v \\\n",
        "            in self.entropies.items()}\n"
      ],
      "metadata": {
        "id": "e84-vMjTCciz"
      },
      "execution_count": null,
      "outputs": []
    },
    {
      "cell_type": "code",
      "source": [
        "class MatchLogicBase:\n",
        "  def is_match(self, sentim_overlap: int, target_overlap: int, holder_overlap: int,\n",
        "               is_polarity_matched: bool) -> bool:\n",
        "    ...\n",
        "\n",
        "\n",
        "  def weighted_match(self,\n",
        "                    sentim_node: SentimentGraphNode, target_neighbors: List[SentimentGraphNode],\n",
        "                    holder_neighbors: List[SentimentGraphNode],\n",
        "                    sentim_overlap: int, target_overlap: int, holder_overlap: int,\n",
        "                    ) -> float:\n",
        "    ...\n",
        "\n",
        "\n",
        "  def _union_length(self, nodes: List[SentimentGraphNode]) -> int:\n",
        "    if len(nodes) == 0:\n",
        "      return 1\n",
        "    return len(set(itertools.chain(*map(attrgetter('indices'), nodes))))"
      ],
      "metadata": {
        "id": "WAN-QlBCoEC2"
      },
      "execution_count": null,
      "outputs": []
    },
    {
      "cell_type": "code",
      "source": [
        "class GraphMatchLogic(MatchLogicBase):\n",
        "\n",
        "  def __init__(self, keep_polarity: bool=True):\n",
        "    self.keep_polarity = keep_polarity\n",
        "\n",
        "\n",
        "  def is_match(self, sentim_overlap: int, target_overlap: int, holder_overlap: int,\n",
        "               is_polarity_matched: bool) -> bool:\n",
        "    return sentim_overlap > 0 and target_overlap > 0 and holder_overlap > 0 and \\\n",
        "              (is_polarity_matched or not self.keep_polarity)\n",
        "\n",
        "\n",
        "  def weighted_match(self,\n",
        "                    sentim_node: SentimentGraphNode, target_neighbors: List[SentimentGraphNode],\n",
        "                    holder_neighbors: List[SentimentGraphNode],\n",
        "                    sentim_overlap: int, target_overlap: int, holder_overlap: int,\n",
        "                    ) -> float:\n",
        "    return (sentim_overlap / float(sentim_node.span_length) + \\\n",
        "            target_overlap / float(self._union_length(target_neighbors)) + \\\n",
        "            holder_overlap / float(self._union_length(holder_neighbors))\n",
        "            ) / 3."
      ],
      "metadata": {
        "id": "-yR_KojGo2Hk"
      },
      "execution_count": null,
      "outputs": []
    },
    {
      "cell_type": "code",
      "source": [
        "class SentimentMatchLogic(MatchLogicBase):\n",
        "\n",
        "  def __init__(self, keep_polarity: bool=True):\n",
        "    self.keep_polarity = keep_polarity\n",
        "\n",
        "\n",
        "  def is_match(self, sentim_overlap: int, target_overlap: int, holder_overlap: int,\n",
        "               is_polarity_matched: bool) -> bool:\n",
        "    return sentim_overlap > 0 and (is_polarity_matched or not self.keep_polarity)\n",
        "\n",
        "\n",
        "  def weighted_match(self,\n",
        "                    sentim_node: SentimentGraphNode, target_neighbors: List[SentimentGraphNode],\n",
        "                    holder_neighbors: List[SentimentGraphNode],\n",
        "                    sentim_overlap: int, target_overlap: int, holder_overlap: int,\n",
        "                    ) -> float:\n",
        "    return sentim_overlap / float(sentim_node.span_length) "
      ],
      "metadata": {
        "id": "tDIUHTRQpFX4"
      },
      "execution_count": null,
      "outputs": []
    },
    {
      "cell_type": "code",
      "source": [
        "class TargetMatchLogic(MatchLogicBase):\n",
        "  def is_match(self, sentim_overlap: int, target_overlap: int, holder_overlap: int,\n",
        "               is_polarity_matched: bool) -> bool:\n",
        "    return target_overlap > 0\n",
        "\n",
        "\n",
        "  def weighted_match(self,\n",
        "                    sentim_node: SentimentGraphNode, target_neighbors: List[SentimentGraphNode],\n",
        "                    holder_neighbors: List[SentimentGraphNode],\n",
        "                    sentim_overlap: int, target_overlap: int, holder_overlap: int,\n",
        "                    ) -> float:\n",
        "    return target_overlap / float(self._union_length(target_neighbors)) "
      ],
      "metadata": {
        "id": "PSm7Azf9pfEc"
      },
      "execution_count": null,
      "outputs": []
    },
    {
      "cell_type": "code",
      "source": [
        "class HolderMatchLogic(MatchLogicBase):\n",
        "  def is_match(self, sentim_overlap: int, target_overlap: int, holder_overlap: int,\n",
        "               is_polarity_matched: bool) -> bool:\n",
        "    return holder_overlap > 0\n",
        "\n",
        "\n",
        "  def weighted_match(self,\n",
        "                    sentim_node: SentimentGraphNode, target_neighbors: List[SentimentGraphNode],\n",
        "                    holder_neighbors: List[SentimentGraphNode],\n",
        "                    sentim_overlap: int, target_overlap: int, holder_overlap: int,\n",
        "                    ) -> float:\n",
        "    return holder_overlap / float(self._union_length(holder_neighbors)) "
      ],
      "metadata": {
        "id": "ofz34FvUqL8q"
      },
      "execution_count": null,
      "outputs": []
    },
    {
      "cell_type": "code",
      "source": [
        "class MetricBase(Metric):\n",
        "\n",
        "  def __init__(self, match_logic: MatchLogicBase, weighted=True, output_transform=lambda x:x):\n",
        "    self.weighted = weighted\n",
        "    self.match_logic = match_logic\n",
        "\n",
        "    super(MetricBase, self).__init__(output_transform=output_transform)\n",
        "\n",
        "\n",
        "  def extract_sentim_nodes_neighbors(\n",
        "    self, graph: SentimentGraph) -> List[Tuple[List[SentimentGraphNode], ...]]:\n",
        "    edges_sentim_tgt = graph.edges.sentiment_target_edges\n",
        "    if edges_sentim_tgt is not None:\n",
        "      edges_sentim_tgt = edges_sentim_tgt.detach().cpu()\n",
        "\n",
        "    edges_sentim_hld = graph.edges.sentiment_holder_edges\n",
        "    if edges_sentim_hld is not None:\n",
        "      edges_sentim_hld = edges_sentim_hld.detach().cpu()\n",
        "\n",
        "    sentim_nodes_neighbors = []\n",
        "    for i, sentim_node in enumerate(graph.nodes.sentiment_nodes):\n",
        "      assert sentim_node.tag is not None\n",
        "\n",
        "      if edges_sentim_tgt is not None:\n",
        "        target_neighbors = [\n",
        "          graph.nodes.target_nodes[j] for j in edges_sentim_tgt[i].nonzero()]\n",
        "      else:\n",
        "        target_neighbors = []\n",
        "\n",
        "      if edges_sentim_hld is not None:\n",
        "        holder_neighbors = [\n",
        "          graph.nodes.holder_nodes[j] for j in edges_sentim_hld[i].nonzero()]\n",
        "      else:\n",
        "        holder_neighbors = []\n",
        "\n",
        "      sentim_nodes_neighbors.append((target_neighbors, holder_neighbors))\n",
        "\n",
        "    return sentim_nodes_neighbors\n",
        "\n",
        "\n",
        "  def node_neighbors_overlap_length(self, nodes1: List[SentimentGraphNode],\n",
        "                      nodes2: List[SentimentGraphNode]) -> int:\n",
        "    if len(nodes1) == 0 and len(nodes2) == 0:\n",
        "      return 1\n",
        "\n",
        "    return len(set(itertools.chain(*map(attrgetter('indices'), nodes1))).intersection(\n",
        "        set(itertools.chain(*map(attrgetter('indices'), nodes2)))\n",
        "    ))\n",
        "\n",
        "\n",
        "  def update(self, output: Tuple[List[SentimentGraph], List[SentimentGraph]]):\n",
        "\n",
        "    y_pred, y = output\n",
        "\n",
        "    for p_graph, g_graph in zip(y_pred, y):\n",
        "\n",
        "      p_nodes_neighbors = self.extract_sentim_nodes_neighbors(p_graph)\n",
        "      g_nodes_neighbors = self.extract_sentim_nodes_neighbors(g_graph)\n",
        "\n",
        "      intersect_matrix = torch.zeros((len(p_graph.nodes.sentiment_nodes),\n",
        "                                         len(g_graph.nodes.sentiment_nodes)), dtype=int)\n",
        "\n",
        "      weighted_intersect_matrix_for_p = torch.zeros(len(p_graph.nodes.sentiment_nodes),\n",
        "                                        len(g_graph.nodes.sentiment_nodes))\n",
        "      weighted_intersect_matrix_for_g = torch.zeros(len(g_graph.nodes.sentiment_nodes),\n",
        "                                        len(p_graph.nodes.sentiment_nodes))\n",
        "\n",
        "      for i, p_sentim_node in enumerate(p_graph.nodes.sentiment_nodes):\n",
        "        for j, g_sentim_node in enumerate(g_graph.nodes.sentiment_nodes):\n",
        "\n",
        "          p_target_neighbors, p_holder_neighbors = p_nodes_neighbors[i]\n",
        "          g_target_neighbors, g_holder_neighbors = g_nodes_neighbors[j]\n",
        "\n",
        "          sentim_overlap = self.node_neighbors_overlap_length([p_sentim_node], [g_sentim_node])\n",
        "          target_overlap = self.node_neighbors_overlap_length(p_target_neighbors, g_target_neighbors)\n",
        "          holder_overlap = self.node_neighbors_overlap_length(p_holder_neighbors, g_holder_neighbors)\n",
        "\n",
        "          if self.match_logic.is_match(sentim_overlap, target_overlap, holder_overlap,\n",
        "                                       g_sentim_node.tag == p_sentim_node.tag):\n",
        "          \n",
        "            intersect_matrix[i, j] = 1\n",
        "\n",
        "            if self.weighted:\n",
        "              weighted_intersect_matrix_for_p[i, j] = \\\n",
        "                self.match_logic.weighted_match(p_sentim_node, p_target_neighbors,\n",
        "                                                p_holder_neighbors,\n",
        "                                                sentim_overlap, target_overlap, holder_overlap)\n",
        "\n",
        "              weighted_intersect_matrix_for_g[j, i] = \\\n",
        "                self.match_logic.weighted_match(g_sentim_node, g_target_neighbors,\n",
        "                                                g_holder_neighbors,\n",
        "                                                sentim_overlap, target_overlap, holder_overlap)\n",
        "\n",
        "      self.update_(intersect_matrix, weighted_intersect_matrix_for_g,\n",
        "                   weighted_intersect_matrix_for_p)\n"
      ],
      "metadata": {
        "id": "2Y5eg4-hM5fN"
      },
      "execution_count": null,
      "outputs": []
    },
    {
      "cell_type": "code",
      "source": [
        "class Precision(MetricBase):\n",
        "  def __init__(self, match_logic: MatchLogicBase, weighted=True, output_transform=lambda x:x):\n",
        "    self.weighted_tp = None\n",
        "    self.tp = None\n",
        "    self.fp = None\n",
        "\n",
        "    super(Precision, self).__init__(match_logic, weighted=weighted,\n",
        "                                    output_transform=output_transform)\n",
        "\n",
        "\n",
        "  def reset(self):\n",
        "      self.weighted_tp = 0.\n",
        "      self.tp = 0\n",
        "      self.fp = 0\n",
        "\n",
        "      super(Precision, self).reset()\n",
        "\n",
        "\n",
        "  def update_(self, intersect_matrix: Tensor, weighted_intersect_matrix_for_g: Tensor,\n",
        "               weighted_intersect_matrix_for_p: Tensor):\n",
        "    self.tp += intersect_matrix.any(dim=1).sum().item()\n",
        "    self.fp += (~ intersect_matrix.any(dim=1)).sum().item()\n",
        "\n",
        "    if self.weighted:\n",
        "      self.weighted_tp += weighted_intersect_matrix_for_p.max(\n",
        "          dim=1).values.sum().item()\n",
        "\n",
        "\n",
        "  def compute(self) -> float:\n",
        "    if self.weighted:\n",
        "      return self.weighted_tp / (self.tp + self.fp + 1e-10)\n",
        "    else:\n",
        "      return self.tp / (self.tp + self.fp + 1e-10)"
      ],
      "metadata": {
        "id": "KV8T-o_neQ0M"
      },
      "execution_count": null,
      "outputs": []
    },
    {
      "cell_type": "code",
      "source": [
        "class Recall(MetricBase):\n",
        "\n",
        "  def __init__(self, match_logic: MatchLogicBase, weighted=True, output_transform=lambda x:x):\n",
        "    self.weighted_tp = None\n",
        "    self.tp = None\n",
        "    self.fn = None\n",
        "\n",
        "    super(Recall, self).__init__(match_logic, weighted=weighted,\n",
        "                                 output_transform=output_transform)\n",
        "\n",
        "\n",
        "  def reset(self):\n",
        "    self.weighted_tp = 0.\n",
        "    self.tp = 0\n",
        "    self.fn = 0\n",
        "\n",
        "    super(Recall, self).reset()\n",
        "\n",
        "\n",
        "  def update_(self, intersect_matrix: Tensor, weighted_intersect_matrix_for_g: Tensor,\n",
        "               weighted_intersect_matrix_for_p: Tensor):\n",
        "\n",
        "    self.tp += intersect_matrix.any(dim=0).sum().item()\n",
        "    self.fn += (~ intersect_matrix.any(dim=0)).sum().item()\n",
        "\n",
        "    if self.weighted:\n",
        "      try:\n",
        "        self.weighted_tp += weighted_intersect_matrix_for_g.max(\n",
        "            dim=1).values.sum().item()\n",
        "      except IndexError:\n",
        "        pass\n",
        "\n",
        "\n",
        "  def compute(self) -> float:\n",
        "    if self.weighted:\n",
        "      return self.weighted_tp / (self.tp + self.fn + 1e-10)\n",
        "    else:\n",
        "      return self.tp / (self.tp + self.fn + 1e-10)"
      ],
      "metadata": {
        "id": "Ug4WDkLXfUCk"
      },
      "execution_count": null,
      "outputs": []
    },
    {
      "cell_type": "code",
      "source": [
        "def F1(match_logic: MatchLogicBase, weighted=True, output_transform=lambda x: x) -> MetricBase:\n",
        "  p = Precision(match_logic, weighted=weighted, output_transform=output_transform)\n",
        "  r = Recall(match_logic, weighted=weighted, output_transform=output_transform)\n",
        "  return 2 * p * r / (p + r + 1e-10)"
      ],
      "metadata": {
        "id": "R8uJNqXT7sH1"
      },
      "execution_count": null,
      "outputs": []
    },
    {
      "cell_type": "code",
      "source": [
        "@torch.no_grad()\n",
        "def loss_metric(input):\n",
        "  y_pred, y = input[\"y_pred_raw\"], input[\"y\"]\n",
        "  return loss_fn(y_pred, y, seq_label_weighted=SEQ_LABEL_WEIGHTED).item()"
      ],
      "metadata": {
        "id": "ncVPRE4zJkNG"
      },
      "execution_count": null,
      "outputs": []
    },
    {
      "cell_type": "code",
      "source": [
        "@torch.no_grad()\n",
        "def acc_output_transform(inputs: Dict[str, Any]):\n",
        "  return inputs['y_pred'], inputs['y']['graphs']"
      ],
      "metadata": {
        "id": "zsZ6znpYQcvr"
      },
      "execution_count": null,
      "outputs": []
    },
    {
      "cell_type": "code",
      "source": [
        "def loss_output_transform(inputs):\n",
        "  return inputs[\"loss\"]"
      ],
      "metadata": {
        "id": "HTDmZ3z-QGVt"
      },
      "execution_count": null,
      "outputs": []
    },
    {
      "cell_type": "code",
      "source": [
        "train_loss = Average(output_transform=loss_output_transform)\n",
        "eval_loss = Average(output_transform=loss_metric)\n",
        "running_loss = RunningAverage(output_transform=loss_output_transform)"
      ],
      "metadata": {
        "id": "WwUaCGbklZZs"
      },
      "execution_count": null,
      "outputs": []
    },
    {
      "cell_type": "code",
      "source": [
        "graph_f1 = F1(GraphMatchLogic(), output_transform=acc_output_transform)\n",
        "\n",
        "# sentiment_f1 = F1(SentimentMatchLogic(), output_transform=acc_output_transform)\n",
        "\n",
        "# target_f1 = F1(TargetMatchLogic(), output_transform=acc_output_transform)\n",
        "\n",
        "# holder_f1 = F1(HolderMatchLogic(), output_transform=acc_output_transform)"
      ],
      "metadata": {
        "id": "jbt4kZdIwKzh"
      },
      "execution_count": null,
      "outputs": []
    },
    {
      "cell_type": "code",
      "source": [
        "label_entropy = SeqLabelEntropy(output_transform=lambda out: (out['y_pred_raw'], out['y']))"
      ],
      "metadata": {
        "id": "6zA73D5MJPsu"
      },
      "execution_count": null,
      "outputs": []
    },
    {
      "cell_type": "code",
      "source": [
        "train_loss.attach(trainer, 'Loss')\n",
        "\n",
        "graph_f1.attach(train_evaluator, 'Graph F1')\n",
        "# sentiment_f1.attach(train_evaluator, 'Sentiment F1')\n",
        "# target_f1.attach(train_evaluator, 'Target F1')\n",
        "# holder_f1.attach(train_evaluator, 'Holder F1')\n",
        "\n",
        "\n",
        "eval_loss.attach(evaluator, 'Loss')\n",
        "\n",
        "graph_f1.attach(evaluator, 'Graph F1')\n",
        "# sentiment_f1.attach(evaluator, 'Sentiment F1')\n",
        "# target_f1.attach(evaluator, 'Target F1')\n",
        "# holder_f1.attach(evaluator, 'Holder F1')\n",
        "\n",
        "\n",
        "running_loss.attach(trainer, 'Running Loss')"
      ],
      "metadata": {
        "id": "sglIkC8x9cH2"
      },
      "execution_count": null,
      "outputs": []
    },
    {
      "cell_type": "code",
      "source": [
        "label_entropy.attach(train_evaluator, 'Label Entropy')\n",
        "label_entropy.attach(evaluator, 'Label Entropy')"
      ],
      "metadata": {
        "id": "CYh-AcmxOBDW"
      },
      "execution_count": null,
      "outputs": []
    },
    {
      "cell_type": "markdown",
      "source": [
        "## Safety Measure (Terminate on NaN)"
      ],
      "metadata": {
        "id": "nN1dFQSo4-6J"
      }
    },
    {
      "cell_type": "code",
      "source": [
        "trainer.add_event_handler(Events.ITERATION_COMPLETED,\n",
        "                          TerminateOnNan(output_transform=itemgetter('loss')))"
      ],
      "metadata": {
        "id": "zBddLmc41U55",
        "colab": {
          "base_uri": "https://localhost:8080/"
        },
        "outputId": "6e4e0ebb-e44d-47ec-81f2-c00796322600"
      },
      "execution_count": null,
      "outputs": [
        {
          "output_type": "execute_result",
          "data": {
            "text/plain": [
              "<ignite.engine.events.RemovableEventHandle at 0x7f7ab1557a90>"
            ]
          },
          "metadata": {},
          "execution_count": 185
        }
      ]
    },
    {
      "cell_type": "markdown",
      "source": [
        "## Logging (WandB & Tqdm)"
      ],
      "metadata": {
        "id": "D1yg5Gc0euM8"
      }
    },
    {
      "cell_type": "code",
      "source": [
        "note = 'SemEval2022 Task 10 Subtask 1'\n",
        "wandb_logger = WandBLogger(entity='sadra-barikbin',\n",
        "                           project='ABSA',\n",
        "                           name='Attentionist-Opener_En',\n",
        "                           tags=['Opener_En', 'Warm-Up', 'StepLR'],\n",
        "                           notes=note, resume=True)\n",
        "\n",
        "wandb_logger.attach_opt_params_handler(trainer, event_name=Events.EPOCH_COMPLETED, \n",
        "                                       optimizer=optimizer, sync=False)\n",
        "\n",
        "wandb_logger.attach_output_handler(trainer, event_name=Events.EPOCH_COMPLETED,\n",
        "                                   tag=\"training\", metric_names=[\"Loss\"], sync=False)\n",
        "\n",
        "metric_names = [\"Graph F1\"]#, \"Sentiment F1\", \"Target F1\", \"Holder F1\"]\n",
        "\n",
        "wandb_logger.attach_output_handler(train_evaluator, event_name=Events.COMPLETED,\n",
        "                                   global_step_transform=global_step_from_engine(trainer),\n",
        "                                   tag=\"training\", metric_names=metric_names, sync=False)\n",
        "\n",
        "wandb_logger.attach_output_handler(evaluator, event_name=Events.COMPLETED,\n",
        "                                   global_step_transform=global_step_from_engine(trainer),\n",
        "                                   tag=\"evaluation\", metric_names=[\"Loss\"] + metric_names,\n",
        "                                   sync=False)"
      ],
      "metadata": {
        "id": "NIEId7Si5Mpr",
        "colab": {
          "base_uri": "https://localhost:8080/",
          "height": 52
        },
        "outputId": "2f701af2-fa2a-47a9-c15d-aab4165d2d11"
      },
      "execution_count": null,
      "outputs": [
        {
          "output_type": "display_data",
          "data": {
            "text/html": [
              "\n",
              "                    Syncing run <strong><a href=\"https://wandb.ai/sadra-barikbin/ABSA/runs/3m7avcnx\" target=\"_blank\">Attentionist-Opener_En</a></strong> to <a href=\"https://wandb.ai/sadra-barikbin/ABSA\" target=\"_blank\">Weights & Biases</a> (<a href=\"https://docs.wandb.com/integrations/jupyter.html\" target=\"_blank\">docs</a>).<br/>\n",
              "\n",
              "                "
            ],
            "text/plain": [
              "<IPython.core.display.HTML object>"
            ]
          },
          "metadata": {}
        },
        {
          "output_type": "execute_result",
          "data": {
            "text/plain": [
              "<ignite.engine.events.RemovableEventHandle at 0x7f7ab17c3c90>"
            ]
          },
          "metadata": {},
          "execution_count": 186
        }
      ]
    },
    {
      "cell_type": "code",
      "source": [
        "@trainer.on(Events.COMPLETED)\n",
        "def close_logger():\n",
        "  wandb_logger.close()"
      ],
      "metadata": {
        "id": "lma8BF_mduxh"
      },
      "execution_count": null,
      "outputs": []
    },
    {
      "cell_type": "code",
      "source": [
        "# Ignite bug? check if could be duplicately attached\n",
        "pbar = ProgressBar()\n",
        "pbar.attach(trainer,metric_names=['Running Loss'])"
      ],
      "metadata": {
        "id": "UMAWGCmTqq61"
      },
      "execution_count": null,
      "outputs": []
    },
    {
      "cell_type": "markdown",
      "source": [
        "## LR Scheduling"
      ],
      "metadata": {
        "id": "yOCGhIPsxtnt"
      }
    },
    {
      "cell_type": "markdown",
      "source": [
        "### StepLR on model.novelty"
      ],
      "metadata": {
        "id": "tLt88l8PNu-e"
      }
    },
    {
      "cell_type": "code",
      "source": [
        "from torch.optim.optimizer import Optimizer\n",
        "from ignite.handlers.param_scheduler import ParamScheduler\n",
        "from typing import Optional, Union"
      ],
      "metadata": {
        "id": "77HMZvlJL8kM"
      },
      "execution_count": null,
      "outputs": []
    },
    {
      "cell_type": "code",
      "source": [
        "class StepParamScheduler(ParamScheduler):\n",
        "\n",
        "  def __init__(self, optimizer: Optimizer, param_name: str, gamma: float = 0.1 ,\n",
        "        step_size: int = 1, save_history: bool = False,\n",
        "        param_group_index: Optional[int] = None):\n",
        "    super(StepParamScheduler, self).__init__(optimizer, param_name, save_history = save_history,\n",
        "                                          param_group_index = param_group_index)\n",
        "    if step_size <= 0:\n",
        "        raise ValueError(\n",
        "                f\"Argument step_size should be greater than zero, but given {step_size}\"\n",
        "        )\n",
        "    self.gamma = gamma\n",
        "    self.step_size = step_size\n",
        "    self.current_step = step_size - 1\n",
        "\n",
        "    self._state_attrs += ['gamma', 'step_size', 'current_step']\n",
        "\n",
        "  def get_param(self) -> Union[List[float], float]:\n",
        "    gamma = 1 if self.current_step != 0 else self.gamma\n",
        "\n",
        "    self.current_step -= 1\n",
        "    if self.current_step == -1:\n",
        "        self.current_step += self.step_size\n",
        "\n",
        "    if len(self.optimizer_param_groups) == 1:\n",
        "      return self.optimizer_param_groups[0][self.param_name] * gamma\n",
        "    else:\n",
        "      return [pg[self.param_name] * gamma for pg in self.optimizer_param_groups]"
      ],
      "metadata": {
        "id": "QVKC-TBzLEgn"
      },
      "execution_count": null,
      "outputs": []
    },
    {
      "cell_type": "code",
      "source": [
        "lr_scheduler = StepParamScheduler(optimizer, 'lr', gamma=0.1, step_size=9,\n",
        "                                  save_history=True, param_group_index=1)\n",
        "scheduler_handler = trainer.add_event_handler(\n",
        "    Events.EPOCH_COMPLETED, lr_scheduler)\n",
        "\n",
        "wandb_logger.config['LR_scheduler'] = 'StepLR(gamma=0.5)'"
      ],
      "metadata": {
        "id": "8zYPs0AnR4yJ"
      },
      "execution_count": null,
      "outputs": []
    },
    {
      "cell_type": "markdown",
      "source": [
        "### Just Warm-Up"
      ],
      "metadata": {
        "id": "kW7fX5z7MCG6"
      }
    },
    {
      "cell_type": "code",
      "source": [
        "base_scheduler = PiecewiseLinear(optimizer, \"lr\",\n",
        "                                 milestones_values=[(1, 1e-6), (len(train_ds) // BATCH_SIZE, 1e-4)],\n",
        "                                 param_group_index=0)\n",
        "\n",
        "novelty_scheduler = PiecewiseLinear(optimizer, \"lr\",\n",
        "                                 milestones_values=[(1, 1e-5), (len(train_ds) // BATCH_SIZE, 1e-3)],\n",
        "                                 param_group_index=1)\n",
        "event_filter = lambda _, event: event < (len(train_ds) // BATCH_SIZE) + 1\n",
        "scheduler1_handler = trainer.add_event_handler(Events.ITERATION_STARTED(event_filter),\n",
        "                                               base_scheduler)\n",
        "scheduler2_handler = trainer.add_event_handler(Events.ITERATION_STARTED(event_filter),\n",
        "                                               novelty_scheduler)\n",
        "\n",
        "wandb_logger.config['LR_scheduler'] = 'Linear Warm-Up + StepLR(gamma=0.5)'"
      ],
      "metadata": {
        "id": "qnOzowJZMGfs"
      },
      "execution_count": null,
      "outputs": []
    },
    {
      "cell_type": "markdown",
      "source": [
        "## Early Stopping"
      ],
      "metadata": {
        "id": "czLYS-FYxktA"
      }
    },
    {
      "cell_type": "code",
      "source": [
        "stopper = EarlyStopping(patience=6, score_function=lambda engine: engine.state.metrics['Graph F1'],\n",
        "                        trainer=trainer)\n",
        "stopper_handle = evaluator.add_event_handler(Events.COMPLETED, stopper)"
      ],
      "metadata": {
        "id": "njc-6s9isXAs"
      },
      "execution_count": null,
      "outputs": []
    },
    {
      "cell_type": "markdown",
      "source": [
        "## Checkpointing"
      ],
      "metadata": {
        "id": "kmH6SctP4whd"
      }
    },
    {
      "cell_type": "code",
      "source": [
        "# /tmp/run\n",
        "checkpointer = ModelCheckpoint(wandb_logger.run.dir, 'Attentionist_Opener_En',\n",
        "                               score_name='Graph F1', n_saved=2, require_empty=False)\n",
        "# How can I do it every 2 evaluator epochs ?\n",
        "evaluator.add_event_handler(Events.EPOCH_COMPLETED, checkpointer, {'model': model})"
      ],
      "metadata": {
        "id": "z85LOTI00P_e",
        "colab": {
          "base_uri": "https://localhost:8080/"
        },
        "outputId": "7047e3e1-bb40-4558-bcae-3d96f25bd64f"
      },
      "execution_count": null,
      "outputs": [
        {
          "output_type": "execute_result",
          "data": {
            "text/plain": [
              "<ignite.engine.events.RemovableEventHandle at 0x7f7ab1884610>"
            ]
          },
          "metadata": {},
          "execution_count": 192
        }
      ]
    },
    {
      "cell_type": "markdown",
      "source": [
        "## Run"
      ],
      "metadata": {
        "id": "Vm9CL9tmf4vR"
      }
    },
    {
      "cell_type": "code",
      "source": [
        "@trainer.on(Events.EPOCH_COMPLETED)\n",
        "def evaluate():\n",
        "  evaluator.run(dev_dataloader)\n",
        "  train_evaluator.run(train_dataloader)"
      ],
      "metadata": {
        "id": "dfAuMhYjqIAv"
      },
      "execution_count": null,
      "outputs": []
    },
    {
      "cell_type": "code",
      "source": [
        "wandb_logger.config['random_seed'] = 41\n",
        "trainer.run(train_dataloader,max_epochs=30 )"
      ],
      "metadata": {
        "id": "G9ZcJA_NsGLE"
      },
      "execution_count": null,
      "outputs": []
    },
    {
      "cell_type": "markdown",
      "source": [
        "# Inference"
      ],
      "metadata": {
        "id": "OVt0xvzkN03p"
      }
    },
    {
      "cell_type": "markdown",
      "source": [
        "## Load Best Model"
      ],
      "metadata": {
        "id": "z7kP83EJM9JV"
      }
    },
    {
      "cell_type": "code",
      "source": [
        "!wandb login --cloud <API_KEY>"
      ],
      "metadata": {
        "colab": {
          "base_uri": "https://localhost:8080/"
        },
        "id": "KUNRTPUPozDh",
        "outputId": "ba79eda6-09d4-48c2-986d-7a1d8e603f59"
      },
      "execution_count": null,
      "outputs": [
        {
          "output_type": "stream",
          "name": "stdout",
          "text": [
            "\u001b[34m\u001b[1mwandb\u001b[0m: Appending key for api.wandb.ai to your netrc file: /root/.netrc\n"
          ]
        }
      ]
    },
    {
      "cell_type": "code",
      "source": [
        "dataset_names_map = {'opener_en': 'Opener_En', 'opener_es': 'Opener_Es', 'norec': 'Norec',\n",
        "                     'darmstadt_unis': 'Darmstadt_unis', 'multibooked_eu': 'Multibooked_eu',\n",
        "                     'multibooked_ca': 'Multibooked_ca', 'mpqa': 'MPQA'}"
      ],
      "metadata": {
        "id": "zqpDpEZaJyan"
      },
      "execution_count": null,
      "outputs": []
    },
    {
      "cell_type": "code",
      "source": [
        "api = wandb.Api()\n",
        "runs = api.runs('sadra-barikbin/ABSA', order='summary_metrics.evaluation/SF1',\n",
        "                filters={'tags': dataset_names_map[DATASET_NAME]})\n",
        "model_path = list(list(runs)[0].files())[1].download()\n",
        "state_dict = torch.load(model_path.name)"
      ],
      "metadata": {
        "id": "DutMhCk9yU0H"
      },
      "execution_count": null,
      "outputs": []
    },
    {
      "cell_type": "code",
      "source": [
        "list(list(runs)[0].files())"
      ],
      "metadata": {
        "colab": {
          "base_uri": "https://localhost:8080/"
        },
        "id": "X_I8-51fU-1s",
        "outputId": "c29350c5-f383-4975-84c3-204c7c518bc2"
      },
      "execution_count": null,
      "outputs": [
        {
          "output_type": "execute_result",
          "data": {
            "text/plain": [
              "[<File Attentionist_Darmstadt_unis_model_SF1=0.5069.pt (application/vnd.snesdev-page-table) 473.9MiB>,\n",
              " <File Attentionist_Darmstadt_unis_model_SF1=0.5193.pt (application/vnd.snesdev-page-table) 473.9MiB>,\n",
              " <File config.yaml () 514.0B>,\n",
              " <File output.log (text/plain; charset=utf-8) 104.0B>,\n",
              " <File requirements.txt (text/plain; charset=utf-8) 7.1KiB>,\n",
              " <File wandb-metadata.json (application/json) 676.0B>,\n",
              " <File wandb-summary.json (application/json) 515.0B>]"
            ]
          },
          "metadata": {},
          "execution_count": 81
        }
      ]
    },
    {
      "cell_type": "code",
      "source": [
        "model = StructuredSentimentPredictor()\n",
        "model.load_state_dict(state_dict)"
      ],
      "metadata": {
        "colab": {
          "base_uri": "https://localhost:8080/"
        },
        "id": "tYxyAMuMLITI",
        "outputId": "4c56e6e0-dc6e-430a-a7b0-7ffd1963567c"
      },
      "execution_count": null,
      "outputs": [
        {
          "output_type": "stream",
          "name": "stderr",
          "text": [
            "Some weights of the model checkpoint at roberta-base were not used when initializing RobertaModel: ['lm_head.decoder.weight', 'roberta.pooler.dense.bias', 'lm_head.layer_norm.weight', 'roberta.pooler.dense.weight', 'lm_head.dense.weight', 'lm_head.layer_norm.bias', 'lm_head.dense.bias', 'lm_head.bias']\n",
            "- This IS expected if you are initializing RobertaModel from the checkpoint of a model trained on another task or with another architecture (e.g. initializing a BertForSequenceClassification model from a BertForPreTraining model).\n",
            "- This IS NOT expected if you are initializing RobertaModel from the checkpoint of a model that you expect to be exactly identical (initializing a BertForSequenceClassification model from a BertForSequenceClassification model).\n"
          ]
        },
        {
          "output_type": "execute_result",
          "data": {
            "text/plain": [
              "<All keys matched successfully>"
            ]
          },
          "metadata": {},
          "execution_count": 82
        }
      ]
    },
    {
      "cell_type": "code",
      "source": [
        "tokenizer = get_tokenizer(DATASET_NAME)"
      ],
      "metadata": {
        "id": "TSmbLEozRG_u"
      },
      "execution_count": null,
      "outputs": []
    },
    {
      "cell_type": "markdown",
      "source": [
        "## Dataset, DataLoader and Engine"
      ],
      "metadata": {
        "id": "eLPLVSUeNEco"
      }
    },
    {
      "cell_type": "code",
      "source": [
        "def test_collate_fn(batch: List[Dict[str, Any]]) -> Dict[str, Any]:\n",
        "\n",
        "  texts = [item['text'] for item in batch]\n",
        "  ptm_input = tokenizer(texts, padding=True, return_tensors='pt')\n",
        "  ptm_input['input_ids'] = ptm_input['input_ids'].to(DEVICE)\n",
        "  ptm_input['attention_mask'] = ptm_input['attention_mask'].to(DEVICE)\n",
        "  if 'token_type_ids' in ptm_input:\n",
        "    ptm_input['token_type_ids'] = ptm_input['token_type_ids'].to(DEVICE)\n",
        "  padding_mask = tokenizer(texts, padding=True, return_tensors='pt',\n",
        "                           add_special_tokens=False)[\"attention_mask\"].to(DEVICE)\n",
        "\n",
        "  return {\"pred_template\": batch, \"ptm_input\": ptm_input, \"padding_mask\": padding_mask}\n"
      ],
      "metadata": {
        "id": "rPgNZrgKQ4Co"
      },
      "execution_count": null,
      "outputs": []
    },
    {
      "cell_type": "code",
      "source": [
        "test_ds = SemEval2022Task10Dataset(DATASET_NAME, 'test')\n",
        "test_dataloader = DataLoader(test_ds, batch_size=BATCH_SIZE * 2, collate_fn=test_collate_fn)"
      ],
      "metadata": {
        "id": "wznqcKLyQY1M"
      },
      "execution_count": null,
      "outputs": []
    },
    {
      "cell_type": "code",
      "source": [
        "@torch.no_grad()\n",
        "def test_engine_process_function(engine: Engine, batch: Dict[str, Any]) -> List[Dict[str, Any]]:\n",
        "\n",
        "  model.eval()\n",
        "\n",
        "  base_output = model.base(batch[\"ptm_input\"])\n",
        "  base_output = model.novelty['base_pooler'](base_output)\n",
        "  node_predictor_out = model.novelty['node_predictor'](base_output)\n",
        "  output: List[SentimentGraph] = model.predict(\n",
        "      batch, StructuredSentimentPredictor.Output(node_predictor_out, None)\n",
        "  )\n",
        "\n",
        "  pred_template = batch['pred_template']\n",
        "\n",
        "  tokens_char_offsets_batch = tokenizer([item['text'] for item in pred_template],\n",
        "                                  add_special_tokens=False, return_offsets_mapping=True,\n",
        "                                  return_length=True)['offset_mapping']\n",
        "  \n",
        "  for sent_idx in range(len(output)):\n",
        "    sentim_nodes = output[sent_idx].nodes.sentiment_nodes\n",
        "    tgt_nodes = output[sent_idx].nodes.target_nodes\n",
        "    hld_nodes = output[sent_idx].nodes.holder_nodes\n",
        "\n",
        "    edges = output[sent_idx].edges\n",
        "\n",
        "    text = pred_template[sent_idx]['text']\n",
        "\n",
        "    for i in range(len(sentim_nodes)):\n",
        "      opinion = {}\n",
        "      \n",
        "      node_tokens_char_offsets = tokens_char_offsets_batch[\n",
        "                                                      sent_idx][sentim_nodes[i].span_in_sentence]\n",
        "      node_char_idx_begin = node_tokens_char_offsets[0][0]\n",
        "      node_char_idx_end = node_tokens_char_offsets[-1][1]\n",
        "\n",
        "      opinion['Polar_expression'] = [[text[node_char_idx_begin:node_char_idx_end]],\n",
        "                                     [f\"{node_char_idx_begin}:{node_char_idx_end}\"]]\n",
        "      \n",
        "      tgt_neighbors_exprs = []\n",
        "      tgt_neighbors_char_spans = []\n",
        "      if edges.sentiment_target_edges is not None:\n",
        "        for tgt_node_idx in edges.sentiment_target_edges[i].nonzero():\n",
        "          neighbor_tgt_node = tgt_nodes[tgt_node_idx]\n",
        "\n",
        "          node_tokens_char_offsets = tokens_char_offsets_batch[\n",
        "                                                      sent_idx][neighbor_tgt_node.span_in_sentence]\n",
        "\n",
        "          node_char_idx_begin = node_tokens_char_offsets[0][0]\n",
        "          node_char_idx_end = node_tokens_char_offsets[-1][1]\n",
        "\n",
        "          tgt_neighbors_exprs.append(text[node_char_idx_begin:node_char_idx_end])\n",
        "          tgt_neighbors_char_spans.append(f\"{node_char_idx_begin}:{node_char_idx_end}\")\n",
        "      opinion['Target'] = [tgt_neighbors_exprs, tgt_neighbors_char_spans]\n",
        "\n",
        "      hld_neighbors_exprs = []\n",
        "      hld_neighbors_char_spans = []\n",
        "      if edges.sentiment_holder_edges is not None:\n",
        "        for hld_node_idx in edges.sentiment_holder_edges[i].nonzero():\n",
        "          neighbor_hld_node = hld_nodes[hld_node_idx]\n",
        "\n",
        "          node_tokens_char_offsets = tokens_char_offsets_batch[\n",
        "                                                      sent_idx][neighbor_hld_node.span_in_sentence]\n",
        "\n",
        "          node_char_idx_begin = node_tokens_char_offsets[0][0]\n",
        "          node_char_idx_end = node_tokens_char_offsets[-1][1]\n",
        "\n",
        "          hld_neighbors_exprs.append(text[node_char_idx_begin:node_char_idx_end])\n",
        "          hld_neighbors_char_spans.append(f\"{node_char_idx_begin}:{node_char_idx_end}\")\n",
        "      opinion['Source'] = [hld_neighbors_exprs, hld_neighbors_char_spans]\n",
        "\n",
        "      opinion['Polarity'] = sentim_nodes[i].tag\n",
        "\n",
        "      pred_template[sent_idx]['opinions'].append(opinion)\n",
        "\n",
        "  return pred_template\n"
      ],
      "metadata": {
        "id": "nZaT5No6R2ca"
      },
      "execution_count": null,
      "outputs": []
    },
    {
      "cell_type": "code",
      "source": [
        "tester = Engine(test_engine_process_function)"
      ],
      "metadata": {
        "id": "ieUBfgz9R7tC"
      },
      "execution_count": null,
      "outputs": []
    },
    {
      "cell_type": "code",
      "source": [
        "output_store = EpochOutputStore()\n",
        "output_store.attach(tester, 'outputs')"
      ],
      "metadata": {
        "id": "yC4eNOxcDMU5"
      },
      "execution_count": null,
      "outputs": []
    },
    {
      "cell_type": "code",
      "source": [
        "pbar = ProgressBar()\n",
        "pbar.attach(tester)"
      ],
      "metadata": {
        "id": "xz3ZmCkmMgOy"
      },
      "execution_count": null,
      "outputs": []
    },
    {
      "cell_type": "code",
      "source": [
        "tester.run(test_dataloader)"
      ],
      "metadata": {
        "id": "etdbgLqBDmyZ",
        "colab": {
          "base_uri": "https://localhost:8080/",
          "height": 225,
          "referenced_widgets": [
            "dde73bb0d5884cb595f92c6c809f4466",
            "f4d7652aadde4acc9ec311361d078a0d",
            "238a5a4edfc34f13a506f64b93f1edb7",
            "8e9ed6d73c4f4486b4c25d2b8897aaaf",
            "33991f37b8654cd5a2fbafc62b4b3d07",
            "5edd756ad6ce431fbdecd71bf07f61cc",
            "b833e9d68c914d0986205d1fc1fd0c1c",
            "24f256d260e3470983c395e0afde1f19",
            "274fca48544e4de6bb4a698adc1d86ba",
            "35c562339d7c44858a971eca932b1a91",
            "1403ed76fe5e4667bc3d1ee5b5c3be68"
          ]
        },
        "outputId": "3fa557a6-be61-4f30-c4e9-a846ad08a391"
      },
      "execution_count": null,
      "outputs": [
        {
          "output_type": "display_data",
          "data": {
            "application/vnd.jupyter.widget-view+json": {
              "model_id": "dde73bb0d5884cb595f92c6c809f4466",
              "version_minor": 0,
              "version_major": 2
            },
            "text/plain": [
              "[1/39]   3%|2          [00:00<?]"
            ]
          },
          "metadata": {}
        },
        {
          "output_type": "execute_result",
          "data": {
            "text/plain": [
              "State:\n",
              "\titeration: 39\n",
              "\tepoch: 1\n",
              "\tepoch_length: 39\n",
              "\tmax_epochs: 1\n",
              "\toutput: <class 'list'>\n",
              "\tbatch: <class 'dict'>\n",
              "\tmetrics: <class 'dict'>\n",
              "\tdataloader: <class 'torch.utils.data.dataloader.DataLoader'>\n",
              "\tseed: <class 'NoneType'>\n",
              "\ttimes: <class 'dict'>\n",
              "\toutputs: <class 'list'>"
            ]
          },
          "metadata": {},
          "execution_count": 112
        }
      ]
    },
    {
      "cell_type": "markdown",
      "source": [
        "## Save Predictions"
      ],
      "metadata": {
        "id": "_XPbId-zNSUp"
      }
    },
    {
      "cell_type": "code",
      "source": [
        "path = f\"monolingual/{DATASET_NAME}\"\n",
        "os.makedirs(path)\n",
        "\n",
        "with open(f\"{path}/predictions.json\", 'w') as f:\n",
        "  json.dump(list(itertools.chain(*tester.state.outputs)), f)"
      ],
      "metadata": {
        "id": "1IFBFYwHNYX1"
      },
      "execution_count": null,
      "outputs": []
    },
    {
      "cell_type": "code",
      "source": [
        "!zip -r monolingual.zip monolingual"
      ],
      "metadata": {
        "id": "RMgEhn29WMl2",
        "colab": {
          "base_uri": "https://localhost:8080/"
        },
        "outputId": "66ad20ec-6c46-40ca-ccbf-62f7ac90b9ee"
      },
      "execution_count": null,
      "outputs": [
        {
          "output_type": "stream",
          "name": "stdout",
          "text": [
            "  adding: monolingual/ (stored 0%)\n",
            "  adding: monolingual/opener_es/ (stored 0%)\n",
            "  adding: monolingual/opener_es/predictions.json (deflated 83%)\n",
            "  adding: monolingual/norec/ (stored 0%)\n",
            "  adding: monolingual/norec/predictions.json (deflated 80%)\n",
            "  adding: monolingual/multibooked_eu/ (stored 0%)\n",
            "  adding: monolingual/multibooked_eu/predictions.json (deflated 84%)\n",
            "  adding: monolingual/multibooked_ca/ (stored 0%)\n",
            "  adding: monolingual/multibooked_ca/predictions.json (deflated 83%)\n"
          ]
        }
      ]
    },
    {
      "cell_type": "markdown",
      "source": [
        "## Out of Dataset Example"
      ],
      "metadata": {
        "id": "_WRS9j9cR1bA"
      }
    },
    {
      "cell_type": "code",
      "source": [
        "@torch.no_grad()\n",
        "def predict(text: Union[List[str], str]) -> SentimentGraph:\n",
        "\n",
        "  if type(text) == str:\n",
        "    text = [text]\n",
        "  ptm_input = tokenizer(text, padding=True, return_tensors='pt')\n",
        "  ptm_input[\"input_ids\"] = ptm_input[\"input_ids\"].to(DEVICE)\n",
        "  ptm_input[\"attention_mask\"] = ptm_input[\"attention_mask\"].to(DEVICE)\n",
        "  padding_mask = tokenizer(text, padding=True, return_tensors='pt',\n",
        "                          add_special_tokens=False)[\"attention_mask\"].to(DEVICE)\n",
        "  inputs = {'ptm_input': ptm_input, 'padding_mask': padding_mask}\n",
        "  model.eval()\n",
        "  base_output = model.base(inputs[\"ptm_input\"])\n",
        "  node_predictor_out = model.novelty['node_predictor'](base_output)\n",
        "  return model.predict(inputs, StructuredSentimentPredictor.Output(node_predictor_out, None))[0]"
      ],
      "metadata": {
        "id": "32pPA2LERMS5"
      },
      "execution_count": null,
      "outputs": []
    },
    {
      "cell_type": "code",
      "source": [
        "predict(\"I love this book!\")"
      ],
      "metadata": {
        "id": "3bVeQHpGR6s3"
      },
      "execution_count": null,
      "outputs": []
    },
    {
      "cell_type": "markdown",
      "source": [
        "# Sweep"
      ],
      "metadata": {
        "id": "NZLv8q35UKQ_"
      }
    },
    {
      "cell_type": "code",
      "source": [
        "dataset_names_map = {'opener_en': 'Opener_En', 'opener_es': 'Opener_Es', 'norec': 'Norec',\n",
        "                     'darmstadt_unis': 'Darmstadt_unis', 'multibooked_eu': 'Multibooked_eu',\n",
        "                     'multibooked_ca': 'Multibooked_ca', 'mpqa': 'MPQA'}"
      ],
      "metadata": {
        "id": "UZ7P5c4OXJI3"
      },
      "execution_count": null,
      "outputs": []
    },
    {
      "cell_type": "code",
      "source": [
        "for random_seed in [41, 666, 1567, 4447]:\n",
        "  torch.manual_seed(random_seed)\n",
        "\n",
        "  for dataset_name in ['opener_en', 'opener_es', 'mpqa', 'darmstadt_unis', 'norec',\n",
        "                       'multibooked_ca', 'multibooked_eu']:\n",
        "    if random_seed in [41, 666, 1567]:\n",
        "      break\n",
        "    if (dataset_name in ['opener_en', 'opener_es', 'mpqa',\n",
        "                         'darmstadt_unis', 'norec', 'multibooked_ca']) and random_seed == 4447:\n",
        "      continue\n",
        "\n",
        "    DATASET_NAME = dataset_name\n",
        "\n",
        "    tokenizer = get_tokenizer(DATASET_NAME)\n",
        "\n",
        "    train_ds = SemEval2022Task10Dataset(DATASET_NAME, 'train')\n",
        "    dev_ds = SemEval2022Task10Dataset(DATASET_NAME, 'dev')\n",
        "\n",
        "    if dataset_name in ['opener_es', 'multibooked_ca', 'multibooked_eu']:\n",
        "      BATCH_SIZE = 16\n",
        "    else:\n",
        "      BATCH_SIZE = 32\n",
        "\n",
        "    train_dataloader = DataLoader(train_ds, collate_fn=collate_fn, batch_size=BATCH_SIZE)\n",
        "    dev_dataloader = DataLoader(dev_ds, collate_fn=collate_fn, batch_size= BATCH_SIZE * 2)\n",
        "\n",
        "    torch.cuda.empty_cache()\n",
        "    model = StructuredSentimentPredictor(pool_all_heads_attention=False).to(DEVICE)\n",
        "\n",
        "    optimizer_parameter_groups = [\n",
        "      {'params': list(model.base.parameters())},\n",
        "      {'params': list(model.novelty.parameters())}\n",
        "    ]\n",
        "    optimizer = torch.optim.AdamW(optimizer_parameter_groups)\n",
        "\n",
        "    trainer = create_supervised_trainer(\n",
        "        model, optimizer, functools.partial(loss_fn, seq_label_weighted=SEQ_LABEL_WEIGHTED),\n",
        "        deterministic=True, device=DEVICE,\n",
        "        prepare_batch=train_prepare_batch, output_transform=train_output_transform\n",
        "        )\n",
        "\n",
        "    evaluator = create_supervised_evaluator(\n",
        "        model, prepare_batch=evaluate_prepare_batch,\n",
        "        device=DEVICE, output_transform=evaluate_output_transform\n",
        "        )\n",
        "\n",
        "    train_evaluator = create_supervised_evaluator(\n",
        "        model, prepare_batch=evaluate_prepare_batch,\n",
        "        device=DEVICE, output_transform=evaluate_output_transform\n",
        "        )\n",
        "    \n",
        "    train_loss = Average(output_transform=loss_output_transform)\n",
        "    eval_loss = Average(output_transform=loss_metric)\n",
        "    running_loss = RunningAverage(output_transform=loss_output_transform)\n",
        "    graph_f1 = F1(GraphMatchLogic(), output_transform=acc_output_transform)\n",
        "\n",
        "    train_loss.attach(trainer, 'Loss')\n",
        "    graph_f1.attach(train_evaluator, 'Graph F1')\n",
        "    eval_loss.attach(evaluator, 'Loss')\n",
        "    graph_f1.attach(evaluator, 'Graph F1')\n",
        "    running_loss.attach(trainer, 'Running Loss')\n",
        "\n",
        "    trainer.add_event_handler(Events.ITERATION_COMPLETED,\n",
        "                              TerminateOnNan(output_transform=itemgetter('loss')))\n",
        "    \n",
        "    wandb_logger = WandBLogger(entity='sadra-barikbin',\n",
        "                              project='ABSA', group=dataset_names_map[DATASET_NAME],\n",
        "                              name=f'Attentionist-{dataset_names_map[DATASET_NAME]}',\n",
        "                              tags=[dataset_names_map[DATASET_NAME], 'Warm-Up', 'StepLR'],\n",
        "                              notes='SemEval2022 Task 10 Subtask 1')\n",
        "\n",
        "    wandb_logger.attach_opt_params_handler(trainer, event_name=Events.EPOCH_COMPLETED, \n",
        "                                          optimizer=optimizer, sync=True)\n",
        "\n",
        "    wandb_logger.attach_output_handler(trainer, event_name=Events.EPOCH_COMPLETED,\n",
        "                                      tag=\"training\", metric_names=[\"Loss\"], sync=True)\n",
        "\n",
        "    wandb_logger.config['random_seed'] = random_seed\n",
        "    wandb_logger.config['batch size'] = BATCH_SIZE\n",
        "\n",
        "    metric_names = [\"Graph F1\"]\n",
        "\n",
        "    wandb_logger.attach_output_handler(train_evaluator, event_name=Events.COMPLETED,\n",
        "                                      global_step_transform=global_step_from_engine(trainer),\n",
        "                                      tag=\"training\", metric_names=metric_names, sync=True)\n",
        "\n",
        "    wandb_logger.attach_output_handler(evaluator, event_name=Events.COMPLETED,\n",
        "                                      global_step_transform=global_step_from_engine(trainer),\n",
        "                                      tag=\"evaluation\", metric_names=[\"Loss\"] + metric_names,\n",
        "                                      sync=True)\n",
        "    @trainer.on(Events.COMPLETED)\n",
        "    def close_logger():\n",
        "      wandb_logger.close()\n",
        "    \n",
        "    pbar = ProgressBar()\n",
        "    pbar.attach(trainer,metric_names=['Running Loss'])\n",
        "\n",
        "    lr_scheduler = StepParamScheduler(optimizer, 'lr', gamma=0.1, step_size=9,\n",
        "                                      save_history=True, param_group_index=1)\n",
        "    scheduler_handler = trainer.add_event_handler(\n",
        "        Events.EPOCH_COMPLETED, lr_scheduler)\n",
        "\n",
        "    wandb_logger.config['LR_scheduler'] = 'StepLR(gamma=0.5)'\n",
        "\n",
        "    base_scheduler = PiecewiseLinear(optimizer, \"lr\",\n",
        "                                    milestones_values=[(1, 1e-6), (len(train_ds) // BATCH_SIZE, 1e-4)],\n",
        "                                    param_group_index=0)\n",
        "\n",
        "    novelty_scheduler = PiecewiseLinear(optimizer, \"lr\",\n",
        "                                    milestones_values=[(1, 1e-5), (len(train_ds) // BATCH_SIZE, 1e-3)],\n",
        "                                    param_group_index=1)\n",
        "    event_filter = lambda _, event: event < (len(train_ds) // BATCH_SIZE) + 1\n",
        "    scheduler1_handler = trainer.add_event_handler(Events.ITERATION_STARTED(event_filter),\n",
        "                                                  base_scheduler)\n",
        "    scheduler2_handler = trainer.add_event_handler(Events.ITERATION_STARTED(event_filter),\n",
        "                                                  novelty_scheduler)\n",
        "\n",
        "    wandb_logger.config['LR_scheduler'] = 'Linear Warm-Up + StepLR(gamma=0.5)'\n",
        "\n",
        "    stopper = EarlyStopping(patience=6, score_function=lambda engine: engine.state.metrics['Graph F1'],\n",
        "                            trainer=trainer)\n",
        "    stopper_handle = evaluator.add_event_handler(Events.COMPLETED, stopper)\n",
        "\n",
        "    checkpointer = ModelCheckpoint(wandb_logger.run.dir,\n",
        "                                   f'Attentionist_{dataset_names_map[DATASET_NAME]}',\n",
        "                                   score_name='Graph F1', n_saved=2, require_empty=False)\n",
        "    evaluator.add_event_handler(Events.EPOCH_COMPLETED, checkpointer, {'model': model})\n",
        "\n",
        "    @trainer.on(Events.EPOCH_COMPLETED)\n",
        "    def evaluate():\n",
        "      evaluator.run(dev_dataloader)\n",
        "      train_evaluator.run(train_dataloader)\n",
        "\n",
        "    trainer.run(train_dataloader,max_epochs=20)"
      ],
      "metadata": {
        "colab": {
          "base_uri": "https://localhost:8080/",
          "height": 454,
          "referenced_widgets": [
            "9365860beb6c4ecdbdf1ea0bf6cec126",
            "f9e58b9baf65436ab85a63bb3f299f6c",
            "8ad70b819e28456689f1340e7b70d419",
            "478bbcf5d97248abbe5b79496458dcb2",
            "6c2bdb8f0f034f9a998f43f4afda3ca6",
            "5fbe737f838e4f49a1589626cf3c5ce8",
            "e96e877079e445579fe5253503113ca0",
            "255b824390554826a0e8a92d8fd7ba28",
            "e1d87e1d4f6c4b73b3919b8ee8853dcc",
            "29ec4854443945c0b0f916b4ec8aae11",
            "9b1b07cc0d6a433f80d0a4aac726b66f",
            "539c7cbac7f3451697f6b6f96fe021bb",
            "e41eb57160794ed89f8f64ae2238b56d",
            "2067996062d04cf7b78ec34749e43a5d",
            "a2e06b81d8e64c33912108f5f3b22222",
            "330a0a55256a439ca9ed5fa2170f8613",
            "b2421b3cdd924f1285beb0508b2544f1",
            "bcf03da9fc92492f947fb6df37f0914e",
            "02cb55a0e2c54a0fbdb874aa0e7dedbd",
            "09bef87133ae4d5998fd32877f60207f",
            "d65f57f1c63b4c549166875c38a5014d",
            "f35f7a5566ff4a6581ea30636367696d",
            "fe9d253630a7477baebdb31428582741",
            "4688dda92d494984afc5da8057b2470f",
            "9f490a5b606640e0a865ec7104cd5137",
            "ff0bb45fa7c34f34a267ec0cc9b5eead",
            "bf40d4920aaa4627902793304ac2e4ed",
            "56ea06bb6a3c44eea3ae222af564367b",
            "7c86a97afeb34fb8968f750c7c37b2ad",
            "1aa43c8fd0fc4051935a70c7d45132e7",
            "67b0426386114f4cad304b20e6842162",
            "e7fabffa452d4e60bfaa382020088519",
            "3014bed6eebb4c14bf581b3297688c75",
            "a83390d056f3434ab4c847534f43c5ce",
            "3b54c39cb14e4bc7aa17681c58d1c89c",
            "8d0110cb66fd44e995fd2d4bb004048d",
            "0bb0552d3b704b7092df04665e5bb253",
            "471b1ba0f0db46b0b83b10fa73a91081",
            "371d1fe10c59438dba004aa0caf53ed1",
            "bf4ba63f5ef846529c72e9ed28e61e08",
            "e038d6118f87483aa5e91e6b42023259",
            "d3cdaf0612044b2681bdfc38263635b8",
            "60803e5ba1f940d18822189fe8f85cb9",
            "9b125c5a444f45bbae94aebce3e7c756",
            "4d12fb44f18a4627863e3b3ea9308c1d",
            "01338e5d90cd48d0920b83c8b2c909d4",
            "89c8ea597c4d466fa9196c9542d279ca",
            "d1bae78193d64877a75419c9eff8ec46",
            "8329ea717b6c47e79cbb775b3c003fb7",
            "7db034d5b9d24c84b7b4e98382039427",
            "18179174511f4b75adaf91f8e21de58c",
            "5390a80c632b4984bb23b1835ed4e376",
            "028ac8ae801449b3b6622ace6e4281ca",
            "ec57d07eb093411eb357ef6804c7ab39",
            "c23386723548402e89f7a601eb1af8f4",
            "828114b972e54e7e859a1f178ae974b5",
            "4021f04062cc4fde8932fe62ffe9a2e9",
            "da046e5ca3e1456887c851cca8759c67",
            "7eab3f63adbc4715aeae8becc5308abd",
            "d2bdc2708121410f8cd5c3cfc1ea892a",
            "acdf99f9aa454af38b4f2b4ea813697c",
            "f82f1c756f614449a5e393cdf0fea97d",
            "e7c79c2fdc6a40e78063b39c4ed67032",
            "dce48c67e0f1421f8ab17f35ece08e74",
            "0164a332cf2947d7ae14770f95fdfa9c",
            "0b82667a3d564f2cb8c5e76b4430303b",
            "0f7de4e034a24a56a1e038008da87a4c",
            "f0acf7ce2b804c56a64b39e29422b818",
            "12137ad232cb46dda987cd6180b8f381",
            "737065b7683f42ea943e48b82191869c",
            "f86171daafff450a812bc85e1ffaee98",
            "0ad07d92b5b34ab4ace9e1e45810baa9",
            "d732121581c0452fa56f6befe3809852",
            "d9deb65f51ed452d84ea60a9467d9f27",
            "4ea9f88bf3c2485fa105b8c36afe6d3e",
            "afd4e4d1b05246b8b2af0f2214a0c190",
            "5f18dea3f14e426e8502ceda697dd6da",
            "013577faf0d7436286b5255814ab241b",
            "de1e01dbe904428898e136beec3a79bc",
            "ca107beeeedb4885bd1e9451ce9777d6",
            "27cc942683e04b32b78e7ce4702767ce",
            "e4213a76833440ce9f04b6573969331c",
            "77bdff623b954904afca48593d92650b",
            "d1f72efc372d470fa70b3e08f180362a",
            "f3cf12187bbe4c4380c4f29d5f546d7b",
            "9eb74476b0ab4ccfbd596371eb052ab1",
            "0709ee22075f44239e7ad32520d51aff",
            "a06fb12cca1b4818bfe29c1e16c00ae1",
            "8e175a27b0f8435e8c5002f03c331858",
            "ce12fedaf3d349bbbc8720b21086c6be",
            "187661f8a27a42218dfaab601ceef6ec",
            "2d3e9d236d0e44afafd0cb394c89caf9",
            "bd05d11a92574cf99f9bbd3c3c1f6e32",
            "8cc107217c224dedae036eb9abdcb842",
            "8381e5542a014091bd260ff2eac74d83",
            "1ab071766f0c4347977b283b7111a52f",
            "2f5007c407e74b868430f47e3216d974",
            "73d592196b5a414098a8787775b44279",
            "e71004e030584e2aba17a8e06bda10a9",
            "59fdfe849a934dd9bdc87c8b33ee76f2",
            "e581038cd3a241809e70e5e3017a0af5",
            "7da5d31b72b14a72bbfc4ce3e50b6e59",
            "c50e22a6a1b04741a0388f05b329c47b",
            "8b057148228543539acd509a0e04969f",
            "da24f57db0c743de823723613df39ef4",
            "81e7b56111eb47f5acb71ff93a312526",
            "e051bbe1c9fa49cf9c98de51467f3f7d",
            "f755df10fdf542adae780a2604ed3feb",
            "ac5d763be7834074a4cc20d812cbf996",
            "b51f15f2ca124218a7de8d9836e9c90b",
            "1dfa5e04c82e44dc8fbd7deb58757b62",
            "b74866c57d494d99a84486f977d60887",
            "09f07a30604d4b579c9c9899594e3324",
            "49bc4a1d9d954036b88edb3147bbc616",
            "123649c123bb4454818e08a5dc83a170",
            "0819c26ab4504a868c3e45d41a104e19",
            "5a1aade282934341a7bf5083f5053fc0",
            "af0d656d06e94f12b202e966f5110f7c",
            "a3f9e98fb7c84daca6a2c98819f73d57",
            "a90a75f948f54c7c85a31a70e1a27c54",
            "04610bf84bbc49349d14a8217bf99809",
            "a0f22560337748c0a3db93ecc5a02e7c",
            "2be890ad1a434c47a07aae393c2591cf",
            "4dbcb472f7e0464db4e959e173f1a67e",
            "c7f98d43b4e04d6cb8576b8669a7f382",
            "b52598197f85473a9514ae91761d9639",
            "4e0ab19fe92c435abf688301cd2c4663",
            "34e611c2ba44421e8e69906e7fb01a0b",
            "ec3a815bf97946cc92956b322b20d0e7"
          ]
        },
        "id": "Ule1T2-6UsC8",
        "outputId": "1a936124-ada1-4099-ac8b-7c0227fc4e99"
      },
      "execution_count": null,
      "outputs": [
        {
          "output_type": "stream",
          "name": "stderr",
          "text": [
            "Some weights of the model checkpoint at setu4993/LaBSE were not used when initializing BertModel: ['pooler.dense.weight', 'pooler.dense.bias']\n",
            "- This IS expected if you are initializing BertModel from the checkpoint of a model trained on another task or with another architecture (e.g. initializing a BertForSequenceClassification model from a BertForPreTraining model).\n",
            "- This IS NOT expected if you are initializing BertModel from the checkpoint of a model that you expect to be exactly identical (initializing a BertForSequenceClassification model from a BertForSequenceClassification model).\n",
            "\u001b[34m\u001b[1mwandb\u001b[0m: Currently logged in as: \u001b[33msadra-barikbin\u001b[0m (use `wandb login --relogin` to force relogin)\n"
          ]
        },
        {
          "output_type": "display_data",
          "data": {
            "text/html": [
              "\n",
              "                    Syncing run <strong><a href=\"https://wandb.ai/sadra-barikbin/ABSA/runs/jio2e34w\" target=\"_blank\">Attentionist-Multibooked_eu</a></strong> to <a href=\"https://wandb.ai/sadra-barikbin/ABSA\" target=\"_blank\">Weights & Biases</a> (<a href=\"https://docs.wandb.com/integrations/jupyter.html\" target=\"_blank\">docs</a>).<br/>\n",
              "\n",
              "                "
            ],
            "text/plain": [
              "<IPython.core.display.HTML object>"
            ]
          },
          "metadata": {}
        },
        {
          "output_type": "display_data",
          "data": {
            "application/vnd.jupyter.widget-view+json": {
              "model_id": "9365860beb6c4ecdbdf1ea0bf6cec126",
              "version_minor": 0,
              "version_major": 2
            },
            "text/plain": [
              "[1/57]   2%|1          [00:00<?]"
            ]
          },
          "metadata": {}
        },
        {
          "output_type": "display_data",
          "data": {
            "application/vnd.jupyter.widget-view+json": {
              "model_id": "539c7cbac7f3451697f6b6f96fe021bb",
              "version_minor": 0,
              "version_major": 2
            },
            "text/plain": [
              "[1/57]   2%|1          [00:00<?]"
            ]
          },
          "metadata": {}
        },
        {
          "output_type": "display_data",
          "data": {
            "application/vnd.jupyter.widget-view+json": {
              "model_id": "fe9d253630a7477baebdb31428582741",
              "version_minor": 0,
              "version_major": 2
            },
            "text/plain": [
              "[1/57]   2%|1          [00:00<?]"
            ]
          },
          "metadata": {}
        },
        {
          "output_type": "display_data",
          "data": {
            "application/vnd.jupyter.widget-view+json": {
              "model_id": "a83390d056f3434ab4c847534f43c5ce",
              "version_minor": 0,
              "version_major": 2
            },
            "text/plain": [
              "[1/57]   2%|1          [00:00<?]"
            ]
          },
          "metadata": {}
        },
        {
          "output_type": "display_data",
          "data": {
            "application/vnd.jupyter.widget-view+json": {
              "model_id": "4d12fb44f18a4627863e3b3ea9308c1d",
              "version_minor": 0,
              "version_major": 2
            },
            "text/plain": [
              "[1/57]   2%|1          [00:00<?]"
            ]
          },
          "metadata": {}
        },
        {
          "output_type": "display_data",
          "data": {
            "application/vnd.jupyter.widget-view+json": {
              "model_id": "828114b972e54e7e859a1f178ae974b5",
              "version_minor": 0,
              "version_major": 2
            },
            "text/plain": [
              "[1/57]   2%|1          [00:00<?]"
            ]
          },
          "metadata": {}
        },
        {
          "output_type": "display_data",
          "data": {
            "application/vnd.jupyter.widget-view+json": {
              "model_id": "0f7de4e034a24a56a1e038008da87a4c",
              "version_minor": 0,
              "version_major": 2
            },
            "text/plain": [
              "[1/57]   2%|1          [00:00<?]"
            ]
          },
          "metadata": {}
        },
        {
          "output_type": "display_data",
          "data": {
            "application/vnd.jupyter.widget-view+json": {
              "model_id": "013577faf0d7436286b5255814ab241b",
              "version_minor": 0,
              "version_major": 2
            },
            "text/plain": [
              "[1/57]   2%|1          [00:00<?]"
            ]
          },
          "metadata": {}
        },
        {
          "output_type": "display_data",
          "data": {
            "application/vnd.jupyter.widget-view+json": {
              "model_id": "8e175a27b0f8435e8c5002f03c331858",
              "version_minor": 0,
              "version_major": 2
            },
            "text/plain": [
              "[1/57]   2%|1          [00:00<?]"
            ]
          },
          "metadata": {}
        },
        {
          "output_type": "display_data",
          "data": {
            "application/vnd.jupyter.widget-view+json": {
              "model_id": "59fdfe849a934dd9bdc87c8b33ee76f2",
              "version_minor": 0,
              "version_major": 2
            },
            "text/plain": [
              "[1/57]   2%|1          [00:00<?]"
            ]
          },
          "metadata": {}
        },
        {
          "output_type": "display_data",
          "data": {
            "application/vnd.jupyter.widget-view+json": {
              "model_id": "1dfa5e04c82e44dc8fbd7deb58757b62",
              "version_minor": 0,
              "version_major": 2
            },
            "text/plain": [
              "[1/57]   2%|1          [00:00<?]"
            ]
          },
          "metadata": {}
        },
        {
          "output_type": "stream",
          "name": "stderr",
          "text": [
            "2022-03-01 13:36:16,279 ignite.handlers.early_stopping.EarlyStopping INFO: EarlyStopping: Stop training\n"
          ]
        },
        {
          "output_type": "display_data",
          "data": {
            "text/html": [
              "<br/>Waiting for W&B process to finish, PID 7039... <strong style=\"color:green\">(success).</strong>"
            ],
            "text/plain": [
              "<IPython.core.display.HTML object>"
            ]
          },
          "metadata": {}
        },
        {
          "output_type": "display_data",
          "data": {
            "application/vnd.jupyter.widget-view+json": {
              "model_id": "a0f22560337748c0a3db93ecc5a02e7c",
              "version_minor": 0,
              "version_major": 2
            },
            "text/plain": [
              "VBox(children=(Label(value=' 0.00MB of 0.00MB uploaded (0.00MB deduped)\\r'), FloatProgress(value=1.0, max=1.0)…"
            ]
          },
          "metadata": {}
        },
        {
          "output_type": "display_data",
          "data": {
            "text/html": [
              "<style>\n",
              "    table.wandb td:nth-child(1) { padding: 0 10px; text-align: right }\n",
              "    .wandb-row { display: flex; flex-direction: row; flex-wrap: wrap; width: 100% }\n",
              "    .wandb-col { display: flex; flex-direction: column; flex-basis: 100%; flex: 1; padding: 10px; }\n",
              "    </style>\n",
              "<div class=\"wandb-row\"><div class=\"wandb-col\">\n",
              "<h3>Run history:</h3><br/><table class=\"wandb\"><tr><td>evaluation/Graph F1</td><td>▁▆▇▇███████</td></tr><tr><td>evaluation/Loss</td><td>█▃▃▂▂▃▃▂▁▂▂</td></tr><tr><td>lr/group_0</td><td>▁▁▁▁▁▁▁▁▁▁▁</td></tr><tr><td>lr/group_1</td><td>█████████▁▁</td></tr><tr><td>training/Graph F1</td><td>▁▅▆▆▇▇▇▇█▇█</td></tr><tr><td>training/Loss</td><td>█▅▄▃▂▂▂▂▁▁▁</td></tr></table><br/></div><div class=\"wandb-col\">\n",
              "<h3>Run summary:</h3><br/><table class=\"wandb\"><tr><td>evaluation/Graph F1</td><td>0.61943</td></tr><tr><td>evaluation/Loss</td><td>7.27365</td></tr><tr><td>lr/group_0</td><td>0.0001</td></tr><tr><td>lr/group_1</td><td>0.0001</td></tr><tr><td>training/Graph F1</td><td>0.80496</td></tr><tr><td>training/Loss</td><td>2.82558</td></tr></table>\n",
              "</div></div>\n",
              "Synced 5 W&B file(s), 0 media file(s), 0 artifact file(s) and 2 other file(s)\n",
              "<br/>Synced <strong style=\"color:#cdcd00\">Attentionist-Multibooked_eu</strong>: <a href=\"https://wandb.ai/sadra-barikbin/ABSA/runs/jio2e34w\" target=\"_blank\">https://wandb.ai/sadra-barikbin/ABSA/runs/jio2e34w</a><br/>\n",
              "Find logs at: <code>./wandb/run-20220301_133236-jio2e34w/logs</code><br/>\n"
            ],
            "text/plain": [
              "<IPython.core.display.HTML object>"
            ]
          },
          "metadata": {}
        }
      ]
    }
  ]
}